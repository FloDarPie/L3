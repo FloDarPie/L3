{
 "cells": [
  {
   "cell_type": "code",
   "execution_count": 1,
   "metadata": {},
   "outputs": [],
   "source": [
    "def projetOrthoBOG(X,B):\n",
    "    #base ortogonale, alors la matrice est diagonale\n",
    "    Y=vector([0]*len(X))\n",
    "    for ei in (B):\n",
    "        Y+=((X.dot_product(ei)) / (ei.dot_product(ei))*ei)\n",
    "    return Y"
   ]
  },
  {
   "cell_type": "code",
   "execution_count": 2,
   "metadata": {},
   "outputs": [],
   "source": [
    "def Gram_Schimdt(B):\n",
    "\n",
    "    BOG = [B[0]]\n",
    "    \n",
    "    for ei in B[1:]:\n",
    "        E = ei - projetOrthoBOG(ei,BOG)\n",
    "        #si la famille est lié, ce vecteur peut être nul\n",
    "        if E!=0:\n",
    "            BOG.append(E)\n",
    "    return BOG"
   ]
  },
  {
   "cell_type": "code",
   "execution_count": 44,
   "metadata": {},
   "outputs": [],
   "source": [
    "def diagonalisationOrthonorme(A):\n",
    "    D,oldP = A.eigenmatrix_right() #diago simple\n",
    "    taille=range(len(oldP[0]))\n",
    "   \n",
    "    preP = [vector([oldP[i][j] for i in taille]) for j in taille] #recuperation des vecteurs de P\n",
    "    \n",
    "    pretty_print(preP)\n",
    "    \n",
    "    P = matrix(Gram_Schimdt(preP)) #ortoghonalisation\n",
    "    \n",
    "    #normé chaque vecteur de P\n",
    "    \n",
    "    postP = [vector([P[i][j] for i in taille]) for j in taille]\n",
    "    \n",
    "    pretty_print(postP)\n",
    "    \n",
    "    for l in range(len(postP)):\n",
    "        n = 0 #norme\n",
    "        for u in postP[l]:\n",
    "            n+=u*u\n",
    "            \n",
    "        postP[l] *= n #appliqer la norme aux vecteurs de la base orthogonale\n",
    "    \n",
    "    pretty_print(postP)\n",
    "    postP = matrix(postP)\n",
    "    return postP,D,transpose(postP)"
   ]
  },
  {
   "cell_type": "code",
   "execution_count": 45,
   "metadata": {},
   "outputs": [
    {
     "data": {
      "text/html": [
       "<html><script type=\"math/tex; mode=display\">\\newcommand{\\Bold}[1]{\\mathbf{#1}}\\left[\\left(1,\\,1,\\,1\\right), \\left(1,\\,0,\\,-1\\right), \\left(0,\\,1,\\,-1\\right)\\right]</script></html>"
      ],
      "text/plain": [
       "[(1, 1, 1), (1, 0, -1), (0, 1, -1)]"
      ]
     },
     "metadata": {},
     "output_type": "display_data"
    },
    {
     "data": {
      "text/html": [
       "<html><script type=\"math/tex; mode=display\">\\newcommand{\\Bold}[1]{\\mathbf{#1}}\\left[\\left(1,\\,1,\\,-\\frac{1}{2}\\right), \\left(1,\\,0,\\,1\\right), \\left(1,\\,-1,\\,-\\frac{1}{2}\\right)\\right]</script></html>"
      ],
      "text/plain": [
       "[(1, 1, -1/2), (1, 0, 1), (1, -1, -1/2)]"
      ]
     },
     "metadata": {},
     "output_type": "display_data"
    },
    {
     "data": {
      "text/html": [
       "<html><script type=\"math/tex; mode=display\">\\newcommand{\\Bold}[1]{\\mathbf{#1}}\\left[\\left(\\frac{9}{4},\\,\\frac{9}{4},\\,-\\frac{9}{8}\\right), \\left(2,\\,0,\\,2\\right), \\left(\\frac{9}{4},\\,-\\frac{9}{4},\\,-\\frac{9}{8}\\right)\\right]</script></html>"
      ],
      "text/plain": [
       "[(9/4, 9/4, -9/8), (2, 0, 2), (9/4, -9/4, -9/8)]"
      ]
     },
     "metadata": {},
     "output_type": "display_data"
    },
    {
     "data": {
      "text/html": [
       "<html><script type=\"math/tex; mode=display\">\\newcommand{\\Bold}[1]{\\mathbf{#1}}\\left(\\left(\\begin{array}{rrr}\n",
       "\\frac{9}{4} & \\frac{9}{4} & -\\frac{9}{8} \\\\\n",
       "2 & 0 & 2 \\\\\n",
       "\\frac{9}{4} & -\\frac{9}{4} & -\\frac{9}{8}\n",
       "\\end{array}\\right), \\left(\\begin{array}{rrr}\n",
       "2 & 0 & 0 \\\\\n",
       "0 & -1 & 0 \\\\\n",
       "0 & 0 & -1\n",
       "\\end{array}\\right), \\left(\\begin{array}{rrr}\n",
       "\\frac{9}{4} & 2 & \\frac{9}{4} \\\\\n",
       "\\frac{9}{4} & 0 & -\\frac{9}{4} \\\\\n",
       "-\\frac{9}{8} & 2 & -\\frac{9}{8}\n",
       "\\end{array}\\right)\\right)</script></html>"
      ],
      "text/plain": [
       "(\n",
       "[ 9/4  9/4 -9/8]  [ 2  0  0]  [ 9/4    2  9/4]\n",
       "[   2    0    2]  [ 0 -1  0]  [ 9/4    0 -9/4]\n",
       "[ 9/4 -9/4 -9/8], [ 0  0 -1], [-9/8    2 -9/8]\n",
       ")"
      ]
     },
     "metadata": {},
     "output_type": "display_data"
    }
   ],
   "source": [
    "A = matrix([\n",
    "    [0,1,1],\n",
    "    [1,0,1],\n",
    "    [1,1,0]\n",
    "])\n",
    "\n",
    "B = diagonalisationOrthonorme(A)\n",
    "show(B)"
   ]
  },
  {
   "cell_type": "code",
   "execution_count": null,
   "metadata": {},
   "outputs": [],
   "source": []
  },
  {
   "cell_type": "code",
   "execution_count": null,
   "metadata": {},
   "outputs": [],
   "source": []
  }
 ],
 "metadata": {
  "kernelspec": {
   "display_name": "SageMath 9.0",
   "language": "sage",
   "name": "sagemath"
  },
  "language_info": {
   "codemirror_mode": {
    "name": "ipython",
    "version": 3
   },
   "file_extension": ".py",
   "mimetype": "text/x-python",
   "name": "python",
   "nbconvert_exporter": "python",
   "pygments_lexer": "ipython3",
   "version": "3.8.10"
  }
 },
 "nbformat": 4,
 "nbformat_minor": 4
}
