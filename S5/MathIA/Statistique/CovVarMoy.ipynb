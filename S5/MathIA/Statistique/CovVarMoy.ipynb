{
 "cells": [
  {
   "cell_type": "markdown",
   "metadata": {},
   "source": [
    "Calcul de l'esperance"
   ]
  },
  {
   "cell_type": "code",
   "execution_count": 1,
   "metadata": {},
   "outputs": [],
   "source": [
    "def esp(P):\n",
    "    e=0\n",
    "    for i in P:\n",
    "        e+=i*P[i]\n",
    "    # à compléter\n",
    "    return e"
   ]
  },
  {
   "cell_type": "markdown",
   "metadata": {},
   "source": [
    "Calul des lois conditionnelles"
   ]
  },
  {
   "cell_type": "code",
   "execution_count": 2,
   "metadata": {},
   "outputs": [],
   "source": [
    "def loiConditionnelle(X,Y):\n",
    "    lc = {}\n",
    "    for xi in X:\n",
    "        for yi in Y:\n",
    "            lc[xi,yi] = X[xi]*Y[yi]\n",
    "    return lc"
   ]
  },
  {
   "cell_type": "markdown",
   "metadata": {},
   "source": [
    "Calcul de la covariance"
   ]
  },
  {
   "cell_type": "code",
   "execution_count": 21,
   "metadata": {},
   "outputs": [],
   "source": [
    "def covariance(X,Y):\n",
    "    eXY = {}\n",
    "    eX = esp(X)\n",
    "    eY = esp(Y)\n",
    "    \n",
    "    #calcul de l'esperance de XY\n",
    "    #---------------------------\n",
    "    #construction du dico de XY\n",
    "    for xi in X:\n",
    "        for yi in Y:\n",
    "            cle = xi*yi\n",
    "            resultat = X[xi]*Y[yi] #on doit recupérer le couple [xi,yi] dans la matrice de loi conjointe\n",
    "            print(cle,resultat)\n",
    "            '''\n",
    "            if cle in eXY:\n",
    "                eXY[cle] += resultat\n",
    "            else:\n",
    "                eXY[cle] = resultat\n",
    "            '''\n",
    "            try:\n",
    "                #a = eXY[cle]\n",
    "                eXY[cle] += resultat\n",
    "            except KeyError :\n",
    "                eXY[cle] = resultat\n",
    "            \n",
    "    #recuperation de l'esperance\n",
    "    eXY = esp(eXY)\n",
    "    #----------------------------\n",
    "    print(\"eXY =\",eXY,\"|ex =\",eX,\"|ey =\",eY)\n",
    "    return eXY - eX*eY"
   ]
  },
  {
   "cell_type": "code",
   "execution_count": 22,
   "metadata": {},
   "outputs": [],
   "source": [
    "X = {0:0.07,1:0.35,2:0.34,3:0.18,4:0.06}\n",
    "Y = {0:0.1,1:0.2,2:0.5,3:0.17,4:0.03}\n",
    "\n",
    "#print(covariance(X,Y))"
   ]
  },
  {
   "cell_type": "code",
   "execution_count": 23,
   "metadata": {},
   "outputs": [
    {
     "name": "stdout",
     "output_type": "stream",
     "text": [
      "0 0.0600000000000000\n",
      "0 0.180000000000000\n",
      "0 0.360000000000000\n",
      "0 0.0300000000000000\n",
      "1 0.0900000000000000\n",
      "2 0.180000000000000\n",
      "0 0.0100000000000000\n",
      "2 0.0300000000000000\n",
      "4 0.0600000000000000\n",
      "eXY = 0.750000000000000 |ex = 0.500000000000000 |ey = 1.50000000000000\n",
      "0.000000000000000\n"
     ]
    }
   ],
   "source": [
    "X = {0:0.6, 1:0.3, 2:0.1}\n",
    "Y = {0:0.1, 1:0.3, 2:0.6}\n",
    "\n",
    "print(covariance(X,Y))"
   ]
  },
  {
   "cell_type": "code",
   "execution_count": null,
   "metadata": {},
   "outputs": [],
   "source": []
  }
 ],
 "metadata": {
  "kernelspec": {
   "display_name": "Python 3 (ipykernel)",
   "language": "python",
   "name": "python3"
  },
  "language_info": {
   "codemirror_mode": {
    "name": "ipython",
    "version": 3
   },
   "file_extension": ".py",
   "mimetype": "text/x-python",
   "name": "python",
   "nbconvert_exporter": "python",
   "pygments_lexer": "ipython3",
   "version": "3.10.2"
  }
 },
 "nbformat": 4,
 "nbformat_minor": 4
}
