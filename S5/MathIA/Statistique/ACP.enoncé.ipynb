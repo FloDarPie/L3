{
 "cells": [
  {
   "cell_type": "markdown",
   "metadata": {},
   "source": [
    "# Statistiques et Analyse en Composante Principale"
   ]
  },
  {
   "cell_type": "markdown",
   "metadata": {},
   "source": [
    "### On donne les fonctions du TP précédent"
   ]
  },
  {
   "cell_type": "code",
   "execution_count": 1,
   "metadata": {},
   "outputs": [],
   "source": [
    "# Ecrire une fonction donnant la moyenne d'une série statistique\n",
    "def moy(X):\n",
    "    e=0\n",
    "    n=len(X)\n",
    "    for i in range(n):\n",
    "        e+=X[i]\n",
    "    return e/n"
   ]
  },
  {
   "cell_type": "code",
   "execution_count": 2,
   "metadata": {},
   "outputs": [],
   "source": [
    "# La variance d'une série statistique:\n",
    "def varS(X):\n",
    "    v=0\n",
    "    n=len(X)\n",
    "    m=moy(X)\n",
    "    for i in range(n):\n",
    "        v+=(X[i]-m)^2\n",
    "    return v/n"
   ]
  },
  {
   "cell_type": "code",
   "execution_count": 3,
   "metadata": {},
   "outputs": [],
   "source": [
    "# l'écart-type\n",
    "def ecTypeS(X):\n",
    "    return sqrt(varS(X))"
   ]
  },
  {
   "cell_type": "code",
   "execution_count": 4,
   "metadata": {},
   "outputs": [],
   "source": [
    "# Ecrire une fonction donnant la loi marginals  P(X=a) à partir des lois conjointes \n",
    "def margX(a,Y,C):\n",
    "    s=0\n",
    "    for j in Y:\n",
    "        s+=C[(a,j)]\n",
    "    return s"
   ]
  },
  {
   "cell_type": "code",
   "execution_count": 5,
   "metadata": {},
   "outputs": [],
   "source": [
    "# Toutes les lois marginales de X sous forme d'un dictionnaire\n",
    "def MargX(X,Y,C):\n",
    "    return {i:margX(i,Y,C) for i in X}"
   ]
  },
  {
   "cell_type": "code",
   "execution_count": 6,
   "metadata": {},
   "outputs": [],
   "source": [
    "# idem pour Y\n",
    "def margY(b,X,C):\n",
    "    s=0\n",
    "    for i in X:\n",
    "        s+=C[(i,b)]\n",
    "    return s"
   ]
  },
  {
   "cell_type": "code",
   "execution_count": 7,
   "metadata": {},
   "outputs": [],
   "source": [
    "# Calcul des lois marginales de Y à partir de la matrice conjointe\n",
    "def MargY(X,Y,C):\n",
    "    return {j:margY(j,X,C) for j in Y}"
   ]
  },
  {
   "cell_type": "code",
   "execution_count": 8,
   "metadata": {},
   "outputs": [],
   "source": [
    "# Ecrire une fonction calculant la covariance d'un couple de séries statistiques\n",
    "def covS(X,Y):\n",
    "    #moyenne(xy) - moyenne(x)*moyenne(-y)\n",
    "    n = len(X)\n",
    "    cov = 0\n",
    "    xbarre = moy(X)\n",
    "    ybarre = moy(Y)\n",
    "    for i in range(n):\n",
    "        cov+= (X[i]-xbarre)*(Y[i]-ybarre)\n",
    "    \n",
    "    return 1/n * cov"
   ]
  },
  {
   "cell_type": "code",
   "execution_count": 20,
   "metadata": {},
   "outputs": [],
   "source": [
    "# et le Coefficient de corrélation d'une série statistique\n",
    "# cov(X,Y) / ( sqrt(var(X)) * sqrt(var(Y)) )\n",
    "def corS(X,Y):\n",
    "    a = covS(X,Y) /( ecTypeS(X) * ecTypeS(Y) )\n",
    "    return a"
   ]
  },
  {
   "cell_type": "code",
   "execution_count": 40,
   "metadata": {},
   "outputs": [],
   "source": [
    "# Construction de la matrice de covariance \n",
    "def matCov(D):\n",
    "    mat=[]\n",
    "    for x in D:\n",
    "        L = []\n",
    "        for y in D:\n",
    "            if x==y:\n",
    "                L.append(varS(D[x]))\n",
    "            else:\n",
    "                L.append(RR(covS(D[x],D[y])))\n",
    "        mat.append(L)\n",
    "    A = matrix(mat)\n",
    "    return A"
   ]
  },
  {
   "cell_type": "code",
   "execution_count": 84,
   "metadata": {},
   "outputs": [],
   "source": [
    "# et de la matrice de corrélation\n",
    "def matCor(D):\n",
    "    mat=[]\n",
    "    for x in D:\n",
    "        L = []\n",
    "        for y in D:\n",
    "            if x==y:\n",
    "                L.append(1)\n",
    "            else:\n",
    "                L.append(RR(corS(D[x],D[y])))\n",
    "        mat.append(L)\n",
    "    A = matrix(mat)\n",
    "    return A"
   ]
  },
  {
   "cell_type": "markdown",
   "metadata": {},
   "source": [
    "## Exercice 1 "
   ]
  },
  {
   "cell_type": "code",
   "execution_count": 85,
   "metadata": {},
   "outputs": [],
   "source": [
    "# Etude qualitative de 4 variables aléatoires couplées\n",
    "data={1:[0,1,2,3,4,5,6,7,8,9,10] ,\n",
    "  2:[2.04,3.02,4.15,4.97,6.02,7.08,8.12,9.14,10.13,10.86,11.89],\n",
    "  3:[5.01,7.93,3.27,20.50,11.33,12.41,16.74,11.39,16.61,11.48,23.59],\n",
    "  4:[7.45,8.20,2.09,9.03,7.99,8.58,9.63,5.06,2.49,8.22,8.01],\n",
    "  5:[10.04,9.02,8.97,8.15,6.02,5.08,4.12,3.14,2.86,2.13,1.89]}"
   ]
  },
  {
   "cell_type": "code",
   "execution_count": 86,
   "metadata": {},
   "outputs": [
    {
     "data": {
      "text/html": [
       "<html><script type=\"math/tex; mode=display\">\\newcommand{\\Bold}[1]{\\mathbf{#1}}\\left(\\begin{array}{rrrrr}\n",
       "10.0000000000000 & 9.90818181818182 & 12.2100000000000 & -0.201818181818181 & -8.96000000000000 \\\\\n",
       "9.90818181818182 & 9.82534214876033 & 11.9971925619835 & -0.331259504132232 & -8.89960247933884 \\\\\n",
       "12.2100000000000 & 11.9971925619835 & 35.1811537190083 & 5.10836611570248 & -10.2181851239669 \\\\\n",
       "-0.201818181818181 & -0.331259504132232 & 5.10836611570248 & 6.07921983471074 & -0.0382900826446289 \\\\\n",
       "-8.96000000000000 & -8.89960247933884 & -10.2181851239669 & -0.0382900826446289 & 8.29707768595041\n",
       "\\end{array}\\right)</script></html>"
      ],
      "text/plain": [
       "[   10.0000000000000    9.90818181818182    12.2100000000000  -0.201818181818181   -8.96000000000000]\n",
       "[   9.90818181818182    9.82534214876033    11.9971925619835  -0.331259504132232   -8.89960247933884]\n",
       "[   12.2100000000000    11.9971925619835    35.1811537190083    5.10836611570248   -10.2181851239669]\n",
       "[ -0.201818181818181  -0.331259504132232    5.10836611570248    6.07921983471074 -0.0382900826446289]\n",
       "[  -8.96000000000000   -8.89960247933884   -10.2181851239669 -0.0382900826446289    8.29707768595041]"
      ]
     },
     "metadata": {},
     "output_type": "display_data"
    }
   ],
   "source": [
    "pretty_print(matCov(data))"
   ]
  },
  {
   "cell_type": "code",
   "execution_count": 87,
   "metadata": {},
   "outputs": [
    {
     "data": {
      "text/html": [
       "<html><script type=\"math/tex; mode=display\">\\newcommand{\\Bold}[1]{\\mathbf{#1}}\\left(\\begin{array}{rrrrr}\n",
       "1.00000000000000 & 0.999585910639362 & 0.650969476394899 & -0.0258842964468328 & -0.983660951392354 \\\\\n",
       "0.999585910639362 & 1.00000000000000 & 0.645283781109229 & -0.0428618174009167 & -0.985676014953601 \\\\\n",
       "0.650969476394899 & 0.645283781109229 & 1.00000000000000 & 0.349303592720272 & -0.598075689504387 \\\\\n",
       "-0.0258842964468328 & -0.0428618174009167 & 0.349303592720272 & 1.00000000000000 & -0.00539137823759926 \\\\\n",
       "-0.983660951392354 & -0.985676014953601 & -0.598075689504387 & -0.00539137823759926 & 1.00000000000000\n",
       "\\end{array}\\right)</script></html>"
      ],
      "text/plain": [
       "[    1.00000000000000    0.999585910639362    0.650969476394899  -0.0258842964468328   -0.983660951392354]\n",
       "[   0.999585910639362     1.00000000000000    0.645283781109229  -0.0428618174009167   -0.985676014953601]\n",
       "[   0.650969476394899    0.645283781109229     1.00000000000000    0.349303592720272   -0.598075689504387]\n",
       "[ -0.0258842964468328  -0.0428618174009167    0.349303592720272     1.00000000000000 -0.00539137823759926]\n",
       "[  -0.983660951392354   -0.985676014953601   -0.598075689504387 -0.00539137823759926     1.00000000000000]"
      ]
     },
     "metadata": {},
     "output_type": "display_data"
    }
   ],
   "source": [
    "pretty_print(matCor(data))"
   ]
  },
  {
   "cell_type": "code",
   "execution_count": 92,
   "metadata": {},
   "outputs": [
    {
     "data": {
      "image/png": "[encoded data removed]",
      "text/plain": [
       "<Figure size 432x288 with 4 Axes>"
      ]
     },
     "metadata": {
      "needs_background": "light"
     },
     "output_type": "display_data"
    }
   ],
   "source": [
    "import matplotlib.pyplot as plt\n",
    "# Représenter sur un même graphique les corrélations de la variable 1 avec les 4 autres variables\n",
    "D=data\n",
    "matricecor = matCor(D)\n",
    "\n",
    "figures = plt.figure(1)\n",
    "n=1\n",
    "for cle in list(D)[1:]:\n",
    "    plt.subplot(2,2,n)\n",
    "    plt.scatter(D[1], D[cle])\n",
    "    n+=1\n",
    "plt.show()\n",
    "    \n",
    "    "
   ]
  },
  {
   "cell_type": "code",
   "execution_count": 127,
   "metadata": {},
   "outputs": [
    {
     "name": "stdout",
     "output_type": "stream",
     "text": [
      "Corrélation des caractéristiques à 1\n",
      "2 0.999585910639362\n",
      "3 0.650969476394899\n",
      "4 -0.0258842964468328\n",
      "5 -0.983660951392354\n"
     ]
    },
    {
     "data": {
      "image/png": "[encoded data removed]",
      "text/plain": [
       "<Figure size 432x288 with 1 Axes>"
      ]
     },
     "metadata": {
      "needs_background": "light"
     },
     "output_type": "display_data"
    },
    {
     "data": {
      "text/plain": [
       "<matplotlib.patches.Circle object at 0x7fd81e507d00>"
      ]
     },
     "execution_count": 127,
     "metadata": {},
     "output_type": "execute_result"
    },
    {
     "data": {
      "image/png": "[encoded data removed]",
      "text/plain": [
       "<Figure size 432x288 with 1 Axes>"
      ]
     },
     "metadata": {
      "needs_background": "light"
     },
     "output_type": "display_data"
    }
   ],
   "source": [
    "# Représentation géométriquement les corrélations avec la première variable\n",
    "import matplotlib.pyplot as plt\n",
    "import matplotlib.patches as pa\n",
    "import numpy as np\n",
    "X = np.array([0,0,0,0,0])\n",
    "Y= np.array([0,0,0,0,0])\n",
    "mat = matCor(data)\n",
    "print(\"Corrélation des caractéristiques à 1\")\n",
    "for i in list(data)[1:]:\n",
    "    print(i,RR(corS(data[1],data[i])))\n",
    "U = mat[0]\n",
    "V = []\n",
    "for i in mat[0]:\n",
    "    V.append(sin(arccos(i)))\n",
    "\n",
    "B = plt.quiver(X, Y, U, V,scale=3)\n",
    "a=1.2\n",
    "plt.xlim(-a,a)\n",
    "plt.ylim(-a,a)\n",
    "plt.title(\"Représentation géométrique de la corrélation\")\n",
    "plt.show()\n",
    "#------------------------------------------\n",
    "#pb en fusionnant 2 graphes\n",
    "axes = plt.gca()\n",
    "axes.cla()\n",
    "A = plt.Circle((0.0,0.0), 1.0, color='blue' ,fill=False)\n",
    "\n",
    "\n",
    "plt.Circle((0.0,0.0), 1.0, color='blue' ,fill=False)\n",
    "plt.gca().add_patch(A)\n",
    "\n",
    "\n",
    "\n",
    "\n"
   ]
  },
  {
   "cell_type": "markdown",
   "metadata": {},
   "source": [
    "### Exercice 2 :  Voitures"
   ]
  },
  {
   "cell_type": "code",
   "execution_count": 18,
   "metadata": {},
   "outputs": [],
   "source": [
    "voitures={\n",
    "    \"Alfasud\" : [1350 ,79 ,393, 161, 870 ,165],\n",
    "    \"Audi\" : [1588, 85, 468, 177, 1110 ,160 ],\n",
    "    \"Simca\"  : [1294 ,68, 424, 168, 1050 ,152 ],\n",
    "    \"Citroen\"  : [1222, 59, 412, 161, 930 ,151 ],\n",
    "    \"Fiat\" : [1585, 98, 439, 164,1105 ,165 ],\n",
    "    \"Lancia\"  :[1297 ,82 ,429, 169, 1080 ,160 ],\n",
    "    \"Peugeot\" :[ 1796, 79, 449 ,169, 1160 ,154 ],\n",
    "    \"Renault16\" : [1565,55, 424, 163, 1010 ,140], \n",
    "    \"Renault30\": [2664, 128, 452, 173, 1320,180], \n",
    "    \"Toyota\" : [1166, 55 ,399, 157, 815, 140], \n",
    "    \"Alfetta\" :[ 1570, 109, 428, 162, 1060, 175], \n",
    "    \"Princess\" : [1798 ,82, 445, 172, 1160 ,158 ],\n",
    "    \"Datsun\" :[1998 ,115, 469, 169, 1370 ,160 ],\n",
    "    \"Taunus\" : [1993, 98 ,438 ,170, 1080 ,167 ],\n",
    "    \"Rancho\" :[1442 ,80 ,431, 166, 1129, 144 ],\n",
    "    \"Mazda\" :[1769 ,83,440,165 ,1095, 165 ],\n",
    "    \"Opel\": [1979, 100 ,459 ,173, 1120 ,173], \n",
    "    \"Lada\" : [1294, 68, 404 ,161, 955, 140]\n",
    "}"
   ]
  },
  {
   "cell_type": "code",
   "execution_count": 19,
   "metadata": {},
   "outputs": [
    {
     "data": {
      "text/html": [
       "<html><script type=\"math/tex; mode=display\">\\newcommand{\\Bold}[1]{\\mathbf{#1}}\\left\\{1 : \\left[1350, 1588, 1294, 1222, 1585, 1297, 1796, 1565, 2664, 1166, 1570, 1798, 1998, 1993, 1442, 1769, 1979, 1294\\right], 2 : \\left[79, 85, 68, 59, 98, 82, 79, 55, 128, 55, 109, 82, 115, 98, 80, 83, 100, 68\\right], 3 : \\left[393, 468, 424, 412, 439, 429, 449, 424, 452, 399, 428, 445, 469, 438, 431, 440, 459, 404\\right], 4 : \\left[161, 177, 168, 161, 164, 169, 169, 163, 173, 157, 162, 172, 169, 170, 166, 165, 173, 161\\right], 5 : \\left[870, 1110, 1050, 930, 1105, 1080, 1160, 1010, 1320, 815, 1060, 1160, 1370, 1080, 1129, 1095, 1120, 955\\right], 6 : \\left[165, 160, 152, 151, 165, 160, 154, 140, 180, 140, 175, 158, 160, 167, 144, 165, 173, 140\\right]\\right\\}</script></html>"
      ],
      "text/latex": [
       "\\begin{math}\n",
       "\\newcommand{\\Bold}[1]{\\mathbf{#1}}\\left\\{1 : \\left[1350, 1588, 1294, 1222, 1585, 1297, 1796, 1565, 2664, 1166, 1570, 1798, 1998, 1993, 1442, 1769, 1979, 1294\\right], 2 : \\left[79, 85, 68, 59, 98, 82, 79, 55, 128, 55, 109, 82, 115, 98, 80, 83, 100, 68\\right], 3 : \\left[393, 468, 424, 412, 439, 429, 449, 424, 452, 399, 428, 445, 469, 438, 431, 440, 459, 404\\right], 4 : \\left[161, 177, 168, 161, 164, 169, 169, 163, 173, 157, 162, 172, 169, 170, 166, 165, 173, 161\\right], 5 : \\left[870, 1110, 1050, 930, 1105, 1080, 1160, 1010, 1320, 815, 1060, 1160, 1370, 1080, 1129, 1095, 1120, 955\\right], 6 : \\left[165, 160, 152, 151, 165, 160, 154, 140, 180, 140, 175, 158, 160, 167, 144, 165, 173, 140\\right]\\right\\}\n",
       "\\end{math}"
      ],
      "text/plain": [
       "{1: [1350,\n",
       "  1588,\n",
       "  1294,\n",
       "  1222,\n",
       "  1585,\n",
       "  1297,\n",
       "  1796,\n",
       "  1565,\n",
       "  2664,\n",
       "  1166,\n",
       "  1570,\n",
       "  1798,\n",
       "  1998,\n",
       "  1993,\n",
       "  1442,\n",
       "  1769,\n",
       "  1979,\n",
       "  1294],\n",
       " 2: [79,\n",
       "  85,\n",
       "  68,\n",
       "  59,\n",
       "  98,\n",
       "  82,\n",
       "  79,\n",
       "  55,\n",
       "  128,\n",
       "  55,\n",
       "  109,\n",
       "  82,\n",
       "  115,\n",
       "  98,\n",
       "  80,\n",
       "  83,\n",
       "  100,\n",
       "  68],\n",
       " 3: [393,\n",
       "  468,\n",
       "  424,\n",
       "  412,\n",
       "  439,\n",
       "  429,\n",
       "  449,\n",
       "  424,\n",
       "  452,\n",
       "  399,\n",
       "  428,\n",
       "  445,\n",
       "  469,\n",
       "  438,\n",
       "  431,\n",
       "  440,\n",
       "  459,\n",
       "  404],\n",
       " 4: [161,\n",
       "  177,\n",
       "  168,\n",
       "  161,\n",
       "  164,\n",
       "  169,\n",
       "  169,\n",
       "  163,\n",
       "  173,\n",
       "  157,\n",
       "  162,\n",
       "  172,\n",
       "  169,\n",
       "  170,\n",
       "  166,\n",
       "  165,\n",
       "  173,\n",
       "  161],\n",
       " 5: [870,\n",
       "  1110,\n",
       "  1050,\n",
       "  930,\n",
       "  1105,\n",
       "  1080,\n",
       "  1160,\n",
       "  1010,\n",
       "  1320,\n",
       "  815,\n",
       "  1060,\n",
       "  1160,\n",
       "  1370,\n",
       "  1080,\n",
       "  1129,\n",
       "  1095,\n",
       "  1120,\n",
       "  955],\n",
       " 6: [165,\n",
       "  160,\n",
       "  152,\n",
       "  151,\n",
       "  165,\n",
       "  160,\n",
       "  154,\n",
       "  140,\n",
       "  180,\n",
       "  140,\n",
       "  175,\n",
       "  158,\n",
       "  160,\n",
       "  167,\n",
       "  144,\n",
       "  165,\n",
       "  173,\n",
       "  140]}"
      ]
     },
     "metadata": {},
     "output_type": "display_data"
    }
   ],
   "source": [
    "# Définir sous forme d'un dictionnaire, les 6 variables (cylindrée, puissance, longueur, largeur, poids, vitesse max)\n"
   ]
  },
  {
   "cell_type": "code",
   "execution_count": 20,
   "metadata": {},
   "outputs": [
    {
     "data": {
      "text/plain": [
       "Text(0, 0.5, 'Vitesse Max')"
      ]
     },
     "execution_count": 20,
     "metadata": {},
     "output_type": "execute_result"
    },
    {
     "data": {
      "image/png": "[encoded data removed]",
      "text/plain": [
       "<Figure size 432x288 with 1 Axes>"
      ]
     },
     "metadata": {
      "needs_background": "light"
     },
     "output_type": "display_data"
    }
   ],
   "source": [
    "#Représenter quelques corrélations entre couples de variables\n"
   ]
  },
  {
   "cell_type": "code",
   "execution_count": 21,
   "metadata": {},
   "outputs": [
    {
     "data": {
      "text/plain": [
       "Text(0, 0.5, 'Puissance')"
      ]
     },
     "execution_count": 21,
     "metadata": {},
     "output_type": "execute_result"
    },
    {
     "data": {
      "image/png": "[encoded data removed]",
      "text/plain": [
       "<Figure size 432x288 with 1 Axes>"
      ]
     },
     "metadata": {
      "needs_background": "light"
     },
     "output_type": "display_data"
    }
   ],
   "source": []
  },
  {
   "cell_type": "code",
   "execution_count": 22,
   "metadata": {},
   "outputs": [
    {
     "data": {
      "text/plain": [
       "Text(0, 0.5, 'Vitesse Max')"
      ]
     },
     "execution_count": 22,
     "metadata": {},
     "output_type": "execute_result"
    },
    {
     "data": {
      "image/png": "[encoded data removed]",
      "text/plain": [
       "<Figure size 432x288 with 1 Axes>"
      ]
     },
     "metadata": {
      "needs_background": "light"
     },
     "output_type": "display_data"
    }
   ],
   "source": []
  },
  {
   "cell_type": "code",
   "execution_count": 57,
   "metadata": {},
   "outputs": [],
   "source": [
    "# C'est parti pour l'Analyse en Composante Principale\n"
   ]
  },
  {
   "cell_type": "code",
   "execution_count": 66,
   "metadata": {},
   "outputs": [
    {
     "data": {
      "text/html": [
       "<html><script type=\"math/tex; mode=display\">\\newcommand{\\Bold}[1]{\\mathbf{#1}}\\left(\\begin{array}{rrrrrr}\n",
       "1.0 & 0.80 & 0.70 & 0.63 & 0.79 & 0.67 \\\\\n",
       "0.80 & 1.0 & 0.64 & 0.52 & 0.77 & 0.84 \\\\\n",
       "0.70 & 0.64 & 1.0 & 0.85 & 0.87 & 0.48 \\\\\n",
       "0.63 & 0.52 & 0.85 & 1.0 & 0.72 & 0.47 \\\\\n",
       "0.79 & 0.77 & 0.87 & 0.72 & 1.0 & 0.48 \\\\\n",
       "0.67 & 0.84 & 0.48 & 0.47 & 0.48 & 1.0\n",
       "\\end{array}\\right)</script></html>"
      ],
      "text/latex": [
       "\\begin{math}\n",
       "\\newcommand{\\Bold}[1]{\\mathbf{#1}}\\left(\\begin{array}{rrrrrr}\n",
       "1.0 & 0.80 & 0.70 & 0.63 & 0.79 & 0.67 \\\\\n",
       "0.80 & 1.0 & 0.64 & 0.52 & 0.77 & 0.84 \\\\\n",
       "0.70 & 0.64 & 1.0 & 0.85 & 0.87 & 0.48 \\\\\n",
       "0.63 & 0.52 & 0.85 & 1.0 & 0.72 & 0.47 \\\\\n",
       "0.79 & 0.77 & 0.87 & 0.72 & 1.0 & 0.48 \\\\\n",
       "0.67 & 0.84 & 0.48 & 0.47 & 0.48 & 1.0\n",
       "\\end{array}\\right)\n",
       "\\end{math}"
      ],
      "text/plain": [
       "[ 1.0 0.80 0.70 0.63 0.79 0.67]\n",
       "[0.80  1.0 0.64 0.52 0.77 0.84]\n",
       "[0.70 0.64  1.0 0.85 0.87 0.48]\n",
       "[0.63 0.52 0.85  1.0 0.72 0.47]\n",
       "[0.79 0.77 0.87 0.72  1.0 0.48]\n",
       "[0.67 0.84 0.48 0.47 0.48  1.0]"
      ]
     },
     "metadata": {},
     "output_type": "display_data"
    }
   ],
   "source": [
    "# calculer la matrice de corrélation"
   ]
  },
  {
   "cell_type": "code",
   "execution_count": null,
   "metadata": {},
   "outputs": [],
   "source": [
    "# Avec numpy\n",
    "import numpy as np\n",
    "test = np.stack((Z[1],Z[2],Z[3], Z[4],Z[5],Z[6]))\n",
    "Cor=np.corrcoef(test)"
   ]
  },
  {
   "cell_type": "code",
   "execution_count": 68,
   "metadata": {},
   "outputs": [
    {
     "data": {
      "text/html": [
       "<html><script type=\"math/tex; mode=display\">\\newcommand{\\Bold}[1]{\\mathbf{#1}}\\left[4.42085805960889, 0.856062289245721, 0.373066077444696, 0.213922089009116, 0.0928012120272884, 0.0432902726642898\\right]</script></html>"
      ],
      "text/latex": [
       "\\begin{math}\n",
       "\\newcommand{\\Bold}[1]{\\mathbf{#1}}\\left[4.42085805960889, 0.856062289245721, 0.373066077444696, 0.213922089009116, 0.0928012120272884, 0.0432902726642898\\right]\n",
       "\\end{math}"
      ],
      "text/plain": [
       "[4.42085805960889, 0.856062289245721, 0.373066077444696, 0.213922089009116, 0.0928012120272884, 0.0432902726642898]"
      ]
     },
     "metadata": {},
     "output_type": "display_data"
    }
   ],
   "source": [
    "#Déterminer ses valeurs propres"
   ]
  },
  {
   "cell_type": "code",
   "execution_count": 46,
   "metadata": {},
   "outputs": [
    {
     "name": "stdout",
     "output_type": "stream",
     "text": [
      "0.736809676601481\n",
      "0.879486724809102\n"
     ]
    }
   ],
   "source": [
    "# Calculer l'inertie de la composante principale et du plan principal\n"
   ]
  },
  {
   "cell_type": "code",
   "execution_count": 40,
   "metadata": {},
   "outputs": [
    {
     "data": {
      "text/plain": [
       "Text(0.5, 1.0, 'Ebouli des valeurs propres')"
      ]
     },
     "execution_count": 40,
     "metadata": {},
     "output_type": "execute_result"
    },
    {
     "data": {
      "image/png": "[encoded data removed]",
      "text/plain": [
       "<Figure size 432x288 with 1 Axes>"
      ]
     },
     "metadata": {
      "needs_background": "light"
     },
     "output_type": "display_data"
    }
   ],
   "source": [
    "#Représenter l'ébouli des valeurs propres\n",
    "\n",
    "plt.title(\"Ebouli des valeurs propres\")"
   ]
  },
  {
   "cell_type": "code",
   "execution_count": 74,
   "metadata": {},
   "outputs": [],
   "source": [
    "# Diagonaliser la matrice de corrélation. Soit P sa matrice de passage"
   ]
  },
  {
   "cell_type": "code",
   "execution_count": 73,
   "metadata": {},
   "outputs": [
    {
     "data": {
      "text/html": [
       "<html><script type=\"math/tex; mode=display\">\\newcommand{\\Bold}[1]{\\mathbf{#1}}\\left[4.420858059608888, 0.8560622892459582, 0.3730660774399729, 0.21392208902331017, 0.09280121200592832, 0.043290272675940246\\right]</script></html>"
      ],
      "text/latex": [
       "\\begin{math}\n",
       "\\newcommand{\\Bold}[1]{\\mathbf{#1}}\\left[4.420858059608888, 0.8560622892459582, 0.3730660774399729, 0.21392208902331017, 0.09280121200592832, 0.043290272675940246\\right]\n",
       "\\end{math}"
      ],
      "text/plain": [
       "[4.420858059608888,\n",
       " 0.8560622892459582,\n",
       " 0.3730660774399729,\n",
       " 0.21392208902331017,\n",
       " 0.09280121200592832,\n",
       " 0.043290272675940246]"
      ]
     },
     "metadata": {},
     "output_type": "display_data"
    },
    {
     "data": {
      "text/html": [
       "<html><script type=\"math/tex; mode=display\">\\newcommand{\\Bold}[1]{\\mathbf{#1}}\\left(\\begin{array}{rrrrrr}\n",
       "4.420858059608886 & 0.0 & 0.0 & 0.0 & 0.0 & 0.0 \\\\\n",
       "0.0 & 0.8560622892459587 & 0.0 & 0.0 & 0.0 & 0.0 \\\\\n",
       "0.0 & 0.0 & 0.3730660774399732 & 0.0 & 0.0 & 0.0 \\\\\n",
       "0.0 & 0.0 & 0.0 & 0.2139220890233099 & 0.0 & 0.0 \\\\\n",
       "0.0 & 0.0 & 0.0 & 0.0 & 0.09280121200592847 & 0.0 \\\\\n",
       "0.0 & 0.0 & 0.0 & 0.0 & 0.0 & 0.043290272675940294\n",
       "\\end{array}\\right) \\left(\\begin{array}{rrrrrr}\n",
       "-0.42493602321352003 & -0.12419108025271665 & -0.3536125153225834 & 0.80778647836463 & 0.15158002775295676 & -0.058895172349341024 \\\\\n",
       "-0.42179440949983793 & -0.41577389078786875 & -0.18492049420391096 & -0.3577919895498343 & -0.2937346499591926 & -0.6330330214961182 \\\\\n",
       "-0.4214599308674995 & 0.4118177278968862 & 0.06763394247169545 & -0.2797523141309945 & 0.7305690335209631 & -0.19029152762890902 \\\\\n",
       "-0.38692223986579083 & 0.44608699968676646 & 0.6048681183341382 & 0.21156940993319673 & -0.47819008058320017 & -0.10956623587114128 \\\\\n",
       "-0.4305119823724684 & 0.2426758144888081 & -0.4843960083166109 & -0.30171136416090005 & -0.3045584235266471 & 0.5808121973736305 \\\\\n",
       "-0.35894427463645573 & -0.6198626009748284 & 0.48547226100592533 & -0.07357430149367006 & 0.1886551121777655 & 0.4585216660324102\n",
       "\\end{array}\\right)</script></html>"
      ],
      "text/latex": [
       "\\begin{math}\n",
       "\\newcommand{\\Bold}[1]{\\mathbf{#1}}\\left(\\begin{array}{rrrrrr}\n",
       "4.420858059608886 & 0.0 & 0.0 & 0.0 & 0.0 & 0.0 \\\\\n",
       "0.0 & 0.8560622892459587 & 0.0 & 0.0 & 0.0 & 0.0 \\\\\n",
       "0.0 & 0.0 & 0.3730660774399732 & 0.0 & 0.0 & 0.0 \\\\\n",
       "0.0 & 0.0 & 0.0 & 0.2139220890233099 & 0.0 & 0.0 \\\\\n",
       "0.0 & 0.0 & 0.0 & 0.0 & 0.09280121200592847 & 0.0 \\\\\n",
       "0.0 & 0.0 & 0.0 & 0.0 & 0.0 & 0.043290272675940294\n",
       "\\end{array}\\right) \\left(\\begin{array}{rrrrrr}\n",
       "-0.42493602321352003 & -0.12419108025271665 & -0.3536125153225834 & 0.80778647836463 & 0.15158002775295676 & -0.058895172349341024 \\\\\n",
       "-0.42179440949983793 & -0.41577389078786875 & -0.18492049420391096 & -0.3577919895498343 & -0.2937346499591926 & -0.6330330214961182 \\\\\n",
       "-0.4214599308674995 & 0.4118177278968862 & 0.06763394247169545 & -0.2797523141309945 & 0.7305690335209631 & -0.19029152762890902 \\\\\n",
       "-0.38692223986579083 & 0.44608699968676646 & 0.6048681183341382 & 0.21156940993319673 & -0.47819008058320017 & -0.10956623587114128 \\\\\n",
       "-0.4305119823724684 & 0.2426758144888081 & -0.4843960083166109 & -0.30171136416090005 & -0.3045584235266471 & 0.5808121973736305 \\\\\n",
       "-0.35894427463645573 & -0.6198626009748284 & 0.48547226100592533 & -0.07357430149367006 & 0.1886551121777655 & 0.4585216660324102\n",
       "\\end{array}\\right)\n",
       "\\end{math}"
      ],
      "text/plain": [
       "[   4.420858059608886                  0.0                  0.0                  0.0                  0.0                  0.0]\n",
       "[                 0.0   0.8560622892459587                  0.0                  0.0                  0.0                  0.0]\n",
       "[                 0.0                  0.0   0.3730660774399732                  0.0                  0.0                  0.0]\n",
       "[                 0.0                  0.0                  0.0   0.2139220890233099                  0.0                  0.0]\n",
       "[                 0.0                  0.0                  0.0                  0.0  0.09280121200592847                  0.0]\n",
       "[                 0.0                  0.0                  0.0                  0.0                  0.0 0.043290272675940294] [ -0.42493602321352003  -0.12419108025271665   -0.3536125153225834      0.80778647836463   0.15158002775295676 -0.058895172349341024]\n",
       "[ -0.42179440949983793  -0.41577389078786875  -0.18492049420391096   -0.3577919895498343   -0.2937346499591926   -0.6330330214961182]\n",
       "[  -0.4214599308674995    0.4118177278968862   0.06763394247169545   -0.2797523141309945    0.7305690335209631  -0.19029152762890902]\n",
       "[ -0.38692223986579083   0.44608699968676646    0.6048681183341382   0.21156940993319673  -0.47819008058320017  -0.10956623587114128]\n",
       "[  -0.4305119823724684    0.2426758144888081   -0.4843960083166109  -0.30171136416090005   -0.3045584235266471    0.5808121973736305]\n",
       "[ -0.35894427463645573   -0.6198626009748284   0.48547226100592533  -0.07357430149367006    0.1886551121777655    0.4585216660324102]"
      ]
     },
     "metadata": {},
     "output_type": "display_data"
    }
   ],
   "source": []
  },
  {
   "cell_type": "code",
   "execution_count": 3,
   "metadata": {
    "scrolled": true
   },
   "outputs": [],
   "source": [
    "# Construire les deux composantes principales\n"
   ]
  },
  {
   "cell_type": "code",
   "execution_count": 85,
   "metadata": {},
   "outputs": [
    {
     "data": {
      "text/plain": [
       "Text(0.5, 1.0, 'Tracé suivant les composantes principales')"
      ]
     },
     "execution_count": 85,
     "metadata": {},
     "output_type": "execute_result"
    },
    {
     "data": {
      "image/png": "[encoded data removed]",
      "text/plain": [
       "<Figure size 432x288 with 1 Axes>"
      ]
     },
     "metadata": {
      "needs_background": "light"
     },
     "output_type": "display_data"
    }
   ],
   "source": [
    "# Tracé les différents véhicules suivant les deux composantes principales\n",
    "plt.scatter(C1,C2,marker='o')\n",
    "plt.xlabel('CP 1')\n",
    "plt.ylabel('CP 2')\n",
    "plt.title(\"Tracé suivant les composantes principales\")"
   ]
  },
  {
   "cell_type": "code",
   "execution_count": 86,
   "metadata": {},
   "outputs": [],
   "source": [
    "# Représenter graphiquement les contributions des variables aux composantes principales :\n"
   ]
  },
  {
   "cell_type": "code",
   "execution_count": null,
   "metadata": {},
   "outputs": [],
   "source": []
  },
  {
   "cell_type": "markdown",
   "metadata": {},
   "source": [
    "### Exercice 3 : Jus de fruit "
   ]
  },
  {
   "cell_type": "code",
   "execution_count": 50,
   "metadata": {},
   "outputs": [],
   "source": [
    "# Un jus de fruit est caractériqsé par les caractéristiques suivantes : \n",
    "# odeur, pulpeux, couleur, acidité, amertume, sucré, originalité\n",
    "data={1:[2.82,2.53,1.66,3.46,3.15,2.97,2.60],\n",
    "      2:[2.76,2.82,1.91,3.23,2.55,2.08,3.32 ],\n",
    "      3:[2.83,2.88,4.0,3.45,2.42,1.76,3.38 ],\n",
    "      4:[2.76,2.59,1.66,3.37,3.05,2.56,2.8 ],\n",
    "      5:[3.2,3.02,3.69,3.12,2.33,1.97,3.34 ],\n",
    "      6:[3.07,2.73,3.34,3.54,3.31,2.63,2.9 ],\n",
    "     }"
   ]
  }
 ],
 "metadata": {
  "kernelspec": {
   "display_name": "Python 3 (ipykernel)",
   "language": "python",
   "name": "python3"
  },
  "language_info": {
   "codemirror_mode": {
    "name": "ipython",
    "version": 3
   },
   "file_extension": ".py",
   "mimetype": "text/x-python",
   "name": "python",
   "nbconvert_exporter": "python",
   "pygments_lexer": "ipython3",
   "version": "3.10.2"
  }
 },
 "nbformat": 4,
 "nbformat_minor": 4
}
