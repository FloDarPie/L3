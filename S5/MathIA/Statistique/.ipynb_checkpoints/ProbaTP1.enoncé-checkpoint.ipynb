{
 "cells": [
  {
   "cell_type": "markdown",
   "metadata": {},
   "source": [
    "# TP 5 Probabilités & statistiques\n",
    "## Espérance, moyenne, variance\n",
    "## Lois conjointes, marginales et conditionnelles\n",
    "## Covariance, corrélation, matrices de covariance"
   ]
  },
  {
   "cell_type": "code",
   "execution_count": 1,
   "metadata": {},
   "outputs": [
    {
     "data": {
      "text/html": [
       "<html><script type=\"math/tex; mode=display\">\\newcommand{\\Bold}[1]{\\mathbf{#1}}\\left\\{1 : \\frac{1}{6}, 2 : \\frac{1}{6}, 3 : \\frac{1}{6}, 4 : \\frac{1}{6}, 5 : \\frac{1}{6}, 6 : \\frac{1}{6}\\right\\}</script></html>"
      ],
      "text/plain": [
       "{1: 1/6, 2: 1/6, 3: 1/6, 4: 1/6, 5: 1/6, 6: 1/6}"
      ]
     },
     "metadata": {},
     "output_type": "display_data"
    }
   ],
   "source": [
    "# On représente la loi d'une variable aléatoire discrète et finie X par un dictionnaire\n",
    "# dont les clés sont les issues a de X et de valeur P{X=a} \n",
    "\n",
    "# Par exemple la loi uniforme sur {1,2,..6} est :\n",
    "P={i:1/6 for i in range(1,7)}\n",
    "show(P)"
   ]
  },
  {
   "cell_type": "code",
   "execution_count": 2,
   "metadata": {},
   "outputs": [
    {
     "data": {
      "text/html": [
       "<html><script type=\"math/tex; mode=display\">\\newcommand{\\Bold}[1]{\\mathbf{#1}}\\frac{7}{2}</script></html>"
      ],
      "text/plain": [
       "7/2"
      ]
     },
     "metadata": {},
     "output_type": "display_data"
    }
   ],
   "source": [
    "# Ecrire une fonction calculant l'espérance d'une variable aléatoire donnée par sa loi\n",
    "def esp(P):\n",
    "    e=0\n",
    "    for i in P:\n",
    "        e+=i*P[i]\n",
    "    # à compléter\n",
    "    return e\n",
    "pretty_print(esp(P))"
   ]
  },
  {
   "cell_type": "code",
   "execution_count": 3,
   "metadata": {},
   "outputs": [
    {
     "data": {
      "text/html": [
       "<html><script type=\"math/tex; mode=display\">\\newcommand{\\Bold}[1]{\\mathbf{#1}}\\frac{35}{12}</script></html>"
      ],
      "text/plain": [
       "35/12"
      ]
     },
     "metadata": {},
     "output_type": "display_data"
    }
   ],
   "source": [
    "# La variance d'une V.A. donnée par sa loi\n",
    "def var(P):\n",
    "    v=0\n",
    "    esperance = esp(P)\n",
    "    for i in P:\n",
    "        v+= P[i] * (i - esperance) * (i - esperance)\n",
    "    return v\n",
    "pretty_print(var(P))"
   ]
  },
  {
   "cell_type": "code",
   "execution_count": 4,
   "metadata": {},
   "outputs": [],
   "source": [
    "# L'écart-type\n",
    "def ecType(P):\n",
    "    return var(P)^(1/2)\n",
    "    # à compléter"
   ]
  },
  {
   "cell_type": "code",
   "execution_count": 5,
   "metadata": {},
   "outputs": [
    {
     "data": {
      "text/html": [
       "<html><script type=\"math/tex; mode=display\">\\newcommand{\\Bold}[1]{\\mathbf{#1}}0.100000000000000</script></html>"
      ],
      "text/plain": [
       "0.100000000000000"
      ]
     },
     "metadata": {},
     "output_type": "display_data"
    },
    {
     "data": {
      "text/html": [
       "<html><script type=\"math/tex; mode=display\">\\newcommand{\\Bold}[1]{\\mathbf{#1}}0.0950000000000000</script></html>"
      ],
      "text/plain": [
       "0.0950000000000000"
      ]
     },
     "metadata": {},
     "output_type": "display_data"
    },
    {
     "data": {
      "text/html": [
       "<html><script type=\"math/tex; mode=display\">\\newcommand{\\Bold}[1]{\\mathbf{#1}}0.308220700148449</script></html>"
      ],
      "text/plain": [
       "0.308220700148449"
      ]
     },
     "metadata": {},
     "output_type": "display_data"
    }
   ],
   "source": [
    "#Testez ces fonctions à l'aide de l'exercice  1\n",
    "p=0.05\n",
    "q=1-p\n",
    "Px={0:q^2,1:2*p*q,2:p^2}\n",
    "show(esp(Px))\n",
    "show(var(Px))\n",
    "show(ecType(Px))"
   ]
  },
  {
   "cell_type": "code",
   "execution_count": 6,
   "metadata": {},
   "outputs": [],
   "source": [
    "# Une série statistique est donnée par la liste de ses issues, par exemple\n",
    "Y=[2.04,3.02,4.15,4.97,6.02,7.08,8.12,9.14,10.13,10.86,11.89]"
   ]
  },
  {
   "cell_type": "code",
   "execution_count": 7,
   "metadata": {},
   "outputs": [],
   "source": [
    "# Ecrire une fonction donnant la moyenne d'une série statistique\n",
    "def moy(X):\n",
    "    e=0\n",
    "    n = len(X)\n",
    "    for i in range(n):\n",
    "        e += X[i]\n",
    "    return e/n"
   ]
  },
  {
   "cell_type": "code",
   "execution_count": 16,
   "metadata": {},
   "outputs": [],
   "source": [
    "# La variance d'une série statistique:\n",
    "def varS(X):\n",
    "    v=0\n",
    "    moyenne = moy(X)\n",
    "    for i in X:\n",
    "        v+= (i - moyenne) * (i - moyenne)\n",
    "    return v/(len(X))"
   ]
  },
  {
   "cell_type": "code",
   "execution_count": 19,
   "metadata": {},
   "outputs": [],
   "source": [
    "# l'écart-type\n",
    "def ecTypeS(X):\n",
    "    return varS(X)^(1/2)"
   ]
  },
  {
   "cell_type": "code",
   "execution_count": 20,
   "metadata": {},
   "outputs": [
    {
     "data": {
      "text/html": [
       "<html><script type=\"math/tex; mode=display\">\\newcommand{\\Bold}[1]{\\mathbf{#1}}7.03818181818182</script></html>"
      ],
      "text/plain": [
       "7.03818181818182"
      ]
     },
     "metadata": {},
     "output_type": "display_data"
    },
    {
     "data": {
      "text/html": [
       "<html><script type=\"math/tex; mode=display\">\\newcommand{\\Bold}[1]{\\mathbf{#1}}9.82534214876033</script></html>"
      ],
      "text/plain": [
       "9.82534214876033"
      ]
     },
     "metadata": {},
     "output_type": "display_data"
    },
    {
     "data": {
      "text/html": [
       "<html><script type=\"math/tex; mode=display\">\\newcommand{\\Bold}[1]{\\mathbf{#1}}3.13454018139189</script></html>"
      ],
      "text/plain": [
       "3.13454018139189"
      ]
     },
     "metadata": {},
     "output_type": "display_data"
    }
   ],
   "source": [
    "show(moy(Y))\n",
    "show(varS(Y))\n",
    "show(ecTypeS(Y))"
   ]
  },
  {
   "cell_type": "code",
   "execution_count": 44,
   "metadata": {},
   "outputs": [],
   "source": [
    "# La loi conjointe d'un couple de variables aléatoires est représentée par un dictionnaire de clées (a,b)\n",
    "# et de valeur P(X=a,Y=b) pour toutes les issues possibles (a,b).\n",
    "# Ecrire une fonction permettant de construire ce dictionnaire\n",
    "#  à partir des listes X et Y d'issues pour chaque VA et de la matrice mat[i][j]=P(X=X[i],Y=Y[i])\n",
    "\n",
    "def Conj(X,Y,mat):\n",
    "    C={}\n",
    "    for i in range(len(X)):\n",
    "        for j in range(len(Y)):\n",
    "            C[(X[i],Y[j])] = mat[i][j] \n",
    "    return C"
   ]
  },
  {
   "cell_type": "code",
   "execution_count": 45,
   "metadata": {},
   "outputs": [
    {
     "data": {
      "text/html": [
       "<html><script type=\"math/tex; mode=display\">\\newcommand{\\Bold}[1]{\\mathbf{#1}}\\left\\{\\left(0, 0\\right) : 0.100000000000000, \\left(0, 1\\right) : 0.200000000000000, \\left(0, 2\\right) : 0.300000000000000, \\left(1, 0\\right) : 0.000000000000000, \\left(1, 1\\right) : 0.100000000000000, \\left(1, 2\\right) : 0.200000000000000, \\left(2, 0\\right) : 0.000000000000000, \\left(2, 1\\right) : 0.000000000000000, \\left(2, 2\\right) : 0.100000000000000\\right\\}</script></html>"
      ],
      "text/plain": [
       "{(0, 0): 0.100000000000000,\n",
       " (0, 1): 0.200000000000000,\n",
       " (0, 2): 0.300000000000000,\n",
       " (1, 0): 0.000000000000000,\n",
       " (1, 1): 0.100000000000000,\n",
       " (1, 2): 0.200000000000000,\n",
       " (2, 0): 0.000000000000000,\n",
       " (2, 1): 0.000000000000000,\n",
       " (2, 2): 0.100000000000000}"
      ]
     },
     "metadata": {},
     "output_type": "display_data"
    },
    {
     "name": "stdout",
     "output_type": "stream",
     "text": [
      "0.100000000000000 0.200000000000000 0.300000000000000 \n",
      "0.000000000000000 0.100000000000000 0.200000000000000 \n",
      "0.000000000000000 0.000000000000000 0.100000000000000 \n"
     ]
    }
   ],
   "source": [
    "#Testons cette fonction sur l'exercice 3\n",
    "#On donne les issues de X et Y et la matrice de proba conjointes\n",
    "X=[0,1,2]\n",
    "Y=[0,1,2]\n",
    "conj=matrix([[0.1,0.2,0.3],[0,0.1,0.2],[0,0,0.1]])\n",
    "C3=Conj(X,Y,conj)\n",
    "show(C3)\n",
    "i=0\n",
    "for k in C3:\n",
    "    print(C3[k], end=\" \")\n",
    "    i+=1\n",
    "    if i%3==0:\n",
    "        print()"
   ]
  },
  {
   "cell_type": "code",
   "execution_count": 66,
   "metadata": {},
   "outputs": [
    {
     "data": {
      "text/html": [
       "<html><script type=\"math/tex; mode=display\">\\newcommand{\\Bold}[1]{\\mathbf{#1}}0.600000000000000</script></html>"
      ],
      "text/plain": [
       "0.600000000000000"
      ]
     },
     "metadata": {},
     "output_type": "display_data"
    }
   ],
   "source": [
    "# Ecrire une fonction donnant la loi marginals  P(X=a) à partir des lois conjointes \n",
    "def margX(a,Y,C):\n",
    "    s=0\n",
    "    for i in range(len(Y)):\n",
    "        s+=C[(a,i)]\n",
    "    return s\n",
    "\n",
    "#{i:margX(i,Y,C3) for i in X}\n",
    "show(margX(0,Y,conj))"
   ]
  },
  {
   "cell_type": "code",
   "execution_count": 53,
   "metadata": {},
   "outputs": [],
   "source": [
    "# Toutes les lois marginales de X sous forme d'un dictionnaire\n",
    "def MargX(X,Y,C):\n",
    "    return {i:margX(i,Y,C3) for i in X}"
   ]
  },
  {
   "cell_type": "code",
   "execution_count": 62,
   "metadata": {},
   "outputs": [
    {
     "data": {
      "text/html": [
       "<html><script type=\"math/tex; mode=display\">\\newcommand{\\Bold}[1]{\\mathbf{#1}}\\left\\{0 : 0.600000000000000, 1 : 0.300000000000000, 2 : 0.100000000000000\\right\\}</script></html>"
      ],
      "text/plain": [
       "{0: 0.600000000000000, 1: 0.300000000000000, 2: 0.100000000000000}"
      ]
     },
     "metadata": {},
     "output_type": "display_data"
    }
   ],
   "source": [
    "pretty_print(MargX(X,Y,C3))"
   ]
  },
  {
   "cell_type": "code",
   "execution_count": 69,
   "metadata": {},
   "outputs": [
    {
     "data": {
      "text/html": [
       "<html><script type=\"math/tex; mode=display\">\\newcommand{\\Bold}[1]{\\mathbf{#1}}0.100000000000000</script></html>"
      ],
      "text/plain": [
       "0.100000000000000"
      ]
     },
     "metadata": {},
     "output_type": "display_data"
    }
   ],
   "source": [
    "# idem pour Y\n",
    "def margY(b,X,C):\n",
    "    s=0\n",
    "    for i in range(len(Y)):\n",
    "        s+=C[(i,b)]\n",
    "    return s\n",
    "show(margY(0,X,conj))"
   ]
  },
  {
   "cell_type": "code",
   "execution_count": 70,
   "metadata": {},
   "outputs": [],
   "source": [
    "# Calcul des lois marginales de Y à partir de la matrice conjointe\n",
    "def MargY(X,Y,C):\n",
    "    return {i:margY(i,X,C3) for i in Y}"
   ]
  },
  {
   "cell_type": "code",
   "execution_count": 71,
   "metadata": {},
   "outputs": [
    {
     "data": {
      "text/html": [
       "<html><script type=\"math/tex; mode=display\">\\newcommand{\\Bold}[1]{\\mathbf{#1}}\\left\\{0 : 0.100000000000000, 1 : 0.300000000000000, 2 : 0.600000000000000\\right\\}</script></html>"
      ],
      "text/plain": [
       "{0: 0.100000000000000, 1: 0.300000000000000, 2: 0.600000000000000}"
      ]
     },
     "metadata": {},
     "output_type": "display_data"
    }
   ],
   "source": [
    "pretty_print(MargY(X,Y,C3))"
   ]
  },
  {
   "cell_type": "code",
   "execution_count": 82,
   "metadata": {},
   "outputs": [],
   "source": [
    "# Ecrire une fonction calculant la loi conditionnelle\n",
    "# P(X=a|Y=b) à partir des lois conjointes\n",
    "def condX(a,b,X,C):\n",
    "        # à compléter\n",
    "    return 0"
   ]
  },
  {
   "cell_type": "code",
   "execution_count": 83,
   "metadata": {},
   "outputs": [],
   "source": [
    "# idem pour les lois conditionnelles P(X=a|Y=b)\n",
    "def condY(a,b,Y,C):\n",
    "        # à compléter\n",
    "    return 0"
   ]
  },
  {
   "cell_type": "code",
   "execution_count": 84,
   "metadata": {},
   "outputs": [],
   "source": [
    "# Ecrire une fonction booléenne testant si deux variables sont indépendantes\n",
    "def indep(X,Y,C):\n",
    "    marginaleX = MargX(X,Y,C)\n",
    "    marginaleY = MargY(X,Y,C)\n",
    "    for i in range(len(X)):\n",
    "        for j in range(len(Y)):\n",
    "            if marginaleX[i]*marginaleY[j] != C[i,j]:\n",
    "                return False\n",
    "            pass\n",
    "        pass\n",
    "    return True\n",
    "        "
   ]
  },
  {
   "cell_type": "code",
   "execution_count": 56,
   "metadata": {},
   "outputs": [
    {
     "name": "stdout",
     "output_type": "stream",
     "text": [
      " Faux pour  0  et  0\n"
     ]
    },
    {
     "data": {
      "text/plain": [
       "False"
      ]
     },
     "execution_count": 56,
     "metadata": {},
     "output_type": "execute_result"
    }
   ],
   "source": [
    "indep(X,Y,C3)"
   ]
  },
  {
   "cell_type": "markdown",
   "metadata": {},
   "source": [
    "## Covariance :\n"
   ]
  },
  {
   "cell_type": "code",
   "execution_count": 87,
   "metadata": {},
   "outputs": [],
   "source": [
    "# Calcul de la covariance d'un couple de variables aléatoires\n",
    "def cov(X,Y,C):\n",
    "    # Calcul des lois marginales\n",
    "    # à compléter\n",
    "    #Calcul des espérances\n",
    "    # à compléter\n",
    "    # Probabilité du produit\n",
    "    # à compléter\n",
    "\n",
    "    return 0\n",
    "    "
   ]
  },
  {
   "cell_type": "code",
   "execution_count": 88,
   "metadata": {},
   "outputs": [
    {
     "name": "stdout",
     "output_type": "stream",
     "text": [
      "[0, 1, 2, 4]\n",
      "{0: 0.600000000000000, 1: 0.100000000000000, 2: 0.200000000000000, 4: 0.100000000000000}\n",
      "0.900000000000000 0.500000000000000 1.50000000000000\n"
     ]
    },
    {
     "data": {
      "text/plain": [
       "0.150000000000000"
      ]
     },
     "execution_count": 88,
     "metadata": {},
     "output_type": "execute_result"
    }
   ],
   "source": [
    "cov(X,Y,C3)"
   ]
  },
  {
   "cell_type": "code",
   "execution_count": 102,
   "metadata": {},
   "outputs": [],
   "source": [
    "# D'un couple de séries statistiques\n",
    "def covS(X,Y):\n",
    "    # à compléter\n",
    "    return 0"
   ]
  },
  {
   "cell_type": "code",
   "execution_count": 103,
   "metadata": {},
   "outputs": [
    {
     "data": {
      "text/html": [
       "<html><script type=\"math/tex; mode=display\">\\newcommand{\\Bold}[1]{\\mathbf{#1}}5</script></html>"
      ],
      "text/latex": [
       "\\begin{math}\n",
       "\\newcommand{\\Bold}[1]{\\mathbf{#1}}5\n",
       "\\end{math}"
      ],
      "text/plain": [
       "5"
      ]
     },
     "metadata": {},
     "output_type": "display_data"
    },
    {
     "data": {
      "text/plain": [
       "9.90818181818182"
      ]
     },
     "execution_count": 103,
     "metadata": {},
     "output_type": "execute_result"
    }
   ],
   "source": [
    "X=[0,1,2,3,4,5,6,7,8,9,10]\n",
    "show(moy(X))\n",
    "Y=[2.04,3.02,4.15,4.97,6.02,7.08,8.12,9.14,10.13,10.86,11.89]\n",
    "covS(X,Y)"
   ]
  },
  {
   "cell_type": "code",
   "execution_count": 109,
   "metadata": {},
   "outputs": [],
   "source": [
    "# Coefficient de corrélation d'une série statistique\n",
    "def corS(X,Y):\n",
    "    return 0"
   ]
  },
  {
   "cell_type": "code",
   "execution_count": 111,
   "metadata": {},
   "outputs": [
    {
     "data": {
      "text/html": [
       "<html><script type=\"math/tex; mode=display\">\\newcommand{\\Bold}[1]{\\mathbf{#1}}9.90818181818182 0.999585910639363 10 1.00000000000000</script></html>"
      ],
      "text/latex": [
       "\\begin{math}\n",
       "\\newcommand{\\Bold}[1]{\\mathbf{#1}}9.90818181818182 0.999585910639363 10 1.00000000000000\n",
       "\\end{math}"
      ],
      "text/plain": [
       "9.90818181818182 0.999585910639363 10 1.00000000000000"
      ]
     },
     "metadata": {},
     "output_type": "display_data"
    }
   ],
   "source": [
    "show(covS(X,Y),corS(X,Y),covS(X,X),corS(X,X))"
   ]
  },
  {
   "cell_type": "code",
   "execution_count": null,
   "metadata": {},
   "outputs": [],
   "source": [
    "# Matrice de covariance d'un vecteur de p variables aléatoires"
   ]
  },
  {
   "cell_type": "code",
   "execution_count": 113,
   "metadata": {},
   "outputs": [],
   "source": [
    "data={1:[0,1,2,3,4,5,6,7,8,9,10] ,\n",
    "  2:[2.04,3.02,4.15,4.97,6.02,7.08,8.12,9.14,10.13,10.86,11.89],\n",
    "  3:[5.01,7.93,3.27,20.50,11.33,12.41,16.74,11.39,16.61,11.48,23.59],\n",
    "  4:[7.45,8.20,2.09,9.03,7.99,8.58,9.63,5.06,2.49,8.22,8.01],\n",
    "  5:[10.04,9.02,8.97,8.15,6.02,5.08,4.12,3.14,2.86,2.13,1.89]}"
   ]
  },
  {
   "cell_type": "code",
   "execution_count": 112,
   "metadata": {},
   "outputs": [],
   "source": [
    "# Construction de la matrice de covariance (un dictionnaire bien sûr...)\n",
    "def matCov(D):\n",
    "    m={}\n",
    "    # à compléter\n",
    "    return m"
   ]
  },
  {
   "cell_type": "code",
   "execution_count": 114,
   "metadata": {},
   "outputs": [
    {
     "data": {
      "text/plain": [
       "{(1, 1): 10,\n",
       " (1, 2): 9.90818181818182,\n",
       " (1, 3): 12.2100000000000,\n",
       " (1, 4): -0.201818181818190,\n",
       " (1, 5): -8.96000000000000,\n",
       " (2, 1): 9.90818181818182,\n",
       " (2, 2): 9.82534214876033,\n",
       " (2, 3): 11.9971925619835,\n",
       " (2, 4): -0.331259504132234,\n",
       " (2, 5): -8.89960247933884,\n",
       " (3, 1): 12.2100000000000,\n",
       " (3, 2): 11.9971925619835,\n",
       " (3, 3): 35.1811537190083,\n",
       " (3, 4): 5.10836611570248,\n",
       " (3, 5): -10.2181851239669,\n",
       " (4, 1): -0.201818181818190,\n",
       " (4, 2): -0.331259504132234,\n",
       " (4, 3): 5.10836611570248,\n",
       " (4, 4): 6.07921983471074,\n",
       " (4, 5): -0.0382900826446360,\n",
       " (5, 1): -8.96000000000000,\n",
       " (5, 2): -8.89960247933884,\n",
       " (5, 3): -10.2181851239669,\n",
       " (5, 4): -0.0382900826446360,\n",
       " (5, 5): 8.29707768595041}"
      ]
     },
     "execution_count": 114,
     "metadata": {},
     "output_type": "execute_result"
    }
   ],
   "source": [
    "matCov(data)"
   ]
  },
  {
   "cell_type": "code",
   "execution_count": 115,
   "metadata": {},
   "outputs": [],
   "source": [
    "# Construction de la matrice de corrélation (un dictionnaire bien sûr...)\n",
    "def matCor(D):\n",
    "    m={}\n",
    "    # à compléter\n",
    "    return m"
   ]
  },
  {
   "cell_type": "code",
   "execution_count": 116,
   "metadata": {},
   "outputs": [
    {
     "data": {
      "text/plain": [
       "{(1, 1): 1.00000000000000,\n",
       " (1, 2): 0.999585910639363,\n",
       " (1, 3): 0.650969476394899,\n",
       " (1, 4): -0.0258842964468339,\n",
       " (1, 5): -0.983660951392354,\n",
       " (2, 1): 0.999585910639363,\n",
       " (2, 2): 0.999999999999999,\n",
       " (2, 3): 0.645283781109229,\n",
       " (2, 4): -0.0428618174009170,\n",
       " (2, 5): -0.985676014953601,\n",
       " (3, 1): 0.650969476394899,\n",
       " (3, 2): 0.645283781109229,\n",
       " (3, 3): 1.00000000000000,\n",
       " (3, 4): 0.349303592720273,\n",
       " (3, 5): -0.598075689504387,\n",
       " (4, 1): -0.0258842964468339,\n",
       " (4, 2): -0.0428618174009170,\n",
       " (4, 3): 0.349303592720273,\n",
       " (4, 4): 0.999999999999999,\n",
       " (4, 5): -0.00539137823760026,\n",
       " (5, 1): -0.983660951392354,\n",
       " (5, 2): -0.985676014953601,\n",
       " (5, 3): -0.598075689504387,\n",
       " (5, 4): -0.00539137823760026,\n",
       " (5, 5): 1.00000000000000}"
      ]
     },
     "execution_count": 116,
     "metadata": {},
     "output_type": "execute_result"
    }
   ],
   "source": [
    "matCor(data)"
   ]
  }
 ],
 "metadata": {
  "kernelspec": {
   "display_name": "SageMath 9.0",
   "language": "sage",
   "name": "sagemath"
  },
  "language_info": {
   "codemirror_mode": {
    "name": "ipython",
    "version": 3
   },
   "file_extension": ".py",
   "mimetype": "text/x-python",
   "name": "python",
   "nbconvert_exporter": "python",
   "pygments_lexer": "ipython3",
   "version": "3.8.10"
  }
 },
 "nbformat": 4,
 "nbformat_minor": 4
}
