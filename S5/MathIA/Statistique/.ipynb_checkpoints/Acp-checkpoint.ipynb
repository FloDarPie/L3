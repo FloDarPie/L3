{
 "cells": [
  {
   "cell_type": "markdown",
   "metadata": {},
   "source": [
    "# Statistiques et Analyse en Composante Principale"
   ]
  },
  {
   "cell_type": "markdown",
   "metadata": {},
   "source": [
    "### On donne les fonctions du TP précédent"
   ]
  },
  {
   "cell_type": "code",
   "execution_count": 4,
   "metadata": {},
   "outputs": [],
   "source": [
    "# Ecrire une fonction donnant la moyenne d'une série statistique\n",
    "def moy(X):\n",
    "    e=0\n",
    "    n=len(X)\n",
    "    for i in range(n):\n",
    "        e+=X[i]\n",
    "    return e/n"
   ]
  },
  {
   "cell_type": "code",
   "execution_count": 5,
   "metadata": {},
   "outputs": [],
   "source": [
    "# La variance d'une série statistique:\n",
    "def varS(X):\n",
    "    v=0\n",
    "    n=len(X)\n",
    "    m=moy(X)\n",
    "    for i in range(n):\n",
    "        v+=(X[i]-m)^2\n",
    "    return v/n"
   ]
  },
  {
   "cell_type": "code",
   "execution_count": 6,
   "metadata": {},
   "outputs": [],
   "source": [
    "# l'écart-type\n",
    "def ecTypeS(X):\n",
    "    return sqrt(varS(X))"
   ]
  },
  {
   "cell_type": "code",
   "execution_count": 7,
   "metadata": {},
   "outputs": [],
   "source": [
    "# Ecrire une fonction donnant la loi marginals  P(X=a) à partir des lois conjointes \n",
    "def margX(a,Y,C):\n",
    "    s=0\n",
    "    for j in Y:\n",
    "        s+=C[(a,j)]\n",
    "    return s"
   ]
  },
  {
   "cell_type": "code",
   "execution_count": 8,
   "metadata": {},
   "outputs": [],
   "source": [
    "# Toutes les lois marginales de X sous forme d'un dictionnaire\n",
    "def MargX(X,Y,C):\n",
    "    return {i:margX(i,Y,C) for i in X}"
   ]
  },
  {
   "cell_type": "code",
   "execution_count": 9,
   "metadata": {},
   "outputs": [],
   "source": [
    "# idem pour Y\n",
    "def margY(b,X,C):\n",
    "    s=0\n",
    "    for i in X:\n",
    "        s+=C[(i,b)]\n",
    "    return s"
   ]
  },
  {
   "cell_type": "code",
   "execution_count": 10,
   "metadata": {},
   "outputs": [],
   "source": [
    "# Calcul des lois marginales de Y à partir de la matrice conjointe\n",
    "def MargY(X,Y,C):\n",
    "    return {j:margY(j,X,C) for j in Y}"
   ]
  },
  {
   "cell_type": "code",
   "execution_count": 11,
   "metadata": {},
   "outputs": [],
   "source": [
    "# Ecrire une fonction calculant la covariance d'un couple de séries statistiques\n",
    "def covS(X,Y):\n",
    "    #Calcul des espérances\n",
    "    EX = moy(X)\n",
    "    EY = moy(Y)\n",
    "    c = 0\n",
    "    for x, y in zip(X, Y):\n",
    "        c += x * y\n",
    "        pass\n",
    "    return c / len(X) - EX * EY"
   ]
  },
  {
   "cell_type": "code",
   "execution_count": 12,
   "metadata": {},
   "outputs": [],
   "source": [
    "# et le Coefficient de corrélation d'une série statistique\n",
    "def corS(X,Y):\n",
    "    return n(covS(X,Y)/(ecTypeS(X)*ecTypeS(Y)))"
   ]
  },
  {
   "cell_type": "code",
   "execution_count": 13,
   "metadata": {},
   "outputs": [],
   "source": [
    "# Construction de la matrice de covariance \n",
    "def matCov(D):\n",
    "    M = [[0 for _ in D] for _ in D]\n",
    "    \n",
    "    for i in range(len(D)):\n",
    "        for j in range(len(D)):\n",
    "            M[i][j] = covS(D[i], D[j])\n",
    "            pass\n",
    "        pass\n",
    "    return matrix(RR, M)"
   ]
  },
  {
   "cell_type": "code",
   "execution_count": 14,
   "metadata": {},
   "outputs": [],
   "source": [
    "# et de la matrice de corrélation\n",
    "def matCor(D):\n",
    "    M = [[0 for _ in D] for _ in D]\n",
    "    \n",
    "    for i in D:\n",
    "        for j in D:\n",
    "            M[i][j] = corS(D[i],D[j])\n",
    "            pass\n",
    "        pass\n",
    "    return matrix(RR, M)"
   ]
  },
  {
   "cell_type": "markdown",
   "metadata": {},
   "source": [
    "## Exercice 1 "
   ]
  },
  {
   "cell_type": "code",
   "execution_count": 15,
   "metadata": {},
   "outputs": [],
   "source": [
    "# Etude qualitative de 4 variables aléatoires couplées\n",
    "data={0:[0,1,2,3,4,5,6,7,8,9,10] ,\n",
    "  1:[2.04,3.02,4.15,4.97,6.02,7.08,8.12,9.14,10.13,10.86,11.89],\n",
    "  2:[5.01,7.93,3.27,20.50,11.33,12.41,16.74,11.39,16.61,11.48,23.59],\n",
    "  3:[7.45,8.20,2.09,9.03,7.99,8.58,9.63,5.06,2.49,8.22,8.01],\n",
    "  4:[10.04,9.02,8.97,8.15,6.02,5.08,4.12,3.14,2.86,2.13,1.89]}"
   ]
  },
  {
   "cell_type": "code",
   "execution_count": 16,
   "metadata": {},
   "outputs": [
    {
     "data": {
      "text/html": [
       "<html>\\[\\newcommand{\\Bold}[1]{\\mathbf{#1}}\\left(\\begin{array}{rrrrr}\n",
       "10.0000000000000 & 9.90818181818182 & 12.2100000000000 & -0.201818181818190 & -8.96000000000000 \\\\\n",
       "9.90818181818182 & 9.82534214876033 & 11.9971925619835 & -0.331259504132234 & -8.89960247933884 \\\\\n",
       "12.2100000000000 & 11.9971925619835 & 35.1811537190083 & 5.10836611570248 & -10.2181851239669 \\\\\n",
       "-0.201818181818190 & -0.331259504132234 & 5.10836611570248 & 6.07921983471074 & -0.0382900826446360 \\\\\n",
       "-8.96000000000000 & -8.89960247933884 & -10.2181851239669 & -0.0382900826446360 & 8.29707768595041\n",
       "\\end{array}\\right)\\]</html>"
      ],
      "text/latex": [
       "$$\\newcommand{\\Bold}[1]{\\mathbf{#1}}\\left(\\begin{array}{rrrrr}\n",
       "10.0000000000000 & 9.90818181818182 & 12.2100000000000 & -0.201818181818190 & -8.96000000000000 \\\\\n",
       "9.90818181818182 & 9.82534214876033 & 11.9971925619835 & -0.331259504132234 & -8.89960247933884 \\\\\n",
       "12.2100000000000 & 11.9971925619835 & 35.1811537190083 & 5.10836611570248 & -10.2181851239669 \\\\\n",
       "-0.201818181818190 & -0.331259504132234 & 5.10836611570248 & 6.07921983471074 & -0.0382900826446360 \\\\\n",
       "-8.96000000000000 & -8.89960247933884 & -10.2181851239669 & -0.0382900826446360 & 8.29707768595041\n",
       "\\end{array}\\right)$$"
      ],
      "text/plain": [
       "[   10.0000000000000    9.90818181818182    12.2100000000000  -0.201818181818190   -8.96000000000000]\n",
       "[   9.90818181818182    9.82534214876033    11.9971925619835  -0.331259504132234   -8.89960247933884]\n",
       "[   12.2100000000000    11.9971925619835    35.1811537190083    5.10836611570248   -10.2181851239669]\n",
       "[ -0.201818181818190  -0.331259504132234    5.10836611570248    6.07921983471074 -0.0382900826446360]\n",
       "[  -8.96000000000000   -8.89960247933884   -10.2181851239669 -0.0382900826446360    8.29707768595041]"
      ]
     },
     "metadata": {},
     "output_type": "display_data"
    }
   ],
   "source": [
    "show(matCov(data))"
   ]
  },
  {
   "cell_type": "code",
   "execution_count": 17,
   "metadata": {},
   "outputs": [
    {
     "data": {
      "text/html": [
       "<html>\\[\\newcommand{\\Bold}[1]{\\mathbf{#1}}\\left(\\begin{array}{rrrrr}\n",
       "1.00000000000000 & 0.999585910639363 & 0.650969476394899 & -0.0258842964468339 & -0.983660951392354 \\\\\n",
       "0.999585910639363 & 0.999999999999999 & 0.645283781109229 & -0.0428618174009170 & -0.985676014953601 \\\\\n",
       "0.650969476394899 & 0.645283781109229 & 1.00000000000000 & 0.349303592720273 & -0.598075689504387 \\\\\n",
       "-0.0258842964468339 & -0.0428618174009170 & 0.349303592720273 & 0.999999999999999 & -0.00539137823760026 \\\\\n",
       "-0.983660951392354 & -0.985676014953601 & -0.598075689504387 & -0.00539137823760026 & 1.00000000000000\n",
       "\\end{array}\\right)\\]</html>"
      ],
      "text/latex": [
       "$$\\newcommand{\\Bold}[1]{\\mathbf{#1}}\\left(\\begin{array}{rrrrr}\n",
       "1.00000000000000 & 0.999585910639363 & 0.650969476394899 & -0.0258842964468339 & -0.983660951392354 \\\\\n",
       "0.999585910639363 & 0.999999999999999 & 0.645283781109229 & -0.0428618174009170 & -0.985676014953601 \\\\\n",
       "0.650969476394899 & 0.645283781109229 & 1.00000000000000 & 0.349303592720273 & -0.598075689504387 \\\\\n",
       "-0.0258842964468339 & -0.0428618174009170 & 0.349303592720273 & 0.999999999999999 & -0.00539137823760026 \\\\\n",
       "-0.983660951392354 & -0.985676014953601 & -0.598075689504387 & -0.00539137823760026 & 1.00000000000000\n",
       "\\end{array}\\right)$$"
      ],
      "text/plain": [
       "[    1.00000000000000    0.999585910639363    0.650969476394899  -0.0258842964468339   -0.983660951392354]\n",
       "[   0.999585910639363    0.999999999999999    0.645283781109229  -0.0428618174009170   -0.985676014953601]\n",
       "[   0.650969476394899    0.645283781109229     1.00000000000000    0.349303592720273   -0.598075689504387]\n",
       "[ -0.0258842964468339  -0.0428618174009170    0.349303592720273    0.999999999999999 -0.00539137823760026]\n",
       "[  -0.983660951392354   -0.985676014953601   -0.598075689504387 -0.00539137823760026     1.00000000000000]"
      ]
     },
     "metadata": {},
     "output_type": "display_data"
    }
   ],
   "source": [
    "show(matCor(data))"
   ]
  },
  {
   "cell_type": "code",
   "execution_count": 18,
   "metadata": {},
   "outputs": [
    {
     "data": {
      "image/png": "[encoded data removed]",
      "text/plain": [
       "<Figure size 432x288 with 1 Axes>"
      ]
     },
     "metadata": {
      "needs_background": "light"
     },
     "output_type": "display_data"
    },
    {
     "data": {
      "image/png": "[encoded data removed]",
      "text/plain": [
       "<Figure size 432x288 with 1 Axes>"
      ]
     },
     "metadata": {
      "needs_background": "light"
     },
     "output_type": "display_data"
    },
    {
     "data": {
      "image/png": "[encoded data removed]",
      "text/plain": [
       "<Figure size 432x288 with 1 Axes>"
      ]
     },
     "metadata": {
      "needs_background": "light"
     },
     "output_type": "display_data"
    },
    {
     "data": {
      "image/png": "[encoded data removed]",
      "text/plain": [
       "<Figure size 432x288 with 1 Axes>"
      ]
     },
     "metadata": {
      "needs_background": "light"
     },
     "output_type": "display_data"
    }
   ],
   "source": [
    "import matplotlib.pyplot as plt\n",
    "# Représenter sur un même graphique les corrélations de la variable 1 avec les 4 autres variables\n",
    "\n",
    "for points in list(data)[1:] : # on retire le premier element de la liste, pas 1\n",
    "    plt.scatter(data[0], data[points])\n",
    "    plt.show()\n",
    "    pass"
   ]
  },
  {
   "cell_type": "code",
   "execution_count": 19,
   "metadata": {},
   "outputs": [
    {
     "data": {
      "text/plain": [
       "Text(0.5, 1.0, 'Représentation géométrique de la corrélation')"
      ]
     },
     "execution_count": 19,
     "metadata": {},
     "output_type": "execute_result"
    },
    {
     "data": {
      "image/png": "[encoded data removed]",
      "text/plain": [
       "<Figure size 432x288 with 1 Axes>"
      ]
     },
     "metadata": {
      "needs_background": "light"
     },
     "output_type": "display_data"
    }
   ],
   "source": [
    "# Représentation géométriquement les corrélations avec la première variable\n",
    "import matplotlib.pyplot as plt\n",
    "import numpy as np\n",
    "\n",
    "X = np.array([0,0,0,0,0], dtype = float)\n",
    "Y= np.array([0,0,0,0,0], dtype = float)\n",
    "\n",
    "# à compléter\n",
    "U = np.array(matCor(data)[0], dtype = float)\n",
    "V = np.array([sin(arccos(val)) for val in U], dtype = float)\n",
    "\n",
    "plt.quiver(X, Y, U, V,scale=3)\n",
    "a=1.2\n",
    "plt.xlim(-a,a)\n",
    "plt.ylim(-a,a)\n",
    "plt.title(\"Représentation géométrique de la corrélation\")"
   ]
  },
  {
   "cell_type": "code",
   "execution_count": null,
   "metadata": {},
   "outputs": [],
   "source": []
  },
  {
   "cell_type": "markdown",
   "metadata": {},
   "source": [
    "### Exercice 2 :  Voitures"
   ]
  },
  {
   "cell_type": "code",
   "execution_count": 20,
   "metadata": {},
   "outputs": [],
   "source": [
    "voitures={\"Alfasud\" : [1350 ,79 ,393, 161, 870 ,165],\n",
    "\"Audi\" : [1588, 85, 468, 177, 1110 ,160 ],\n",
    "\"Simca\"  : [1294 ,68, 424, 168, 1050 ,152 ],\n",
    "\"Citroen\"  : [1222, 59, 412, 161, 930 ,151 ],\n",
    "\"Fiat\" : [1585, 98, 439, 164,1105 ,165 ],\n",
    "\"Lancia\"  :[1297 ,82 ,429, 169, 1080 ,160 ],\n",
    "\"Peugeot\" :[ 1796, 79, 449 ,169, 1160 ,154 ],\n",
    "\"Renault16\" : [1565,55, 424, 163, 1010 ,140], \n",
    "\"Renault30\": [2664, 128, 452, 173, 1320,180], \n",
    "\"Toyota\" : [1166, 55 ,399, 157, 815, 140], \n",
    "\"Alfetta\" :[ 1570, 109, 428, 162, 1060, 175], \n",
    "\"Princess\" : [1798 ,82, 445, 172, 1160 ,158 ],\n",
    "\"Datsun\" :[1998 ,115, 469, 169, 1370 ,160 ],\n",
    "\"Taunus\" : [1993, 98 ,438 ,170, 1080 ,167 ],\n",
    "\"Rancho\" :[1442 ,80 ,431, 166, 1129, 144 ],\n",
    "\"Mazda\" :[1769 ,83,440,165 ,1095, 165 ],\n",
    "\"Opel\": [1979, 100 ,459 ,173, 1120 ,173], \n",
    "\"Lada\" : [1294, 68, 404 ,161, 955, 140] }"
   ]
  },
  {
   "cell_type": "code",
   "execution_count": 21,
   "metadata": {},
   "outputs": [
    {
     "ename": "NameError",
     "evalue": "name 'dictionnaire' is not defined",
     "output_type": "error",
     "traceback": [
      "\u001b[0;31m---------------------------------------------------------------------------\u001b[0m",
      "\u001b[0;31mNameError\u001b[0m                                 Traceback (most recent call last)",
      "\u001b[0;32m/tmp/ipykernel_28695/4075747211.py\u001b[0m in \u001b[0;36m<module>\u001b[0;34m\u001b[0m\n\u001b[1;32m     21\u001b[0m     \u001b[0;32mpass\u001b[0m\u001b[0;34m\u001b[0m\u001b[0;34m\u001b[0m\u001b[0m\n\u001b[1;32m     22\u001b[0m \u001b[0;34m\u001b[0m\u001b[0m\n\u001b[0;32m---> 23\u001b[0;31m \u001b[0mshow\u001b[0m\u001b[0;34m(\u001b[0m\u001b[0mdictionnaire\u001b[0m\u001b[0;34m)\u001b[0m\u001b[0;34m\u001b[0m\u001b[0;34m\u001b[0m\u001b[0m\n\u001b[0m",
      "\u001b[0;31mNameError\u001b[0m: name 'dictionnaire' is not defined"
     ]
    }
   ],
   "source": [
    "# Définir sous forme d'un dictionnaire, les 6 variables (cylindrée, puissance, longueur, largeur, poids, vitesse max)\n",
    "\n",
    "L = [\n",
    "    'cylindree',\n",
    "    'puissance',\n",
    "    'longueur',\n",
    "    'largeur',\n",
    "    'poids',\n",
    "    'vitesse max',\n",
    "]\n",
    "\n",
    "Z = {key:[] for key in L}\n",
    "\n",
    "for marque in voitures :\n",
    "    liste = voitures[marque]\n",
    "    \n",
    "    for index, value in zip(range(len(liste)), liste) :\n",
    "        Z[L[index]].append(value)\n",
    "        pass\n",
    "    \n",
    "    pass\n",
    "\n",
    "show(dictionnaire)"
   ]
  },
  {
   "cell_type": "code",
   "execution_count": null,
   "metadata": {},
   "outputs": [],
   "source": [
    "#Représenter quelques corrélations entre couples de variables\n",
    "plt.scatter(dictionnaire[L[1]], dictionnaire[L[5]])\n",
    "plt.show()\n"
   ]
  },
  {
   "cell_type": "code",
   "execution_count": 22,
   "metadata": {},
   "outputs": [
    {
     "ename": "NameError",
     "evalue": "name 'dictionnaire' is not defined",
     "output_type": "error",
     "traceback": [
      "\u001b[0;31m---------------------------------------------------------------------------\u001b[0m",
      "\u001b[0;31mNameError\u001b[0m                                 Traceback (most recent call last)",
      "\u001b[0;32m/tmp/ipykernel_28695/1006606240.py\u001b[0m in \u001b[0;36m<module>\u001b[0;34m\u001b[0m\n\u001b[0;32m----> 1\u001b[0;31m \u001b[0mplt\u001b[0m\u001b[0;34m.\u001b[0m\u001b[0mscatter\u001b[0m\u001b[0;34m(\u001b[0m\u001b[0mdictionnaire\u001b[0m\u001b[0;34m[\u001b[0m\u001b[0mL\u001b[0m\u001b[0;34m[\u001b[0m\u001b[0mInteger\u001b[0m\u001b[0;34m(\u001b[0m\u001b[0;36m0\u001b[0m\u001b[0;34m)\u001b[0m\u001b[0;34m]\u001b[0m\u001b[0;34m]\u001b[0m\u001b[0;34m,\u001b[0m \u001b[0mdictionnaire\u001b[0m\u001b[0;34m[\u001b[0m\u001b[0mL\u001b[0m\u001b[0;34m[\u001b[0m\u001b[0mInteger\u001b[0m\u001b[0;34m(\u001b[0m\u001b[0;36m1\u001b[0m\u001b[0;34m)\u001b[0m\u001b[0;34m]\u001b[0m\u001b[0;34m]\u001b[0m\u001b[0;34m)\u001b[0m\u001b[0;34m\u001b[0m\u001b[0;34m\u001b[0m\u001b[0m\n\u001b[0m\u001b[1;32m      2\u001b[0m \u001b[0mplt\u001b[0m\u001b[0;34m.\u001b[0m\u001b[0mshow\u001b[0m\u001b[0;34m(\u001b[0m\u001b[0;34m)\u001b[0m\u001b[0;34m\u001b[0m\u001b[0;34m\u001b[0m\u001b[0m\n",
      "\u001b[0;31mNameError\u001b[0m: name 'dictionnaire' is not defined"
     ]
    }
   ],
   "source": [
    "plt.scatter(dictionnaire[L[0]], dictionnaire[L[1]])\n",
    "plt.show()"
   ]
  },
  {
   "cell_type": "code",
   "execution_count": 23,
   "metadata": {},
   "outputs": [
    {
     "ename": "NameError",
     "evalue": "name 'dictionnaire' is not defined",
     "output_type": "error",
     "traceback": [
      "\u001b[0;31m---------------------------------------------------------------------------\u001b[0m",
      "\u001b[0;31mNameError\u001b[0m                                 Traceback (most recent call last)",
      "\u001b[0;32m/tmp/ipykernel_28695/360056177.py\u001b[0m in \u001b[0;36m<module>\u001b[0;34m\u001b[0m\n\u001b[0;32m----> 1\u001b[0;31m \u001b[0mplt\u001b[0m\u001b[0;34m.\u001b[0m\u001b[0mscatter\u001b[0m\u001b[0;34m(\u001b[0m\u001b[0mdictionnaire\u001b[0m\u001b[0;34m[\u001b[0m\u001b[0mL\u001b[0m\u001b[0;34m[\u001b[0m\u001b[0mInteger\u001b[0m\u001b[0;34m(\u001b[0m\u001b[0;36m4\u001b[0m\u001b[0;34m)\u001b[0m\u001b[0;34m]\u001b[0m\u001b[0;34m]\u001b[0m\u001b[0;34m,\u001b[0m \u001b[0mdictionnaire\u001b[0m\u001b[0;34m[\u001b[0m\u001b[0mL\u001b[0m\u001b[0;34m[\u001b[0m\u001b[0mInteger\u001b[0m\u001b[0;34m(\u001b[0m\u001b[0;36m5\u001b[0m\u001b[0;34m)\u001b[0m\u001b[0;34m]\u001b[0m\u001b[0;34m]\u001b[0m\u001b[0;34m)\u001b[0m\u001b[0;34m\u001b[0m\u001b[0;34m\u001b[0m\u001b[0m\n\u001b[0m\u001b[1;32m      2\u001b[0m \u001b[0mplt\u001b[0m\u001b[0;34m.\u001b[0m\u001b[0mshow\u001b[0m\u001b[0;34m(\u001b[0m\u001b[0;34m)\u001b[0m\u001b[0;34m\u001b[0m\u001b[0;34m\u001b[0m\u001b[0m\n",
      "\u001b[0;31mNameError\u001b[0m: name 'dictionnaire' is not defined"
     ]
    }
   ],
   "source": [
    "plt.scatter(dictionnaire[L[4]], dictionnaire[L[5]])\n",
    "plt.show()"
   ]
  },
  {
   "cell_type": "code",
   "execution_count": 24,
   "metadata": {},
   "outputs": [],
   "source": [
    "# C'est parti pour l'Analyse en Composante Principale\n",
    "#oui"
   ]
  },
  {
   "cell_type": "code",
   "execution_count": 25,
   "metadata": {},
   "outputs": [],
   "source": [
    "# calculer la matrice de corrélation"
   ]
  },
  {
   "cell_type": "code",
   "execution_count": 26,
   "metadata": {},
   "outputs": [
    {
     "data": {
      "text/html": [
       "<html>\\[\\newcommand{\\Bold}[1]{\\mathbf{#1}}\\begin{array}{l}\n",
       "\\verb|[[1.|\\phantom{\\verb!xxxxxxxxx!}\\verb|0.79662771|\\phantom{\\verb!x!}\\verb|0.70146192|\\phantom{\\verb!x!}\\verb|0.62975716|\\phantom{\\verb!x!}\\verb|0.78895203|\\phantom{\\verb!x!}\\verb|0.66493402]|\\\\\n",
       "\\phantom{\\verb!x!}\\verb|[0.79662771|\\phantom{\\verb!x!}\\verb|1.|\\phantom{\\verb!xxxxxxxxx!}\\verb|0.64136235|\\phantom{\\verb!x!}\\verb|0.52083197|\\phantom{\\verb!x!}\\verb|0.765293|\\phantom{\\verb!xxx!}\\verb|0.84437948]|\\\\\n",
       "\\phantom{\\verb!x!}\\verb|[0.70146192|\\phantom{\\verb!x!}\\verb|0.64136235|\\phantom{\\verb!x!}\\verb|1.|\\phantom{\\verb!xxxxxxxxx!}\\verb|0.84926635|\\phantom{\\verb!x!}\\verb|0.86809028|\\phantom{\\verb!x!}\\verb|0.47592847]|\\\\\n",
       "\\phantom{\\verb!x!}\\verb|[0.62975716|\\phantom{\\verb!x!}\\verb|0.52083197|\\phantom{\\verb!x!}\\verb|0.84926635|\\phantom{\\verb!x!}\\verb|1.|\\phantom{\\verb!xxxxxxxxx!}\\verb|0.71687392|\\phantom{\\verb!x!}\\verb|0.47294527]|\\\\\n",
       "\\phantom{\\verb!x!}\\verb|[0.78895203|\\phantom{\\verb!x!}\\verb|0.765293|\\phantom{\\verb!xxx!}\\verb|0.86809028|\\phantom{\\verb!x!}\\verb|0.71687392|\\phantom{\\verb!x!}\\verb|1.|\\phantom{\\verb!xxxxxxxxx!}\\verb|0.4775956|\\phantom{\\verb!x!}\\verb|]|\\\\\n",
       "\\phantom{\\verb!x!}\\verb|[0.66493402|\\phantom{\\verb!x!}\\verb|0.84437948|\\phantom{\\verb!x!}\\verb|0.47592847|\\phantom{\\verb!x!}\\verb|0.47294527|\\phantom{\\verb!x!}\\verb|0.4775956|\\phantom{\\verb!xx!}\\verb|1.|\\phantom{\\verb!xxxxxxxx!}\\verb|]]|\n",
       "\\end{array}\\]</html>"
      ],
      "text/latex": [
       "$$\\newcommand{\\Bold}[1]{\\mathbf{#1}}\\begin{array}{l}\n",
       "\\verb|[[1.|\\phantom{\\verb!xxxxxxxxx!}\\verb|0.79662771|\\phantom{\\verb!x!}\\verb|0.70146192|\\phantom{\\verb!x!}\\verb|0.62975716|\\phantom{\\verb!x!}\\verb|0.78895203|\\phantom{\\verb!x!}\\verb|0.66493402]|\\\\\n",
       "\\phantom{\\verb!x!}\\verb|[0.79662771|\\phantom{\\verb!x!}\\verb|1.|\\phantom{\\verb!xxxxxxxxx!}\\verb|0.64136235|\\phantom{\\verb!x!}\\verb|0.52083197|\\phantom{\\verb!x!}\\verb|0.765293|\\phantom{\\verb!xxx!}\\verb|0.84437948]|\\\\\n",
       "\\phantom{\\verb!x!}\\verb|[0.70146192|\\phantom{\\verb!x!}\\verb|0.64136235|\\phantom{\\verb!x!}\\verb|1.|\\phantom{\\verb!xxxxxxxxx!}\\verb|0.84926635|\\phantom{\\verb!x!}\\verb|0.86809028|\\phantom{\\verb!x!}\\verb|0.47592847]|\\\\\n",
       "\\phantom{\\verb!x!}\\verb|[0.62975716|\\phantom{\\verb!x!}\\verb|0.52083197|\\phantom{\\verb!x!}\\verb|0.84926635|\\phantom{\\verb!x!}\\verb|1.|\\phantom{\\verb!xxxxxxxxx!}\\verb|0.71687392|\\phantom{\\verb!x!}\\verb|0.47294527]|\\\\\n",
       "\\phantom{\\verb!x!}\\verb|[0.78895203|\\phantom{\\verb!x!}\\verb|0.765293|\\phantom{\\verb!xxx!}\\verb|0.86809028|\\phantom{\\verb!x!}\\verb|0.71687392|\\phantom{\\verb!x!}\\verb|1.|\\phantom{\\verb!xxxxxxxxx!}\\verb|0.4775956|\\phantom{\\verb!x!}\\verb|]|\\\\\n",
       "\\phantom{\\verb!x!}\\verb|[0.66493402|\\phantom{\\verb!x!}\\verb|0.84437948|\\phantom{\\verb!x!}\\verb|0.47592847|\\phantom{\\verb!x!}\\verb|0.47294527|\\phantom{\\verb!x!}\\verb|0.4775956|\\phantom{\\verb!xx!}\\verb|1.|\\phantom{\\verb!xxxxxxxx!}\\verb|]]|\n",
       "\\end{array}$$"
      ],
      "text/plain": [
       "array([[1.        , 0.79662771, 0.70146192, 0.62975716, 0.78895203,\n",
       "        0.66493402],\n",
       "       [0.79662771, 1.        , 0.64136235, 0.52083197, 0.765293  ,\n",
       "        0.84437948],\n",
       "       [0.70146192, 0.64136235, 1.        , 0.84926635, 0.86809028,\n",
       "        0.47592847],\n",
       "       [0.62975716, 0.52083197, 0.84926635, 1.        , 0.71687392,\n",
       "        0.47294527],\n",
       "       [0.78895203, 0.765293  , 0.86809028, 0.71687392, 1.        ,\n",
       "        0.4775956 ],\n",
       "       [0.66493402, 0.84437948, 0.47592847, 0.47294527, 0.4775956 ,\n",
       "        1.        ]])"
      ]
     },
     "metadata": {},
     "output_type": "display_data"
    }
   ],
   "source": [
    "# Avec numpy\n",
    "import numpy as np\n",
    "\n",
    "test = np.stack((Z[L[0]],Z[L[1]],Z[L[2]], Z[L[3]],Z[L[4]],Z[L[5]]))\n",
    "Cor=np.corrcoef(test)\n",
    "\n",
    "show(Cor)"
   ]
  },
  {
   "cell_type": "code",
   "execution_count": 27,
   "metadata": {},
   "outputs": [
    {
     "name": "stdout",
     "output_type": "stream",
     "text": [
      "[0.04329027267594051?, 0.0928012120059281?, 0.2139220890233096?, 0.3730660774399736?, 0.8560622892459589?, 4.420858059608889?]\n"
     ]
    }
   ],
   "source": [
    "#Déterminer ses valeurs propres\n",
    "\n",
    "X = matrix(QQ, Cor)\n",
    "\n",
    "vp = X.eigenvalues()\n",
    "print(vp)"
   ]
  },
  {
   "cell_type": "code",
   "execution_count": 28,
   "metadata": {},
   "outputs": [
    {
     "data": {
      "text/html": [
       "<html>\\[\\newcommand{\\Bold}[1]{\\mathbf{#1}}\\left[4.420858059608889?, 0.8560622892459589?, 0.3730660774399736?, 0.2139220890233096?, 0.0928012120059281?, 0.04329027267594051?\\right]\\]</html>"
      ],
      "text/latex": [
       "$$\\newcommand{\\Bold}[1]{\\mathbf{#1}}\\left[4.420858059608889?, 0.8560622892459589?, 0.3730660774399736?, 0.2139220890233096?, 0.0928012120059281?, 0.04329027267594051?\\right]$$"
      ],
      "text/plain": [
       "[4.420858059608889?, 0.8560622892459589?, 0.3730660774399736?, 0.2139220890233096?, 0.0928012120059281?, 0.04329027267594051?]"
      ]
     },
     "metadata": {},
     "output_type": "display_data"
    }
   ],
   "source": [
    "vp.reverse()\n",
    "show(vp)"
   ]
  },
  {
   "cell_type": "code",
   "execution_count": 29,
   "metadata": {},
   "outputs": [
    {
     "name": "stdout",
     "output_type": "stream",
     "text": [
      "6.000000000000000?\n",
      "0.8794867248091414?\n"
     ]
    }
   ],
   "source": [
    "# Calculer l'inertie de la composante principale et du plan principal\n",
    "\n",
    "print(sum(vp))\n",
    "\n",
    "#calcul de la part d inertie\n",
    "\n",
    "print((vp[0]+vp[1])/sum(vp))\n"
   ]
  },
  {
   "cell_type": "code",
   "execution_count": 30,
   "metadata": {},
   "outputs": [
    {
     "data": {
      "text/plain": [
       "<BarContainer object of 6 artists>"
      ]
     },
     "execution_count": 30,
     "metadata": {},
     "output_type": "execute_result"
    },
    {
     "data": {
      "image/png": "[encoded data removed]",
      "text/plain": [
       "<Figure size 432x288 with 1 Axes>"
      ]
     },
     "metadata": {
      "needs_background": "light"
     },
     "output_type": "display_data"
    }
   ],
   "source": [
    "#Représenter l'ébouli des valeurs propres\n",
    "\n",
    "plt.title(\"Ebouli des valeurs propres\")\n",
    "plt.bar(range(len(vp)), vp)"
   ]
  },
  {
   "cell_type": "code",
   "execution_count": 31,
   "metadata": {},
   "outputs": [],
   "source": [
    "# Diagonaliser la matrice de corrélation. Soit P sa matrice de passage"
   ]
  },
  {
   "cell_type": "code",
   "execution_count": 32,
   "metadata": {},
   "outputs": [
    {
     "data": {
      "text/html": [
       "<html>\\[\\newcommand{\\Bold}[1]{\\mathbf{#1}}\\Bold{Q} \\left(\\begin{array}{rrrrrr}\n",
       "-0.775098891732314 & -0.2833581759860091 & -1.8850807722650857 & -1.0973452814254328 & -1.56900676417733 & 0.5697604307116213 \\\\\n",
       "-0.12016326013838259 & 0.0196386854643767 & 1.6058095467443323 & 2.0010413955405 & 0.23416142450212413 & 0.14597168059553975 \\\\\n",
       "-0.9292013932838273 & -0.8388524219783832 & -0.4421794404078596 & 0.25819888974716293 & -0.21663062266773941 & -0.5320903195901907 \\\\\n",
       "-1.127333180992916 & -1.2933477141539618 & -1.0007218914493665 & -1.0973452814254328 & -1.1182147170074666 & -0.6168480696134071 \\\\\n",
       "-0.12841875129292796 & 0.676131885273546 & 0.25599862339402396 & -0.5163977794943203 & 0.19659542057130217 & 0.5697604307116213 \\\\\n",
       "-0.9209459021292821 & -0.1318597452608162 & -0.2094534191405651 & 0.4518480570575337 & 0.008765400917192362 & 0.14597168059553975 \\\\\n",
       "0.4522174599100953 & -0.2833581759860091 & 0.7214506659286131 & 0.4518480570575337 & 0.6098214638103437 & -0.36257481954375814 \\\\\n",
       "-0.18345535898989698 & -1.4953456217875525 & -0.4421794404078596 & -0.7100469468046912 & -0.5171586541143152 & -1.5491833198687865 \\\\\n",
       "2.8408062339585514 & 2.191116192525475 & 0.8610862786889898 & 1.226444726299017 & 1.8119335895966466 & 1.841126681059866 \\\\\n",
       "-1.2814356825444293 & -1.4953456217875525 & -1.6058095467443323 & -1.8719419506669162 & -1.9822328074163718 & -1.5491833198687865 \\\\\n",
       "-0.16969620706565472 & 1.23162613126592 & -0.25599862339402396 & -0.903696114115062 & -0.1414986148060955 & 1.4173379309437844 \\\\\n",
       "0.45772112067979226 & -0.1318597452608162 & 0.5352698489147775 & 1.0327955589886462 & 0.6098214638103437 & -0.023543819450892886 \\\\\n",
       "1.0080871976494825 & 1.5346229927163058 & 1.6523547509977912 & 0.4518480570575337 & 2.187593628904866 & 0.14597168059553975 \\\\\n",
       "0.9943280457252404 & 0.676131885273546 & 0.2094534191405651 & 0.6454972243679046 & 0.008765400917192362 & 0.739275930758054 \\\\\n",
       "-0.5219304963262565 & -0.23285869907761148 & -0.11636301063364726 & -0.12909944487357872 & 0.3769122394392476 & -1.2101523197759212 \\\\\n",
       "0.3779180395191872 & -0.08136026835241858 & 0.3025438276474829 & -0.3227486121839495 & 0.12146341270965826 & 0.5697604307116213 \\\\\n",
       "0.955802420337362 & 0.7771308390903412 & 1.1869027084632022 & 1.226444726299017 & 0.30929343236376805 & 1.2478224308973518 \\\\\n",
       "-0.9292013932838273 & -0.8388524219783832 & -1.3730835254770377 & -1.0973452814254328 & -0.9303846973533567 & -1.5491833198687865\n",
       "\\end{array}\\right)\\]</html>"
      ],
      "text/latex": [
       "$$\\newcommand{\\Bold}[1]{\\mathbf{#1}}\\Bold{Q} \\left(\\begin{array}{rrrrrr}\n",
       "-0.775098891732314 & -0.2833581759860091 & -1.8850807722650857 & -1.0973452814254328 & -1.56900676417733 & 0.5697604307116213 \\\\\n",
       "-0.12016326013838259 & 0.0196386854643767 & 1.6058095467443323 & 2.0010413955405 & 0.23416142450212413 & 0.14597168059553975 \\\\\n",
       "-0.9292013932838273 & -0.8388524219783832 & -0.4421794404078596 & 0.25819888974716293 & -0.21663062266773941 & -0.5320903195901907 \\\\\n",
       "-1.127333180992916 & -1.2933477141539618 & -1.0007218914493665 & -1.0973452814254328 & -1.1182147170074666 & -0.6168480696134071 \\\\\n",
       "-0.12841875129292796 & 0.676131885273546 & 0.25599862339402396 & -0.5163977794943203 & 0.19659542057130217 & 0.5697604307116213 \\\\\n",
       "-0.9209459021292821 & -0.1318597452608162 & -0.2094534191405651 & 0.4518480570575337 & 0.008765400917192362 & 0.14597168059553975 \\\\\n",
       "0.4522174599100953 & -0.2833581759860091 & 0.7214506659286131 & 0.4518480570575337 & 0.6098214638103437 & -0.36257481954375814 \\\\\n",
       "-0.18345535898989698 & -1.4953456217875525 & -0.4421794404078596 & -0.7100469468046912 & -0.5171586541143152 & -1.5491833198687865 \\\\\n",
       "2.8408062339585514 & 2.191116192525475 & 0.8610862786889898 & 1.226444726299017 & 1.8119335895966466 & 1.841126681059866 \\\\\n",
       "-1.2814356825444293 & -1.4953456217875525 & -1.6058095467443323 & -1.8719419506669162 & -1.9822328074163718 & -1.5491833198687865 \\\\\n",
       "-0.16969620706565472 & 1.23162613126592 & -0.25599862339402396 & -0.903696114115062 & -0.1414986148060955 & 1.4173379309437844 \\\\\n",
       "0.45772112067979226 & -0.1318597452608162 & 0.5352698489147775 & 1.0327955589886462 & 0.6098214638103437 & -0.023543819450892886 \\\\\n",
       "1.0080871976494825 & 1.5346229927163058 & 1.6523547509977912 & 0.4518480570575337 & 2.187593628904866 & 0.14597168059553975 \\\\\n",
       "0.9943280457252404 & 0.676131885273546 & 0.2094534191405651 & 0.6454972243679046 & 0.008765400917192362 & 0.739275930758054 \\\\\n",
       "-0.5219304963262565 & -0.23285869907761148 & -0.11636301063364726 & -0.12909944487357872 & 0.3769122394392476 & -1.2101523197759212 \\\\\n",
       "0.3779180395191872 & -0.08136026835241858 & 0.3025438276474829 & -0.3227486121839495 & 0.12146341270965826 & 0.5697604307116213 \\\\\n",
       "0.955802420337362 & 0.7771308390903412 & 1.1869027084632022 & 1.226444726299017 & 0.30929343236376805 & 1.2478224308973518 \\\\\n",
       "-0.9292013932838273 & -0.8388524219783832 & -1.3730835254770377 & -1.0973452814254328 & -0.9303846973533567 & -1.5491833198687865\n",
       "\\end{array}\\right)$$"
      ],
      "text/plain": [
       "Rational Field [   -0.775098891732314   -0.2833581759860091   -1.8850807722650857   -1.0973452814254328     -1.56900676417733    0.5697604307116213]\n",
       "[ -0.12016326013838259    0.0196386854643767    1.6058095467443323       2.0010413955405   0.23416142450212413   0.14597168059553975]\n",
       "[  -0.9292013932838273   -0.8388524219783832   -0.4421794404078596   0.25819888974716293  -0.21663062266773941   -0.5320903195901907]\n",
       "[   -1.127333180992916   -1.2933477141539618   -1.0007218914493665   -1.0973452814254328   -1.1182147170074666   -0.6168480696134071]\n",
       "[ -0.12841875129292796     0.676131885273546   0.25599862339402396   -0.5163977794943203   0.19659542057130217    0.5697604307116213]\n",
       "[  -0.9209459021292821   -0.1318597452608162   -0.2094534191405651    0.4518480570575337  0.008765400917192362   0.14597168059553975]\n",
       "[   0.4522174599100953   -0.2833581759860091    0.7214506659286131    0.4518480570575337    0.6098214638103437  -0.36257481954375814]\n",
       "[ -0.18345535898989698   -1.4953456217875525   -0.4421794404078596   -0.7100469468046912   -0.5171586541143152   -1.5491833198687865]\n",
       "[   2.8408062339585514     2.191116192525475    0.8610862786889898     1.226444726299017    1.8119335895966466     1.841126681059866]\n",
       "[  -1.2814356825444293   -1.4953456217875525   -1.6058095467443323   -1.8719419506669162   -1.9822328074163718   -1.5491833198687865]\n",
       "[ -0.16969620706565472      1.23162613126592  -0.25599862339402396    -0.903696114115062   -0.1414986148060955    1.4173379309437844]\n",
       "[  0.45772112067979226   -0.1318597452608162    0.5352698489147775    1.0327955589886462    0.6098214638103437 -0.023543819450892886]\n",
       "[   1.0080871976494825    1.5346229927163058    1.6523547509977912    0.4518480570575337     2.187593628904866   0.14597168059553975]\n",
       "[   0.9943280457252404     0.676131885273546    0.2094534191405651    0.6454972243679046  0.008765400917192362     0.739275930758054]\n",
       "[  -0.5219304963262565  -0.23285869907761148  -0.11636301063364726  -0.12909944487357872    0.3769122394392476   -1.2101523197759212]\n",
       "[   0.3779180395191872  -0.08136026835241858    0.3025438276474829   -0.3227486121839495   0.12146341270965826    0.5697604307116213]\n",
       "[    0.955802420337362    0.7771308390903412    1.1869027084632022     1.226444726299017   0.30929343236376805    1.2478224308973518]\n",
       "[  -0.9292013932838273   -0.8388524219783832   -1.3730835254770377   -1.0973452814254328   -0.9303846973533567   -1.5491833198687865]"
      ]
     },
     "metadata": {},
     "output_type": "display_data"
    }
   ],
   "source": [
    "D = []\n",
    "\n",
    "for i in range(len(vp)):\n",
    "    u=[0 for i in range(len(vp))]\n",
    "    u[i]=vp[i]\n",
    "    D.append(u)\n",
    "\n",
    "D,P = matrix(Cor).eigenmatrix_right()\n",
    "\n",
    "#chaauq valeur est retire la moyenne de sa ligne et divise par l ecart type de sa ligne\n",
    "#centre reduit !\n",
    "\n",
    "X = []\n",
    "for ligne in test :\n",
    "    L = []\n",
    "    ecarttype = ecTypeS(ligne)\n",
    "    moyenne = moy(ligne)\n",
    "    for valeur in ligne :\n",
    "        L.append((valeur - moyenne) / ecarttype)\n",
    "        pass\n",
    "    X.append(L)\n",
    "    pass\n",
    "X = matrix(X).transpose()\n",
    "\n",
    "show(QQ, X)"
   ]
  },
  {
   "cell_type": "code",
   "execution_count": 33,
   "metadata": {
    "scrolled": true
   },
   "outputs": [
    {
     "data": {
      "text/html": [
       "<html>\\[\\newcommand{\\Bold}[1]{\\mathbf{#1}}\\left(\\begin{array}{rrrrrr}\n",
       "-2.1389236092041437 & 1.785681021713268 & -0.571862280743281 & 0.20192734157459852 & -0.30135696166313136 & 0.053920792454670685 \\\\\n",
       "1.56145858728956 & -1.5270402725891452 & -1.3152713538706038 & -0.21135153778747476 & 0.14851613917312023 & -0.3272384360591556 \\\\\n",
       "-1.1193852830595177 & -0.6745051723209037 & -0.4565881025079319 & -0.1676258414299452 & -0.37536398276481564 & 0.27180323243633475 \\\\\n",
       "-2.5737417049656766 & 0.11288416138351437 & -0.14856979614820875 & -0.01734322359799457 & 0.22685321633032196 & 0.26347623122936864 \\\\\n",
       "0.4278552011804998 & 0.6955673145483514 & 0.19328567418850323 & -0.6277544823369476 & 0.2635053087415849 & -0.03715265383458516 \\\\\n",
       "-0.30423764473594667 & -0.19614878388580492 & -0.6758031663378363 & -0.5559413664344186 & -0.44508594299811577 & 0.20008299083215272 \\\\\n",
       "0.6839284963029304 & -0.933056765693695 & 0.2568230829338852 & 0.20313429176957715 & 0.2086516497800366 & 0.1538917510260188 \\\\\n",
       "-1.948492566092317 & -0.9804480462795448 & 0.6195748784389324 & 0.6303191585287812 & 0.293165126081892 & 0.10864179347899905 \\\\\n",
       "4.409734571040129 & 1.0636331700602357 & 0.5935284189237677 & 0.84724778490969 & -0.37488966918067324 & 0.043996570724850526 \\\\\n",
       "-3.9857824179661625 & 0.23624041740891077 & 0.3031333590630285 & 0.26512179570931127 & 0.27842845600856875 & -0.3288919918433232 \\\\\n",
       "0.43765818500197096 & 1.9124481608594088 & -0.024942239634071273 & -0.758910419847667 & 0.16810266584371203 & -0.0542407451187461 \\\\\n",
       "1.0181753819831283 & -0.8417120976691792 & -0.21661021489996662 & 0.3034264151536172 & -0.1848757846409105 & 0.18489356268118662 \\\\\n",
       "2.941080314093148 & -0.5591745927458189 & 1.2439881614767825 & -0.7721710674892512 & 0.05441212930810464 & -0.05726265899007821 \\\\\n",
       "1.3148803830909372 & 0.4865224579258671 & -0.28262140071426783 & 0.582226234846536 & -0.0667346706654694 & -0.25309176092754987 \\\\\n",
       "-0.6911113710103415 & -0.8977213940083676 & 0.6284068932363169 & -0.3577366865238162 & -0.3770859280146288 & -0.12153156413582072 \\\\\n",
       "0.385708866322082 & 0.356184572521176 & 0.07558298916404194 & 0.10289944753823063 & 0.5270430059735908 & 0.3388319454309858 \\\\\n",
       "2.2897682429160513 & 0.10434464479517747 & -0.7963837793345132 & 0.23634748264999406 & 0.33846112502501124 & -0.15668107513770824 \\\\\n",
       "-2.7085736321863134 & -0.14369879602346258 & 0.5743288767654009 & 0.09618467276718076 & -0.3817458823382149 & -0.2834479842475921\n",
       "\\end{array}\\right)\\]</html>"
      ],
      "text/latex": [
       "$$\\newcommand{\\Bold}[1]{\\mathbf{#1}}\\left(\\begin{array}{rrrrrr}\n",
       "-2.1389236092041437 & 1.785681021713268 & -0.571862280743281 & 0.20192734157459852 & -0.30135696166313136 & 0.053920792454670685 \\\\\n",
       "1.56145858728956 & -1.5270402725891452 & -1.3152713538706038 & -0.21135153778747476 & 0.14851613917312023 & -0.3272384360591556 \\\\\n",
       "-1.1193852830595177 & -0.6745051723209037 & -0.4565881025079319 & -0.1676258414299452 & -0.37536398276481564 & 0.27180323243633475 \\\\\n",
       "-2.5737417049656766 & 0.11288416138351437 & -0.14856979614820875 & -0.01734322359799457 & 0.22685321633032196 & 0.26347623122936864 \\\\\n",
       "0.4278552011804998 & 0.6955673145483514 & 0.19328567418850323 & -0.6277544823369476 & 0.2635053087415849 & -0.03715265383458516 \\\\\n",
       "-0.30423764473594667 & -0.19614878388580492 & -0.6758031663378363 & -0.5559413664344186 & -0.44508594299811577 & 0.20008299083215272 \\\\\n",
       "0.6839284963029304 & -0.933056765693695 & 0.2568230829338852 & 0.20313429176957715 & 0.2086516497800366 & 0.1538917510260188 \\\\\n",
       "-1.948492566092317 & -0.9804480462795448 & 0.6195748784389324 & 0.6303191585287812 & 0.293165126081892 & 0.10864179347899905 \\\\\n",
       "4.409734571040129 & 1.0636331700602357 & 0.5935284189237677 & 0.84724778490969 & -0.37488966918067324 & 0.043996570724850526 \\\\\n",
       "-3.9857824179661625 & 0.23624041740891077 & 0.3031333590630285 & 0.26512179570931127 & 0.27842845600856875 & -0.3288919918433232 \\\\\n",
       "0.43765818500197096 & 1.9124481608594088 & -0.024942239634071273 & -0.758910419847667 & 0.16810266584371203 & -0.0542407451187461 \\\\\n",
       "1.0181753819831283 & -0.8417120976691792 & -0.21661021489996662 & 0.3034264151536172 & -0.1848757846409105 & 0.18489356268118662 \\\\\n",
       "2.941080314093148 & -0.5591745927458189 & 1.2439881614767825 & -0.7721710674892512 & 0.05441212930810464 & -0.05726265899007821 \\\\\n",
       "1.3148803830909372 & 0.4865224579258671 & -0.28262140071426783 & 0.582226234846536 & -0.0667346706654694 & -0.25309176092754987 \\\\\n",
       "-0.6911113710103415 & -0.8977213940083676 & 0.6284068932363169 & -0.3577366865238162 & -0.3770859280146288 & -0.12153156413582072 \\\\\n",
       "0.385708866322082 & 0.356184572521176 & 0.07558298916404194 & 0.10289944753823063 & 0.5270430059735908 & 0.3388319454309858 \\\\\n",
       "2.2897682429160513 & 0.10434464479517747 & -0.7963837793345132 & 0.23634748264999406 & 0.33846112502501124 & -0.15668107513770824 \\\\\n",
       "-2.7085736321863134 & -0.14369879602346258 & 0.5743288767654009 & 0.09618467276718076 & -0.3817458823382149 & -0.2834479842475921\n",
       "\\end{array}\\right)$$"
      ],
      "text/plain": [
       "[  -2.1389236092041437     1.785681021713268    -0.571862280743281   0.20192734157459852  -0.30135696166313136  0.053920792454670685]\n",
       "[     1.56145858728956   -1.5270402725891452   -1.3152713538706038  -0.21135153778747476   0.14851613917312023   -0.3272384360591556]\n",
       "[  -1.1193852830595177   -0.6745051723209037   -0.4565881025079319   -0.1676258414299452  -0.37536398276481564   0.27180323243633475]\n",
       "[  -2.5737417049656766   0.11288416138351437  -0.14856979614820875  -0.01734322359799457   0.22685321633032196   0.26347623122936864]\n",
       "[   0.4278552011804998    0.6955673145483514   0.19328567418850323   -0.6277544823369476    0.2635053087415849  -0.03715265383458516]\n",
       "[ -0.30423764473594667  -0.19614878388580492   -0.6758031663378363   -0.5559413664344186  -0.44508594299811577   0.20008299083215272]\n",
       "[   0.6839284963029304    -0.933056765693695    0.2568230829338852   0.20313429176957715    0.2086516497800366    0.1538917510260188]\n",
       "[   -1.948492566092317   -0.9804480462795448    0.6195748784389324    0.6303191585287812     0.293165126081892   0.10864179347899905]\n",
       "[    4.409734571040129    1.0636331700602357    0.5935284189237677      0.84724778490969  -0.37488966918067324  0.043996570724850526]\n",
       "[  -3.9857824179661625   0.23624041740891077    0.3031333590630285   0.26512179570931127   0.27842845600856875   -0.3288919918433232]\n",
       "[  0.43765818500197096    1.9124481608594088 -0.024942239634071273    -0.758910419847667   0.16810266584371203   -0.0542407451187461]\n",
       "[   1.0181753819831283   -0.8417120976691792  -0.21661021489996662    0.3034264151536172   -0.1848757846409105   0.18489356268118662]\n",
       "[    2.941080314093148   -0.5591745927458189    1.2439881614767825   -0.7721710674892512   0.05441212930810464  -0.05726265899007821]\n",
       "[   1.3148803830909372    0.4865224579258671  -0.28262140071426783     0.582226234846536   -0.0667346706654694  -0.25309176092754987]\n",
       "[  -0.6911113710103415   -0.8977213940083676    0.6284068932363169   -0.3577366865238162   -0.3770859280146288  -0.12153156413582072]\n",
       "[    0.385708866322082     0.356184572521176   0.07558298916404194   0.10289944753823063    0.5270430059735908    0.3388319454309858]\n",
       "[   2.2897682429160513   0.10434464479517747   -0.7963837793345132   0.23634748264999406   0.33846112502501124  -0.15668107513770824]\n",
       "[  -2.7085736321863134  -0.14369879602346258    0.5743288767654009   0.09618467276718076   -0.3817458823382149   -0.2834479842475921]"
      ]
     },
     "metadata": {},
     "output_type": "display_data"
    }
   ],
   "source": [
    "# Construire les deux composantes principales\n",
    "C = X * P\n",
    "\n",
    "C2=C.transpose()\n",
    "show(C)\n",
    "C1 = C2[0]\n",
    "C2 = C2[1]"
   ]
  },
  {
   "cell_type": "code",
   "execution_count": 34,
   "metadata": {},
   "outputs": [
    {
     "data": {
      "text/plain": [
       "Text(0.5, 1.0, 'Tracé suivant les composantes principales')"
      ]
     },
     "execution_count": 34,
     "metadata": {},
     "output_type": "execute_result"
    },
    {
     "data": {
      "image/png": "[encoded data removed]",
      "text/plain": [
       "<Figure size 432x288 with 1 Axes>"
      ]
     },
     "metadata": {
      "needs_background": "light"
     },
     "output_type": "display_data"
    }
   ],
   "source": [
    "# Tracé les différents véhicules suivant les deux composantes principales\n",
    "plt.scatter(C1,C2,marker='o')\n",
    "plt.xlabel('CP 1')\n",
    "plt.ylabel('CP 2')\n",
    "plt.title(\"Tracé suivant les composantes principales\")\n",
    "\n"
   ]
  },
  {
   "cell_type": "code",
   "execution_count": 35,
   "metadata": {},
   "outputs": [
    {
     "data": {
      "text/plain": [
       "<BarContainer object of 6 artists>"
      ]
     },
     "execution_count": 35,
     "metadata": {},
     "output_type": "execute_result"
    },
    {
     "data": {
      "image/png": "[encoded data removed]",
      "text/plain": [
       "<Figure size 432x288 with 1 Axes>"
      ]
     },
     "metadata": {
      "needs_background": "light"
     },
     "output_type": "display_data"
    }
   ],
   "source": [
    "# Représenter graphiquement les contributions des variables aux composantes principales :\n",
    "\n",
    "plt.bar(range(len(vp)), vp)\n"
   ]
  },
  {
   "cell_type": "code",
   "execution_count": null,
   "metadata": {},
   "outputs": [],
   "source": []
  },
  {
   "cell_type": "markdown",
   "metadata": {},
   "source": [
    "### Exercice 3 : Jus de fruit "
   ]
  },
  {
   "cell_type": "code",
   "execution_count": 36,
   "metadata": {},
   "outputs": [],
   "source": [
    "# Un jus de fruit est caractériqsé par les caractéristiques suivantes : \n",
    "# odeur, pulpeux, couleur, acidité, amertume, sucré, originalité\n",
    "data={1:[2.82,2.53,1.66,3.46,3.15,2.97,2.60],\n",
    "      2:[2.76,2.82,1.91,3.23,2.55,2.08,3.32 ],\n",
    "      3:[2.83,2.88,4.0,3.45,2.42,1.76,3.38 ],\n",
    "      4:[2.76,2.59,1.66,3.37,3.05,2.56,2.8 ],\n",
    "      5:[3.2,3.02,3.69,3.12,2.33,1.97,3.34 ],\n",
    "      6:[3.07,2.73,3.34,3.54,3.31,2.63,2.9 ],\n",
    "     }"
   ]
  },
  {
   "cell_type": "code",
   "execution_count": 52,
   "metadata": {},
   "outputs": [],
   "source": [
    "voitures={\"Alfasud\" : [1350 ,79 ,393, 161, 870 ,165],\n",
    "\"Audi\" : [1588, 85, 468, 177, 1110 ,160 ],\n",
    "\"Simca\"  : [1294 ,68, 424, 168, 1050 ,152 ],\n",
    "\"Citroen\"  : [1222, 59, 412, 161, 930 ,151 ],\n",
    "\"Fiat\" : [1585, 98, 439, 164,1105 ,165 ],\n",
    "\"Lancia\"  :[1297 ,82 ,429, 169, 1080 ,160 ],\n",
    "\"Peugeot\" :[ 1796, 79, 449 ,169, 1160 ,154 ],\n",
    "\"Renault16\" : [1565,55, 424, 163, 1010 ,140], \n",
    "\"Renault30\": [2664, 128, 452, 173, 1320,180], \n",
    "\"Toyota\" : [1166, 55 ,399, 157, 815, 140], \n",
    "\"Alfetta\" :[ 1570, 109, 428, 162, 1060, 175], \n",
    "\"Princess\" : [1798 ,82, 445, 172, 1160 ,158 ],\n",
    "\"Datsun\" :[1998 ,115, 469, 169, 1370 ,160 ],\n",
    "\"Taunus\" : [1993, 98 ,438 ,170, 1080 ,167 ],\n",
    "\"Rancho\" :[1442 ,80 ,431, 166, 1129, 144 ],\n",
    "\"Mazda\" :[1769 ,83,440,165 ,1095, 165 ],\n",
    "\"Opel\": [1979, 100 ,459 ,173, 1120 ,173], \n",
    "\"Lada\" : [1294, 68, 404 ,161, 955, 140] }\n",
    "\n",
    "caracteristiques = [\n",
    "    'cylindree',\n",
    "    'puissance',\n",
    "    'longueur',\n",
    "    'largeur',\n",
    "    'poids',\n",
    "    'vitesse max',\n",
    "]\n",
    "\n",
    "Z = {key:[] for key in caracteristiques}\n",
    "\n",
    "for marque in voitures :\n",
    "    liste = voitures[marque]\n",
    "    \n",
    "    for index, value in zip(range(len(liste)), liste) :\n",
    "        Z[caracteristiques[index]].append(value)\n",
    "        pass\n",
    "    \n",
    "    pass\n",
    "\n",
    "M = np.stack((\n",
    "    Z[caracteristiques[0]],\n",
    "    Z[caracteristiques[1]],\n",
    "    Z[caracteristiques[2]],\n",
    "    Z[caracteristiques[3]],\n",
    "    Z[caracteristiques[4]],\n",
    "    Z[caracteristiques[5]]\n",
    "))"
   ]
  },
  {
   "cell_type": "code",
   "execution_count": 53,
   "metadata": {},
   "outputs": [
    {
     "data": {
      "image/png": "[encoded data removed]",
      "text/plain": [
       "<Figure size 432x288 with 1 Axes>"
      ]
     },
     "metadata": {
      "needs_background": "light"
     },
     "output_type": "display_data"
    },
    {
     "data": {
      "image/png": "[encoded data removed]",
      "text/plain": [
       "<Figure size 432x288 with 1 Axes>"
      ]
     },
     "metadata": {
      "needs_background": "light"
     },
     "output_type": "display_data"
    }
   ],
   "source": [
    "import numpy as np\n",
    "\n",
    "# 1. on calcule la matrice de correlation\n",
    "COR = np.corrcoef(M)\n",
    "COR = matrix(QQ, COR)\n",
    "\n",
    "# 2. on calcule les valeurs propres de la matrice\n",
    "vp = COR.eigenvalues()\n",
    "\n",
    "plt.title(\"Ebouli des valeurs propres\")\n",
    "bar = plt.bar(caracteristiques, vp)\n",
    "plt.show()\n",
    "\n",
    "# 3. on recupere la matrice de passage\n",
    "_, P = COR.eigenmatrix_right()\n",
    "\n",
    "# 4. on calcule X\n",
    "\n",
    "#chaauq valeur est retire la moyenne de sa ligne et divise par l ecart type de sa ligne\n",
    "#centre reduit !\n",
    "X = []\n",
    "for ligne in M :\n",
    "    L = []\n",
    "    ecarttype = ecTypeS(ligne)\n",
    "    moyenne = moy(ligne)\n",
    "    for valeur in ligne :\n",
    "        L.append((valeur - moyenne) / ecarttype)\n",
    "        pass\n",
    "    X.append(L)\n",
    "    pass\n",
    "X = matrix(QQ, X).transpose()\n",
    "\n",
    "# 5. on calcule X * P\n",
    "C = X * P\n",
    "\n",
    "# 6. on extrait la premiere et la deuxieme colonne de C\n",
    "CT = C.transpose()\n",
    "C1 = CT[0]\n",
    "C2 = CT[1]\n",
    "\n",
    "# 7. on fait des show\n",
    "nuage = plt.scatter(C1,C2,marker='o')\n",
    "plt.xlabel('CP 1')\n",
    "plt.ylabel('CP 2')\n",
    "plt.title(\"Tracé suivant les composantes principales\")\n",
    "plt.show()\n",
    "plt.close()"
   ]
  },
  {
   "cell_type": "code",
   "execution_count": null,
   "metadata": {},
   "outputs": [],
   "source": []
  },
  {
   "cell_type": "code",
   "execution_count": null,
   "metadata": {},
   "outputs": [],
   "source": []
  },
  {
   "cell_type": "code",
   "execution_count": null,
   "metadata": {},
   "outputs": [],
   "source": []
  },
  {
   "cell_type": "code",
   "execution_count": null,
   "metadata": {},
   "outputs": [],
   "source": []
  }
 ],
 "metadata": {
  "kernelspec": {
   "display_name": "SageMath 9.0",
   "language": "sage",
   "name": "sagemath"
  },
  "language_info": {
   "codemirror_mode": {
    "name": "ipython",
    "version": 3
   },
   "file_extension": ".py",
   "mimetype": "text/x-python",
   "name": "python",
   "nbconvert_exporter": "python",
   "pygments_lexer": "ipython3",
   "version": "3.8.10"
  }
 },
 "nbformat": 4,
 "nbformat_minor": 4
}
