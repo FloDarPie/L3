{
 "cells": [
  {
   "cell_type": "markdown",
   "metadata": {},
   "source": [
    "Calcul de l'esperance"
   ]
  },
  {
   "cell_type": "code",
   "execution_count": 1,
   "metadata": {},
   "outputs": [],
   "source": [
    "def esp(P):\n",
    "    e=0\n",
    "    for i in P:\n",
    "        e+=i*P[i]\n",
    "    # à compléter\n",
    "    return e"
   ]
  },
  {
   "cell_type": "markdown",
   "metadata": {},
   "source": [
    "Calul des lois conditionnelles"
   ]
  },
  {
   "cell_type": "code",
   "execution_count": 2,
   "metadata": {},
   "outputs": [],
   "source": [
    "def loiConditionnelle(X,Y):\n",
    "    lc = {}\n",
    "    for xi in X:\n",
    "        for yi in Y:\n",
    "            lc[xi,yi] = X[xi]*Y[yi]\n",
    "    return lc"
   ]
  },
  {
   "cell_type": "markdown",
   "metadata": {},
   "source": [
    "Calcul de la covariance"
   ]
  },
  {
   "cell_type": "code",
   "execution_count": 5,
   "metadata": {},
   "outputs": [],
   "source": [
    "def covariance(X,Y):\n",
    "    eXY = {}\n",
    "    eX = esp(X)\n",
    "    eY = esp(Y)\n",
    "    \n",
    "    #calcul de l'esperance de XY\n",
    "    #---------------------------\n",
    "    #construction du dico de XY\n",
    "    for xi in X:\n",
    "        for yi in Y:\n",
    "            cle = xi*yi\n",
    "            resultat = X[xi]*Y[yi]\n",
    "            if cle in eXY:\n",
    "                eXY[cle] += resultat\n",
    "            else:\n",
    "                eXY[cle] = resultat\n",
    "            '''\n",
    "            try:\n",
    "                #a = eXY[cle]\n",
    "                eXY[cle] += resultat\n",
    "            except KeyError :\n",
    "                eXY[cle] = resultat\n",
    "            '''\n",
    "    #recuperation de l'esperance\n",
    "    eXY = esp(eXY)\n",
    "    #----------------------------\n",
    "    \n",
    "    return eXY - eX*eY"
   ]
  },
  {
   "cell_type": "code",
   "execution_count": 6,
   "metadata": {},
   "outputs": [
    {
     "name": "stdout",
     "output_type": "stream",
     "text": [
      "-4.44089209850063e-16\n"
     ]
    }
   ],
   "source": [
    "X = {0:0.07,1:0.35,2:0.34,3:0.18,4:0.06}\n",
    "Y = {0:0.1,1:0.2,2:0.5,3:0.17,4:0.03}\n",
    "\n",
    "print(covariance(X,Y))"
   ]
  },
  {
   "cell_type": "code",
   "execution_count": null,
   "metadata": {},
   "outputs": [],
   "source": []
  }
 ],
 "metadata": {
  "kernelspec": {
   "display_name": "SageMath 9.0",
   "language": "sage",
   "name": "sagemath"
  },
  "language_info": {
   "codemirror_mode": {
    "name": "ipython",
    "version": 3
   },
   "file_extension": ".py",
   "mimetype": "text/x-python",
   "name": "python",
   "nbconvert_exporter": "python",
   "pygments_lexer": "ipython3",
   "version": "3.8.10"
  }
 },
 "nbformat": 4,
 "nbformat_minor": 4
}
