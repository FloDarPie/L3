{
 "cells": [
  {
   "cell_type": "markdown",
   "metadata": {},
   "source": [
    "# Statistiques et Analyse en Composante Principale"
   ]
  },
  {
   "cell_type": "markdown",
   "metadata": {},
   "source": [
    "### On donne les fonctions du TP précédent"
   ]
  },
  {
   "cell_type": "code",
   "execution_count": 3,
   "metadata": {},
   "outputs": [],
   "source": [
    "# Ecrire une fonction donnant la moyenne d'une série statistique\n",
    "def moy(X):\n",
    "    e=0\n",
    "    n=len(X)\n",
    "    for i in range(n):\n",
    "        e+=X[i]\n",
    "    return e/n"
   ]
  },
  {
   "cell_type": "code",
   "execution_count": 4,
   "metadata": {},
   "outputs": [],
   "source": [
    "# La variance d'une série statistique:\n",
    "def varS(X):\n",
    "    v=0\n",
    "    n=len(X)\n",
    "    m=moy(X)\n",
    "    for i in range(n):\n",
    "        v+=(X[i]-m)^2\n",
    "    return v/n"
   ]
  },
  {
   "cell_type": "code",
   "execution_count": 5,
   "metadata": {},
   "outputs": [],
   "source": [
    "# l'écart-type\n",
    "def ecTypeS(X):\n",
    "    return sqrt(varS(X))"
   ]
  },
  {
   "cell_type": "code",
   "execution_count": 6,
   "metadata": {},
   "outputs": [],
   "source": [
    "# Ecrire une fonction donnant la loi marginals  P(X=a) à partir des lois conjointes \n",
    "def margX(a,Y,C):\n",
    "    s=0\n",
    "    for j in Y:\n",
    "        s+=C[(a,j)]\n",
    "    return s"
   ]
  },
  {
   "cell_type": "code",
   "execution_count": 7,
   "metadata": {},
   "outputs": [],
   "source": [
    "# Toutes les lois marginales de X sous forme d'un dictionnaire\n",
    "def MargX(X,Y,C):\n",
    "    return {i:margX(i,Y,C) for i in X}"
   ]
  },
  {
   "cell_type": "code",
   "execution_count": 8,
   "metadata": {},
   "outputs": [],
   "source": [
    "# idem pour Y\n",
    "def margY(b,X,C):\n",
    "    s=0\n",
    "    for i in X:\n",
    "        s+=C[(i,b)]\n",
    "    return s"
   ]
  },
  {
   "cell_type": "code",
   "execution_count": 9,
   "metadata": {},
   "outputs": [],
   "source": [
    "# Calcul des lois marginales de Y à partir de la matrice conjointe\n",
    "def MargY(X,Y,C):\n",
    "    return {j:margY(j,X,C) for j in Y}"
   ]
  },
  {
   "cell_type": "code",
   "execution_count": 10,
   "metadata": {},
   "outputs": [],
   "source": [
    "# Ecrire une fonction calculant la covariance d'un couple de séries statistiques\n",
    "def covS(X,Y):\n",
    "    #Calcul des espérances\n",
    "    EX = moy(X)\n",
    "    EY = moy(Y)\n",
    "    c = 0\n",
    "    for x, y in zip(X, Y):\n",
    "        c += x * y\n",
    "        pass\n",
    "    return c / len(X) - EX * EY"
   ]
  },
  {
   "cell_type": "code",
   "execution_count": 11,
   "metadata": {},
   "outputs": [],
   "source": [
    "# et le Coefficient de corrélation d'une série statistique\n",
    "def corS(X,Y):\n",
    "    return n(covS(X,Y)/(ecTypeS(X)*ecTypeS(Y)))"
   ]
  },
  {
   "cell_type": "code",
   "execution_count": 12,
   "metadata": {},
   "outputs": [],
   "source": [
    "# Construction de la matrice de covariance \n",
    "def matCov(D):\n",
    "    M = [[0 for _ in D] for _ in D]\n",
    "    \n",
    "    for i in range(len(D)):\n",
    "        for j in range(len(D)):\n",
    "            M[i][j] = covS(D[i], D[j])\n",
    "            pass\n",
    "        pass\n",
    "    return matrix(RR, M)"
   ]
  },
  {
   "cell_type": "code",
   "execution_count": 13,
   "metadata": {},
   "outputs": [],
   "source": [
    "# et de la matrice de corrélation\n",
    "def matCor(D):\n",
    "    M = [[0 for _ in D] for _ in D]\n",
    "    \n",
    "    for i in D:\n",
    "        for j in D:\n",
    "            M[i][j] = corS(D[i],D[j])\n",
    "            pass\n",
    "        pass\n",
    "    return matrix(RR, M)"
   ]
  },
  {
   "cell_type": "markdown",
   "metadata": {},
   "source": [
    "## Exercice 1 "
   ]
  },
  {
   "cell_type": "code",
   "execution_count": 14,
   "metadata": {},
   "outputs": [],
   "source": [
    "# Etude qualitative de 4 variables aléatoires couplées\n",
    "data={0:[0,1,2,3,4,5,6,7,8,9,10] ,\n",
    "  1:[2.04,3.02,4.15,4.97,6.02,7.08,8.12,9.14,10.13,10.86,11.89],\n",
    "  2:[5.01,7.93,3.27,20.50,11.33,12.41,16.74,11.39,16.61,11.48,23.59],\n",
    "  3:[7.45,8.20,2.09,9.03,7.99,8.58,9.63,5.06,2.49,8.22,8.01],\n",
    "  4:[10.04,9.02,8.97,8.15,6.02,5.08,4.12,3.14,2.86,2.13,1.89]}"
   ]
  },
  {
   "cell_type": "code",
   "execution_count": 15,
   "metadata": {},
   "outputs": [
    {
     "data": {
      "text/html": [
       "<html><script type=\"math/tex; mode=display\">\\newcommand{\\Bold}[1]{\\mathbf{#1}}\\left(\\begin{array}{rrrrr}\n",
       "10.0000000000000 & 9.90818181818182 & 12.2100000000000 & -0.201818181818190 & -8.96000000000000 \\\\\n",
       "9.90818181818182 & 9.82534214876033 & 11.9971925619835 & -0.331259504132234 & -8.89960247933884 \\\\\n",
       "12.2100000000000 & 11.9971925619835 & 35.1811537190083 & 5.10836611570248 & -10.2181851239669 \\\\\n",
       "-0.201818181818190 & -0.331259504132234 & 5.10836611570248 & 6.07921983471074 & -0.0382900826446360 \\\\\n",
       "-8.96000000000000 & -8.89960247933884 & -10.2181851239669 & -0.0382900826446360 & 8.29707768595041\n",
       "\\end{array}\\right)</script></html>"
      ],
      "text/plain": [
       "[   10.0000000000000    9.90818181818182    12.2100000000000  -0.201818181818190   -8.96000000000000]\n",
       "[   9.90818181818182    9.82534214876033    11.9971925619835  -0.331259504132234   -8.89960247933884]\n",
       "[   12.2100000000000    11.9971925619835    35.1811537190083    5.10836611570248   -10.2181851239669]\n",
       "[ -0.201818181818190  -0.331259504132234    5.10836611570248    6.07921983471074 -0.0382900826446360]\n",
       "[  -8.96000000000000   -8.89960247933884   -10.2181851239669 -0.0382900826446360    8.29707768595041]"
      ]
     },
     "metadata": {},
     "output_type": "display_data"
    }
   ],
   "source": [
    "show(matCov(data))"
   ]
  },
  {
   "cell_type": "code",
   "execution_count": 16,
   "metadata": {},
   "outputs": [
    {
     "data": {
      "text/html": [
       "<html><script type=\"math/tex; mode=display\">\\newcommand{\\Bold}[1]{\\mathbf{#1}}\\left(\\begin{array}{rrrrr}\n",
       "1.00000000000000 & 0.999585910639363 & 0.650969476394899 & -0.0258842964468339 & -0.983660951392354 \\\\\n",
       "0.999585910639363 & 0.999999999999999 & 0.645283781109229 & -0.0428618174009170 & -0.985676014953601 \\\\\n",
       "0.650969476394899 & 0.645283781109229 & 1.00000000000000 & 0.349303592720273 & -0.598075689504387 \\\\\n",
       "-0.0258842964468339 & -0.0428618174009170 & 0.349303592720273 & 0.999999999999999 & -0.00539137823760026 \\\\\n",
       "-0.983660951392354 & -0.985676014953601 & -0.598075689504387 & -0.00539137823760026 & 1.00000000000000\n",
       "\\end{array}\\right)</script></html>"
      ],
      "text/plain": [
       "[    1.00000000000000    0.999585910639363    0.650969476394899  -0.0258842964468339   -0.983660951392354]\n",
       "[   0.999585910639363    0.999999999999999    0.645283781109229  -0.0428618174009170   -0.985676014953601]\n",
       "[   0.650969476394899    0.645283781109229     1.00000000000000    0.349303592720273   -0.598075689504387]\n",
       "[ -0.0258842964468339  -0.0428618174009170    0.349303592720273    0.999999999999999 -0.00539137823760026]\n",
       "[  -0.983660951392354   -0.985676014953601   -0.598075689504387 -0.00539137823760026     1.00000000000000]"
      ]
     },
     "metadata": {},
     "output_type": "display_data"
    }
   ],
   "source": [
    "show(matCor(data))"
   ]
  },
  {
   "cell_type": "code",
   "execution_count": 17,
   "metadata": {},
   "outputs": [
    {
     "data": {
      "image/png": "[encoded data removed]",
      "text/plain": [
       "<Figure size 432x288 with 1 Axes>"
      ]
     },
     "metadata": {
      "needs_background": "light"
     },
     "output_type": "display_data"
    },
    {
     "data": {
      "image/png": "[encoded data removed]",
      "text/plain": [
       "<Figure size 432x288 with 1 Axes>"
      ]
     },
     "metadata": {
      "needs_background": "light"
     },
     "output_type": "display_data"
    },
    {
     "data": {
      "image/png": "[encoded data removed]",
      "text/plain": [
       "<Figure size 432x288 with 1 Axes>"
      ]
     },
     "metadata": {
      "needs_background": "light"
     },
     "output_type": "display_data"
    },
    {
     "data": {
      "image/png": "[encoded data removed]",
      "text/plain": [
       "<Figure size 432x288 with 1 Axes>"
      ]
     },
     "metadata": {
      "needs_background": "light"
     },
     "output_type": "display_data"
    }
   ],
   "source": [
    "import matplotlib.pyplot as plt\n",
    "# Représenter sur un même graphique les corrélations de la variable 1 avec les 4 autres variables\n",
    "\n",
    "for points in list(data)[1:] : # on retire le premier element de la liste, pas 1\n",
    "    plt.scatter(data[0], data[points])\n",
    "    plt.show()\n",
    "    pass"
   ]
  },
  {
   "cell_type": "code",
   "execution_count": 18,
   "metadata": {},
   "outputs": [
    {
     "data": {
      "text/plain": [
       "Text(0.5, 1.0, 'Représentation géométrique de la corrélation')"
      ]
     },
     "execution_count": 18,
     "metadata": {},
     "output_type": "execute_result"
    },
    {
     "data": {
      "image/png": "[encoded data removed]",
      "text/plain": [
       "<Figure size 432x288 with 1 Axes>"
      ]
     },
     "metadata": {
      "needs_background": "light"
     },
     "output_type": "display_data"
    }
   ],
   "source": [
    "# Représentation géométriquement les corrélations avec la première variable\n",
    "import matplotlib.pyplot as plt\n",
    "import numpy as np\n",
    "\n",
    "X = np.array([0,0,0,0,0], dtype = float)\n",
    "Y= np.array([0,0,0,0,0], dtype = float)\n",
    "\n",
    "# à compléter\n",
    "U = np.array(matCor(data)[0], dtype = float)\n",
    "V = np.array([sin(arccos(val)) for val in U], dtype = float)\n",
    "\n",
    "plt.quiver(X, Y, U, V,scale=3)\n",
    "a=1.2\n",
    "plt.xlim(-a,a)\n",
    "plt.ylim(-a,a)\n",
    "plt.title(\"Représentation géométrique de la corrélation\")"
   ]
  },
  {
   "cell_type": "code",
   "execution_count": null,
   "metadata": {},
   "outputs": [],
   "source": []
  },
  {
   "cell_type": "markdown",
   "metadata": {},
   "source": [
    "### Exercice 2 :  Voitures"
   ]
  },
  {
   "cell_type": "code",
   "execution_count": 19,
   "metadata": {},
   "outputs": [],
   "source": [
    "voitures={\"Alfasud\" : [1350 ,79 ,393, 161, 870 ,165],\n",
    "\"Audi\" : [1588, 85, 468, 177, 1110 ,160 ],\n",
    "\"Simca\"  : [1294 ,68, 424, 168, 1050 ,152 ],\n",
    "\"Citroen\"  : [1222, 59, 412, 161, 930 ,151 ],\n",
    "\"Fiat\" : [1585, 98, 439, 164,1105 ,165 ],\n",
    "\"Lancia\"  :[1297 ,82 ,429, 169, 1080 ,160 ],\n",
    "\"Peugeot\" :[ 1796, 79, 449 ,169, 1160 ,154 ],\n",
    "\"Renault16\" : [1565,55, 424, 163, 1010 ,140], \n",
    "\"Renault30\": [2664, 128, 452, 173, 1320,180], \n",
    "\"Toyota\" : [1166, 55 ,399, 157, 815, 140], \n",
    "\"Alfetta\" :[ 1570, 109, 428, 162, 1060, 175], \n",
    "\"Princess\" : [1798 ,82, 445, 172, 1160 ,158 ],\n",
    "\"Datsun\" :[1998 ,115, 469, 169, 1370 ,160 ],\n",
    "\"Taunus\" : [1993, 98 ,438 ,170, 1080 ,167 ],\n",
    "\"Rancho\" :[1442 ,80 ,431, 166, 1129, 144 ],\n",
    "\"Mazda\" :[1769 ,83,440,165 ,1095, 165 ],\n",
    "\"Opel\": [1979, 100 ,459 ,173, 1120 ,173], \n",
    "\"Lada\" : [1294, 68, 404 ,161, 955, 140] }"
   ]
  },
  {
   "cell_type": "code",
   "execution_count": 22,
   "metadata": {},
   "outputs": [
    {
     "data": {
      "text/html": [
       "<html><script type=\"math/tex; mode=display\">\\newcommand{\\Bold}[1]{\\mathbf{#1}}\\left\\{\\verb|cylindree| : \\left[1350, 1588, 1294, 1222, 1585, 1297, 1796, 1565, 2664, 1166, 1570, 1798, 1998, 1993, 1442, 1769, 1979, 1294\\right], \\verb|puissance| : \\left[79, 85, 68, 59, 98, 82, 79, 55, 128, 55, 109, 82, 115, 98, 80, 83, 100, 68\\right], \\verb|longueur| : \\left[393, 468, 424, 412, 439, 429, 449, 424, 452, 399, 428, 445, 469, 438, 431, 440, 459, 404\\right], \\verb|largeur| : \\left[161, 177, 168, 161, 164, 169, 169, 163, 173, 157, 162, 172, 169, 170, 166, 165, 173, 161\\right], \\verb|poids| : \\left[870, 1110, 1050, 930, 1105, 1080, 1160, 1010, 1320, 815, 1060, 1160, 1370, 1080, 1129, 1095, 1120, 955\\right], \\verb|vitesse|\\phantom{\\verb!x!}\\verb|max| : \\left[165, 160, 152, 151, 165, 160, 154, 140, 180, 140, 175, 158, 160, 167, 144, 165, 173, 140\\right]\\right\\}</script></html>"
      ],
      "text/plain": [
       "{'cylindree': [1350,\n",
       "  1588,\n",
       "  1294,\n",
       "  1222,\n",
       "  1585,\n",
       "  1297,\n",
       "  1796,\n",
       "  1565,\n",
       "  2664,\n",
       "  1166,\n",
       "  1570,\n",
       "  1798,\n",
       "  1998,\n",
       "  1993,\n",
       "  1442,\n",
       "  1769,\n",
       "  1979,\n",
       "  1294],\n",
       " 'puissance': [79,\n",
       "  85,\n",
       "  68,\n",
       "  59,\n",
       "  98,\n",
       "  82,\n",
       "  79,\n",
       "  55,\n",
       "  128,\n",
       "  55,\n",
       "  109,\n",
       "  82,\n",
       "  115,\n",
       "  98,\n",
       "  80,\n",
       "  83,\n",
       "  100,\n",
       "  68],\n",
       " 'longueur': [393,\n",
       "  468,\n",
       "  424,\n",
       "  412,\n",
       "  439,\n",
       "  429,\n",
       "  449,\n",
       "  424,\n",
       "  452,\n",
       "  399,\n",
       "  428,\n",
       "  445,\n",
       "  469,\n",
       "  438,\n",
       "  431,\n",
       "  440,\n",
       "  459,\n",
       "  404],\n",
       " 'largeur': [161,\n",
       "  177,\n",
       "  168,\n",
       "  161,\n",
       "  164,\n",
       "  169,\n",
       "  169,\n",
       "  163,\n",
       "  173,\n",
       "  157,\n",
       "  162,\n",
       "  172,\n",
       "  169,\n",
       "  170,\n",
       "  166,\n",
       "  165,\n",
       "  173,\n",
       "  161],\n",
       " 'poids': [870,\n",
       "  1110,\n",
       "  1050,\n",
       "  930,\n",
       "  1105,\n",
       "  1080,\n",
       "  1160,\n",
       "  1010,\n",
       "  1320,\n",
       "  815,\n",
       "  1060,\n",
       "  1160,\n",
       "  1370,\n",
       "  1080,\n",
       "  1129,\n",
       "  1095,\n",
       "  1120,\n",
       "  955],\n",
       " 'vitesse max': [165,\n",
       "  160,\n",
       "  152,\n",
       "  151,\n",
       "  165,\n",
       "  160,\n",
       "  154,\n",
       "  140,\n",
       "  180,\n",
       "  140,\n",
       "  175,\n",
       "  158,\n",
       "  160,\n",
       "  167,\n",
       "  144,\n",
       "  165,\n",
       "  173,\n",
       "  140]}"
      ]
     },
     "metadata": {},
     "output_type": "display_data"
    }
   ],
   "source": [
    "# Définir sous forme d'un dictionnaire, les 6 variables (cylindrée, puissance, longueur, largeur, poids, vitesse max)\n",
    "\n",
    "L = [\n",
    "    'cylindree',\n",
    "    'puissance',\n",
    "    'longueur',\n",
    "    'largeur',\n",
    "    'poids',\n",
    "    'vitesse max',\n",
    "]\n",
    "\n",
    "Z = {key:[] for key in L}\n",
    "\n",
    "for marque in voitures :\n",
    "    liste = voitures[marque]\n",
    "    \n",
    "    for index, value in zip(range(len(liste)), liste) :\n",
    "        Z[L[index]].append(value)\n",
    "        pass\n",
    "    \n",
    "    pass\n",
    "\n",
    "show(Z)"
   ]
  },
  {
   "cell_type": "code",
   "execution_count": 23,
   "metadata": {},
   "outputs": [
    {
     "data": {
      "image/png": "[encoded data removed]",
      "text/plain": [
       "<Figure size 432x288 with 1 Axes>"
      ]
     },
     "metadata": {
      "needs_background": "light"
     },
     "output_type": "display_data"
    }
   ],
   "source": [
    "#Représenter quelques corrélations entre couples de variables\n",
    "plt.scatter(Z[L[1]], Z[L[5]])\n",
    "plt.show()\n"
   ]
  },
  {
   "cell_type": "code",
   "execution_count": 24,
   "metadata": {},
   "outputs": [
    {
     "data": {
      "image/png": "[encoded data removed]",
      "text/plain": [
       "<Figure size 432x288 with 1 Axes>"
      ]
     },
     "metadata": {
      "needs_background": "light"
     },
     "output_type": "display_data"
    }
   ],
   "source": [
    "plt.scatter(Z[L[0]], Z[L[1]])\n",
    "plt.show()"
   ]
  },
  {
   "cell_type": "code",
   "execution_count": 25,
   "metadata": {},
   "outputs": [
    {
     "data": {
      "image/png": "[encoded data removed]",
      "text/plain": [
       "<Figure size 432x288 with 1 Axes>"
      ]
     },
     "metadata": {
      "needs_background": "light"
     },
     "output_type": "display_data"
    }
   ],
   "source": [
    "plt.scatter(Z[L[4]], Z[L[5]])\n",
    "plt.show()"
   ]
  },
  {
   "cell_type": "code",
   "execution_count": 26,
   "metadata": {},
   "outputs": [],
   "source": [
    "# C'est parti pour l'Analyse en Composante Principale\n",
    "#oui"
   ]
  },
  {
   "cell_type": "code",
   "execution_count": 27,
   "metadata": {},
   "outputs": [],
   "source": [
    "# calculer la matrice de corrélation"
   ]
  },
  {
   "cell_type": "code",
   "execution_count": 28,
   "metadata": {},
   "outputs": [
    {
     "data": {
      "text/html": [
       "<html><script type=\"math/tex; mode=display\">\\newcommand{\\Bold}[1]{\\mathbf{#1}}\\begin{array}{l}\n",
       "\\verb|[[1.|\\phantom{\\verb!xxxxxxxxx!}\\verb|0.79662771|\\phantom{\\verb!x!}\\verb|0.70146192|\\phantom{\\verb!x!}\\verb|0.62975716|\\phantom{\\verb!x!}\\verb|0.78895203|\\phantom{\\verb!x!}\\verb|0.66493402]|\\\\\n",
       "\\phantom{\\verb!x!}\\verb|[0.79662771|\\phantom{\\verb!x!}\\verb|1.|\\phantom{\\verb!xxxxxxxxx!}\\verb|0.64136235|\\phantom{\\verb!x!}\\verb|0.52083197|\\phantom{\\verb!x!}\\verb|0.765293|\\phantom{\\verb!xxx!}\\verb|0.84437948]|\\\\\n",
       "\\phantom{\\verb!x!}\\verb|[0.70146192|\\phantom{\\verb!x!}\\verb|0.64136235|\\phantom{\\verb!x!}\\verb|1.|\\phantom{\\verb!xxxxxxxxx!}\\verb|0.84926635|\\phantom{\\verb!x!}\\verb|0.86809028|\\phantom{\\verb!x!}\\verb|0.47592847]|\\\\\n",
       "\\phantom{\\verb!x!}\\verb|[0.62975716|\\phantom{\\verb!x!}\\verb|0.52083197|\\phantom{\\verb!x!}\\verb|0.84926635|\\phantom{\\verb!x!}\\verb|1.|\\phantom{\\verb!xxxxxxxxx!}\\verb|0.71687392|\\phantom{\\verb!x!}\\verb|0.47294527]|\\\\\n",
       "\\phantom{\\verb!x!}\\verb|[0.78895203|\\phantom{\\verb!x!}\\verb|0.765293|\\phantom{\\verb!xxx!}\\verb|0.86809028|\\phantom{\\verb!x!}\\verb|0.71687392|\\phantom{\\verb!x!}\\verb|1.|\\phantom{\\verb!xxxxxxxxx!}\\verb|0.4775956|\\phantom{\\verb!x!}\\verb|]|\\\\\n",
       "\\phantom{\\verb!x!}\\verb|[0.66493402|\\phantom{\\verb!x!}\\verb|0.84437948|\\phantom{\\verb!x!}\\verb|0.47592847|\\phantom{\\verb!x!}\\verb|0.47294527|\\phantom{\\verb!x!}\\verb|0.4775956|\\phantom{\\verb!xx!}\\verb|1.|\\phantom{\\verb!xxxxxxxx!}\\verb|]]|\n",
       "\\end{array}</script></html>"
      ],
      "text/plain": [
       "array([[1.        , 0.79662771, 0.70146192, 0.62975716, 0.78895203,\n",
       "        0.66493402],\n",
       "       [0.79662771, 1.        , 0.64136235, 0.52083197, 0.765293  ,\n",
       "        0.84437948],\n",
       "       [0.70146192, 0.64136235, 1.        , 0.84926635, 0.86809028,\n",
       "        0.47592847],\n",
       "       [0.62975716, 0.52083197, 0.84926635, 1.        , 0.71687392,\n",
       "        0.47294527],\n",
       "       [0.78895203, 0.765293  , 0.86809028, 0.71687392, 1.        ,\n",
       "        0.4775956 ],\n",
       "       [0.66493402, 0.84437948, 0.47592847, 0.47294527, 0.4775956 ,\n",
       "        1.        ]])"
      ]
     },
     "metadata": {},
     "output_type": "display_data"
    }
   ],
   "source": [
    "# Avec numpy\n",
    "import numpy as np\n",
    "\n",
    "test = np.stack((Z[L[0]],Z[L[1]],Z[L[2]], Z[L[3]],Z[L[4]],Z[L[5]]))\n",
    "Cor=np.corrcoef(test)\n",
    "\n",
    "show(Cor)"
   ]
  },
  {
   "cell_type": "code",
   "execution_count": 29,
   "metadata": {},
   "outputs": [
    {
     "name": "stdout",
     "output_type": "stream",
     "text": [
      "[0.04329027267594054?, 0.0928012120059281?, 0.2139220890233096?, 0.3730660774399736?, 0.8560622892459589?, 4.420858059608889?]\n"
     ]
    }
   ],
   "source": [
    "#Déterminer ses valeurs propres\n",
    "\n",
    "X = matrix(QQ, Cor)\n",
    "\n",
    "vp = X.eigenvalues()\n",
    "print(vp)"
   ]
  },
  {
   "cell_type": "code",
   "execution_count": 30,
   "metadata": {},
   "outputs": [
    {
     "data": {
      "text/html": [
       "<html><script type=\"math/tex; mode=display\">\\newcommand{\\Bold}[1]{\\mathbf{#1}}\\left[4.420858059608889?, 0.8560622892459589?, 0.3730660774399736?, 0.2139220890233096?, 0.0928012120059281?, 0.04329027267594054?\\right]</script></html>"
      ],
      "text/plain": [
       "[4.420858059608889?, 0.8560622892459589?, 0.3730660774399736?, 0.2139220890233096?, 0.0928012120059281?, 0.04329027267594054?]"
      ]
     },
     "metadata": {},
     "output_type": "display_data"
    }
   ],
   "source": [
    "vp.reverse()\n",
    "show(vp)"
   ]
  },
  {
   "cell_type": "code",
   "execution_count": 31,
   "metadata": {},
   "outputs": [
    {
     "name": "stdout",
     "output_type": "stream",
     "text": [
      "6.000000000000000?\n",
      "0.8794867248091414?\n"
     ]
    }
   ],
   "source": [
    "# Calculer l'inertie de la composante principale et du plan principal\n",
    "\n",
    "print(sum(vp))\n",
    "\n",
    "#calcul de la part d inertie\n",
    "\n",
    "print((vp[0]+vp[1])/sum(vp))\n"
   ]
  },
  {
   "cell_type": "code",
   "execution_count": 32,
   "metadata": {
    "scrolled": true
   },
   "outputs": [
    {
     "data": {
      "text/plain": [
       "<BarContainer object of 6 artists>"
      ]
     },
     "execution_count": 32,
     "metadata": {},
     "output_type": "execute_result"
    },
    {
     "data": {
      "image/png": "[encoded data removed]",
      "text/plain": [
       "<Figure size 432x288 with 1 Axes>"
      ]
     },
     "metadata": {
      "needs_background": "light"
     },
     "output_type": "display_data"
    }
   ],
   "source": [
    "#Représenter l'ébouli des valeurs propres\n",
    "\n",
    "plt.title(\"Ebouli des valeurs propres\")\n",
    "plt.bar(range(len(vp)), vp)"
   ]
  },
  {
   "cell_type": "code",
   "execution_count": 33,
   "metadata": {},
   "outputs": [],
   "source": [
    "# Diagonaliser la matrice de corrélation. Soit P sa matrice de passage"
   ]
  },
  {
   "cell_type": "code",
   "execution_count": 34,
   "metadata": {},
   "outputs": [
    {
     "name": "stderr",
     "output_type": "stream",
     "text": [
      "/usr/lib/python3/dist-packages/scipy/sparse/sputils.py:16: DeprecationWarning: `np.typeDict` is a deprecated alias for `np.sctypeDict`.\n",
      "  supported_dtypes = [np.typeDict[x] for x in supported_dtypes]\n",
      "/usr/lib/python3/dist-packages/scipy/linalg/__init__.py:217: DeprecationWarning: The module numpy.dual is deprecated.  Instead of using dual, use the functions directly from numpy or scipy.\n",
      "  from numpy.dual import register_func\n"
     ]
    },
    {
     "data": {
      "text/html": [
       "<html><script type=\"math/tex; mode=display\">\\newcommand{\\Bold}[1]{\\mathbf{#1}}\\Bold{Q} \\left(\\begin{array}{rrrrrr}\n",
       "-0.775098891732314 & -0.2833581759860091 & -1.8850807722650857 & -1.0973452814254328 & -1.56900676417733 & 0.5697604307116213 \\\\\n",
       "-0.12016326013838259 & 0.0196386854643767 & 1.6058095467443323 & 2.0010413955405 & 0.23416142450212413 & 0.14597168059553975 \\\\\n",
       "-0.9292013932838273 & -0.8388524219783832 & -0.4421794404078596 & 0.25819888974716293 & -0.21663062266773941 & -0.5320903195901907 \\\\\n",
       "-1.127333180992916 & -1.2933477141539618 & -1.0007218914493665 & -1.0973452814254328 & -1.1182147170074666 & -0.6168480696134071 \\\\\n",
       "-0.12841875129292796 & 0.676131885273546 & 0.25599862339402396 & -0.5163977794943203 & 0.19659542057130217 & 0.5697604307116213 \\\\\n",
       "-0.9209459021292821 & -0.1318597452608162 & -0.2094534191405651 & 0.4518480570575337 & 0.008765400917192362 & 0.14597168059553975 \\\\\n",
       "0.4522174599100953 & -0.2833581759860091 & 0.7214506659286131 & 0.4518480570575337 & 0.6098214638103437 & -0.36257481954375814 \\\\\n",
       "-0.18345535898989698 & -1.4953456217875525 & -0.4421794404078596 & -0.7100469468046912 & -0.5171586541143152 & -1.5491833198687865 \\\\\n",
       "2.8408062339585514 & 2.191116192525475 & 0.8610862786889898 & 1.226444726299017 & 1.8119335895966466 & 1.841126681059866 \\\\\n",
       "-1.2814356825444293 & -1.4953456217875525 & -1.6058095467443323 & -1.8719419506669162 & -1.9822328074163718 & -1.5491833198687865 \\\\\n",
       "-0.16969620706565472 & 1.23162613126592 & -0.25599862339402396 & -0.903696114115062 & -0.1414986148060955 & 1.4173379309437844 \\\\\n",
       "0.45772112067979226 & -0.1318597452608162 & 0.5352698489147775 & 1.0327955589886462 & 0.6098214638103437 & -0.023543819450892886 \\\\\n",
       "1.0080871976494825 & 1.5346229927163058 & 1.6523547509977912 & 0.4518480570575337 & 2.187593628904866 & 0.14597168059553975 \\\\\n",
       "0.9943280457252404 & 0.676131885273546 & 0.2094534191405651 & 0.6454972243679046 & 0.008765400917192362 & 0.739275930758054 \\\\\n",
       "-0.5219304963262565 & -0.23285869907761148 & -0.11636301063364726 & -0.12909944487357872 & 0.3769122394392476 & -1.2101523197759212 \\\\\n",
       "0.3779180395191872 & -0.08136026835241858 & 0.3025438276474829 & -0.3227486121839495 & 0.12146341270965826 & 0.5697604307116213 \\\\\n",
       "0.955802420337362 & 0.7771308390903412 & 1.1869027084632022 & 1.226444726299017 & 0.30929343236376805 & 1.2478224308973518 \\\\\n",
       "-0.9292013932838273 & -0.8388524219783832 & -1.3730835254770377 & -1.0973452814254328 & -0.9303846973533567 & -1.5491833198687865\n",
       "\\end{array}\\right)</script></html>"
      ],
      "text/plain": [
       "Rational Field [   -0.775098891732314   -0.2833581759860091   -1.8850807722650857   -1.0973452814254328     -1.56900676417733    0.5697604307116213]\n",
       "[ -0.12016326013838259    0.0196386854643767    1.6058095467443323       2.0010413955405   0.23416142450212413   0.14597168059553975]\n",
       "[  -0.9292013932838273   -0.8388524219783832   -0.4421794404078596   0.25819888974716293  -0.21663062266773941   -0.5320903195901907]\n",
       "[   -1.127333180992916   -1.2933477141539618   -1.0007218914493665   -1.0973452814254328   -1.1182147170074666   -0.6168480696134071]\n",
       "[ -0.12841875129292796     0.676131885273546   0.25599862339402396   -0.5163977794943203   0.19659542057130217    0.5697604307116213]\n",
       "[  -0.9209459021292821   -0.1318597452608162   -0.2094534191405651    0.4518480570575337  0.008765400917192362   0.14597168059553975]\n",
       "[   0.4522174599100953   -0.2833581759860091    0.7214506659286131    0.4518480570575337    0.6098214638103437  -0.36257481954375814]\n",
       "[ -0.18345535898989698   -1.4953456217875525   -0.4421794404078596   -0.7100469468046912   -0.5171586541143152   -1.5491833198687865]\n",
       "[   2.8408062339585514     2.191116192525475    0.8610862786889898     1.226444726299017    1.8119335895966466     1.841126681059866]\n",
       "[  -1.2814356825444293   -1.4953456217875525   -1.6058095467443323   -1.8719419506669162   -1.9822328074163718   -1.5491833198687865]\n",
       "[ -0.16969620706565472      1.23162613126592  -0.25599862339402396    -0.903696114115062   -0.1414986148060955    1.4173379309437844]\n",
       "[  0.45772112067979226   -0.1318597452608162    0.5352698489147775    1.0327955589886462    0.6098214638103437 -0.023543819450892886]\n",
       "[   1.0080871976494825    1.5346229927163058    1.6523547509977912    0.4518480570575337     2.187593628904866   0.14597168059553975]\n",
       "[   0.9943280457252404     0.676131885273546    0.2094534191405651    0.6454972243679046  0.008765400917192362     0.739275930758054]\n",
       "[  -0.5219304963262565  -0.23285869907761148  -0.11636301063364726  -0.12909944487357872    0.3769122394392476   -1.2101523197759212]\n",
       "[   0.3779180395191872  -0.08136026835241858    0.3025438276474829   -0.3227486121839495   0.12146341270965826    0.5697604307116213]\n",
       "[    0.955802420337362    0.7771308390903412    1.1869027084632022     1.226444726299017   0.30929343236376805    1.2478224308973518]\n",
       "[  -0.9292013932838273   -0.8388524219783832   -1.3730835254770377   -1.0973452814254328   -0.9303846973533567   -1.5491833198687865]"
      ]
     },
     "metadata": {},
     "output_type": "display_data"
    }
   ],
   "source": [
    "D = []\n",
    "\n",
    "for i in range(len(vp)):\n",
    "    u=[0 for i in range(len(vp))]\n",
    "    u[i]=vp[i]\n",
    "    D.append(u)\n",
    "\n",
    "D,P = matrix(Cor).eigenmatrix_right()\n",
    "\n",
    "#chaque valeur est retire la moyenne de sa ligne et divise par l ecart type de sa ligne\n",
    "#centre reduit !\n",
    "\n",
    "X = []\n",
    "for ligne in test :\n",
    "    L = []\n",
    "    ecarttype = ecTypeS(ligne)\n",
    "    moyenne = moy(ligne)\n",
    "    for valeur in ligne :\n",
    "        L.append((valeur - moyenne) / ecarttype)\n",
    "        pass\n",
    "    X.append(L)\n",
    "    pass\n",
    "X = matrix(X).transpose()\n",
    "\n",
    "show(QQ, X)"
   ]
  },
  {
   "cell_type": "code",
   "execution_count": 35,
   "metadata": {
    "scrolled": true
   },
   "outputs": [
    {
     "data": {
      "text/html": [
       "<html><script type=\"math/tex; mode=display\">\\newcommand{\\Bold}[1]{\\mathbf{#1}}\\left(\\begin{array}{rrrrrr}\n",
       "-2.138923609204143 & 1.7856810217132673 & -0.5718622807432805 & 0.20192734157459688 & -0.301356961663131 & 0.053920792454670796 \\\\\n",
       "1.5614585872895594 & -1.5270402725891457 & -1.3152713538706045 & -0.21135153778747517 & 0.14851613917312084 & -0.3272384360591551 \\\\\n",
       "-1.1193852830595177 & -0.6745051723209042 & -0.45658810250793186 & -0.16762584142994666 & -0.37536398276481514 & 0.2718032324363352 \\\\\n",
       "-2.573741704965676 & 0.1128841613835137 & -0.14856979614820864 & -0.01734322359799497 & 0.22685321633032246 & 0.2634762312293686 \\\\\n",
       "0.4278552011804999 & 0.6955673145483513 & 0.19328567418850395 & -0.6277544823369468 & 0.2635053087415851 & -0.03715265383458488 \\\\\n",
       "-0.3042376447359467 & -0.1961487838858056 & -0.675803166337836 & -0.5559413664344204 & -0.4450859429981149 & 0.20008299083215345 \\\\\n",
       "0.6839284963029297 & -0.9330567656936948 & 0.25682308293388467 & 0.20313429176957798 & 0.20865164978003625 & 0.15389175102601854 \\\\\n",
       "-1.9484925660923171 & -0.9804480462795446 & 0.6195748784389317 & 0.6303191585287815 & 0.2931651260818917 & 0.1086417934789986 \\\\\n",
       "4.409734571040129 & 1.0636331700602373 & 0.5935284189237671 & 0.847247784909691 & -0.3748896691806752 & 0.04399657072484975 \\\\\n",
       "-3.9857824179661616 & 0.23624041740891033 & 0.30313335906302863 & 0.2651217957093108 & 0.27842845600856925 & -0.3288919918433235 \\\\\n",
       "0.4376581850019715 & 1.9124481608594084 & -0.024942239634070162 & -0.7589104198476664 & 0.1681026658437124 & -0.05424074511874577 \\\\\n",
       "1.0181753819831276 & -0.8417120976691791 & -0.21661021489996726 & 0.30342641515361685 & -0.1848757846409109 & 0.18489356268118645 \\\\\n",
       "2.941080314093147 & -0.5591745927458185 & 1.243988161476783 & -0.7721710674892495 & 0.05441212930810409 & -0.057262658990077764 \\\\\n",
       "1.314880383090937 & 0.4865224579258676 & -0.28262140071426817 & 0.5822262348465359 & -0.0667346706654699 & -0.2530917609275503 \\\\\n",
       "-0.6911113710103416 & -0.8977213940083679 & 0.6284068932363169 & -0.35773668652381696 & -0.3770859280146286 & -0.12153156413582022 \\\\\n",
       "0.3857088663220818 & 0.3561845725211762 & 0.07558298916404182 & 0.10289944753823208 & 0.5270430059735904 & 0.3388319454309855 \\\\\n",
       "2.2897682429160504 & 0.10434464479517791 & -0.7963837793345137 & 0.23634748264999494 & 0.33846112502501097 & -0.15668107513770868 \\\\\n",
       "-2.7085736321863125 & -0.1436987960234628 & 0.5743288767654011 & 0.09618467276717946 & -0.38174588233821444 & -0.2834479842475919\n",
       "\\end{array}\\right)</script></html>"
      ],
      "text/plain": [
       "[   -2.138923609204143    1.7856810217132673   -0.5718622807432805   0.20192734157459688    -0.301356961663131  0.053920792454670796]\n",
       "[   1.5614585872895594   -1.5270402725891457   -1.3152713538706045  -0.21135153778747517   0.14851613917312084   -0.3272384360591551]\n",
       "[  -1.1193852830595177   -0.6745051723209042  -0.45658810250793186  -0.16762584142994666  -0.37536398276481514    0.2718032324363352]\n",
       "[   -2.573741704965676    0.1128841613835137  -0.14856979614820864  -0.01734322359799497   0.22685321633032246    0.2634762312293686]\n",
       "[   0.4278552011804999    0.6955673145483513   0.19328567418850395   -0.6277544823369468    0.2635053087415851  -0.03715265383458488]\n",
       "[  -0.3042376447359467   -0.1961487838858056    -0.675803166337836   -0.5559413664344204   -0.4450859429981149   0.20008299083215345]\n",
       "[   0.6839284963029297   -0.9330567656936948   0.25682308293388467   0.20313429176957798   0.20865164978003625   0.15389175102601854]\n",
       "[  -1.9484925660923171   -0.9804480462795446    0.6195748784389317    0.6303191585287815    0.2931651260818917    0.1086417934789986]\n",
       "[    4.409734571040129    1.0636331700602373    0.5935284189237671     0.847247784909691   -0.3748896691806752   0.04399657072484975]\n",
       "[  -3.9857824179661616   0.23624041740891033   0.30313335906302863    0.2651217957093108   0.27842845600856925   -0.3288919918433235]\n",
       "[   0.4376581850019715    1.9124481608594084 -0.024942239634070162   -0.7589104198476664    0.1681026658437124  -0.05424074511874577]\n",
       "[   1.0181753819831276   -0.8417120976691791  -0.21661021489996726   0.30342641515361685   -0.1848757846409109   0.18489356268118645]\n",
       "[    2.941080314093147   -0.5591745927458185     1.243988161476783   -0.7721710674892495   0.05441212930810409 -0.057262658990077764]\n",
       "[    1.314880383090937    0.4865224579258676  -0.28262140071426817    0.5822262348465359   -0.0667346706654699   -0.2530917609275503]\n",
       "[  -0.6911113710103416   -0.8977213940083679    0.6284068932363169  -0.35773668652381696   -0.3770859280146286  -0.12153156413582022]\n",
       "[   0.3857088663220818    0.3561845725211762   0.07558298916404182   0.10289944753823208    0.5270430059735904    0.3388319454309855]\n",
       "[   2.2897682429160504   0.10434464479517791   -0.7963837793345137   0.23634748264999494   0.33846112502501097  -0.15668107513770868]\n",
       "[  -2.7085736321863125   -0.1436987960234628    0.5743288767654011   0.09618467276717946  -0.38174588233821444   -0.2834479842475919]"
      ]
     },
     "metadata": {},
     "output_type": "display_data"
    }
   ],
   "source": [
    "# Construire les deux composantes principales\n",
    "C = X * P\n",
    "\n",
    "C2=C.transpose()\n",
    "show(C)\n",
    "C1 = C2[0]\n",
    "C2 = C2[1]"
   ]
  },
  {
   "cell_type": "code",
   "execution_count": 36,
   "metadata": {},
   "outputs": [
    {
     "data": {
      "text/plain": [
       "Text(0.5, 1.0, 'Tracé suivant les composantes principales')"
      ]
     },
     "execution_count": 36,
     "metadata": {},
     "output_type": "execute_result"
    },
    {
     "data": {
      "image/png": "[encoded data removed]",
      "text/plain": [
       "<Figure size 432x288 with 1 Axes>"
      ]
     },
     "metadata": {
      "needs_background": "light"
     },
     "output_type": "display_data"
    }
   ],
   "source": [
    "# Tracé les différents véhicules suivant les deux composantes principales\n",
    "plt.scatter(C1,C2,marker='o')\n",
    "plt.xlabel('CP 1')\n",
    "plt.ylabel('CP 2')\n",
    "plt.title(\"Tracé suivant les composantes principales\")\n",
    "\n"
   ]
  },
  {
   "cell_type": "code",
   "execution_count": 37,
   "metadata": {},
   "outputs": [
    {
     "data": {
      "text/plain": [
       "<BarContainer object of 6 artists>"
      ]
     },
     "execution_count": 37,
     "metadata": {},
     "output_type": "execute_result"
    },
    {
     "data": {
      "image/png": "[encoded data removed]",
      "text/plain": [
       "<Figure size 432x288 with 1 Axes>"
      ]
     },
     "metadata": {
      "needs_background": "light"
     },
     "output_type": "display_data"
    }
   ],
   "source": [
    "# Représenter graphiquement les contributions des variables aux composantes principales :\n",
    "\n",
    "plt.bar(range(len(vp)), vp)\n"
   ]
  },
  {
   "cell_type": "code",
   "execution_count": null,
   "metadata": {},
   "outputs": [],
   "source": []
  },
  {
   "cell_type": "markdown",
   "metadata": {},
   "source": [
    "### Exercice 3 : Jus de fruit "
   ]
  },
  {
   "cell_type": "code",
   "execution_count": 36,
   "metadata": {},
   "outputs": [],
   "source": [
    "# Un jus de fruit est caractériqsé par les caractéristiques suivantes : \n",
    "# odeur, pulpeux, couleur, acidité, amertume, sucré, originalité\n",
    "data={1:[2.82,2.53,1.66,3.46,3.15,2.97,2.60],\n",
    "      2:[2.76,2.82,1.91,3.23,2.55,2.08,3.32 ],\n",
    "      3:[2.83,2.88,4.0,3.45,2.42,1.76,3.38 ],\n",
    "      4:[2.76,2.59,1.66,3.37,3.05,2.56,2.8 ],\n",
    "      5:[3.2,3.02,3.69,3.12,2.33,1.97,3.34 ],\n",
    "      6:[3.07,2.73,3.34,3.54,3.31,2.63,2.9 ],\n",
    "     }"
   ]
  },
  {
   "cell_type": "code",
   "execution_count": 38,
   "metadata": {},
   "outputs": [],
   "source": [
    "voitures={\"Alfasud\" : [1350 ,79 ,393, 161, 870 ,165],\n",
    "\"Audi\" : [1588, 85, 468, 177, 1110 ,160 ],\n",
    "\"Simca\"  : [1294 ,68, 424, 168, 1050 ,152 ],\n",
    "\"Citroen\"  : [1222, 59, 412, 161, 930 ,151 ],\n",
    "\"Fiat\" : [1585, 98, 439, 164,1105 ,165 ],\n",
    "\"Lancia\"  :[1297 ,82 ,429, 169, 1080 ,160 ],\n",
    "\"Peugeot\" :[ 1796, 79, 449 ,169, 1160 ,154 ],\n",
    "\"Renault16\" : [1565,55, 424, 163, 1010 ,140], \n",
    "\"Renault30\": [2664, 128, 452, 173, 1320,180], \n",
    "\"Toyota\" : [1166, 55 ,399, 157, 815, 140], \n",
    "\"Alfetta\" :[ 1570, 109, 428, 162, 1060, 175], \n",
    "\"Princess\" : [1798 ,82, 445, 172, 1160 ,158 ],\n",
    "\"Datsun\" :[1998 ,115, 469, 169, 1370 ,160 ],\n",
    "\"Taunus\" : [1993, 98 ,438 ,170, 1080 ,167 ],\n",
    "\"Rancho\" :[1442 ,80 ,431, 166, 1129, 144 ],\n",
    "\"Mazda\" :[1769 ,83,440,165 ,1095, 165 ],\n",
    "\"Opel\": [1979, 100 ,459 ,173, 1120 ,173], \n",
    "\"Lada\" : [1294, 68, 404 ,161, 955, 140] }\n",
    "\n",
    "caracteristiques = [\n",
    "    'cylindree',\n",
    "    'puissance',\n",
    "    'longueur',\n",
    "    'largeur',\n",
    "    'poids',\n",
    "    'vitesse max',\n",
    "]\n",
    "\n",
    "Z = {key:[] for key in caracteristiques}\n",
    "\n",
    "for marque in voitures :\n",
    "    liste = voitures[marque]\n",
    "    \n",
    "    for index, value in zip(range(len(liste)), liste) :\n",
    "        Z[caracteristiques[index]].append(value)\n",
    "        pass\n",
    "    \n",
    "    pass\n",
    "\n",
    "M = np.stack((\n",
    "    Z[caracteristiques[0]],\n",
    "    Z[caracteristiques[1]],\n",
    "    Z[caracteristiques[2]],\n",
    "    Z[caracteristiques[3]],\n",
    "    Z[caracteristiques[4]],\n",
    "    Z[caracteristiques[5]]\n",
    "))"
   ]
  },
  {
   "cell_type": "code",
   "execution_count": null,
   "metadata": {},
   "outputs": [],
   "source": [
    "import numpy as np\n",
    "\n",
    "# 1. on calcule la matrice de correlation\n",
    "COR = np.corrcoef(M)\n",
    "COR = matrix(QQ, COR)\n",
    "\n",
    "# 2. on calcule les valeurs propres de la matrice\n",
    "vp = COR.eigenvalues()\n",
    "\n",
    "plt.title(\"Ebouli des valeurs propres\")\n",
    "bar = plt.bar(caracteristiques, vp)\n",
    "plt.show()\n",
    "\n",
    "# 3. on recupere la matrice de passage\n",
    "_, P = COR.eigenmatrix_right()\n",
    "\n",
    "# 4. on calcule X\n",
    "\n",
    "#chaque valeur est retire la moyenne de sa ligne et divise par l ecart type de sa ligne\n",
    "#centre reduit !\n",
    "X = []\n",
    "for ligne in M :\n",
    "    L = []\n",
    "    ecarttype = ecTypeS(ligne)\n",
    "    moyenne = moy(ligne)\n",
    "    for valeur in ligne :\n",
    "        L.append((valeur - moyenne) / ecarttype)\n",
    "        pass\n",
    "    X.append(L)\n",
    "    pass\n",
    "X = matrix(QQ, X).transpose()\n",
    "\n",
    "# 5. on calcule X * P\n",
    "C = X * P\n",
    "\n",
    "# 6. on extrait la premiere et la deuxieme colonne de C\n",
    "CT = C.transpose()\n",
    "C1 = CT[0]\n",
    "C2 = CT[1]\n",
    "\n",
    "# 7. on fait des show\n",
    "nuage = plt.scatter(C1,C2,marker='o')\n",
    "plt.xlabel('CP 1')\n",
    "plt.ylabel('CP 2')\n",
    "plt.title(\"Tracé suivant les composantes principales\")\n",
    "plt.show()\n",
    "plt.close()"
   ]
  },
  {
   "cell_type": "code",
   "execution_count": null,
   "metadata": {},
   "outputs": [],
   "source": []
  },
  {
   "cell_type": "code",
   "execution_count": null,
   "metadata": {},
   "outputs": [],
   "source": []
  },
  {
   "cell_type": "code",
   "execution_count": null,
   "metadata": {},
   "outputs": [],
   "source": []
  },
  {
   "cell_type": "code",
   "execution_count": null,
   "metadata": {},
   "outputs": [],
   "source": []
  }
 ],
 "metadata": {
  "kernelspec": {
   "display_name": "SageMath 9.0",
   "language": "sage",
   "name": "sagemath"
  },
  "language_info": {
   "codemirror_mode": {
    "name": "ipython",
    "version": 3
   },
   "file_extension": ".py",
   "mimetype": "text/x-python",
   "name": "python",
   "nbconvert_exporter": "python",
   "pygments_lexer": "ipython3",
   "version": "3.8.10"
  }
 },
 "nbformat": 4,
 "nbformat_minor": 4
}
