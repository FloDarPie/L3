{
 "cells": [
  {
   "cell_type": "code",
   "execution_count": 69,
   "metadata": {},
   "outputs": [],
   "source": [
    "E1 = vector([1,0,1])\n",
    "E2 = vector([1,1,1])\n",
    "E3 = vector([-1,-1,0])\n",
    "\n",
    "base = [E1,E2,E3]\n",
    "\n",
    "baseOrtho = [\n",
    "            vector([1,0,1]),\n",
    "            vector([0,1,0]),\n",
    "            vector([6,0,-6])]"
   ]
  },
  {
   "cell_type": "markdown",
   "metadata": {},
   "source": [
    "Fonction de calcul du projeté orthogonale"
   ]
  },
  {
   "cell_type": "code",
   "execution_count": 70,
   "metadata": {},
   "outputs": [],
   "source": [
    "def projetOrthoBOG(X,B):\n",
    "    #base ortogonale, alors la matrice est diagonale\n",
    "    Y=vector([0]*len(X))\n",
    "    for ei in (B):\n",
    "        Y+=((X.dot_product(ei)) / (ei.dot_product(ei))*ei)\n",
    "    return Y"
   ]
  },
  {
   "cell_type": "markdown",
   "metadata": {},
   "source": [
    "Fonction qui calcule la matrice des produits scalaire"
   ]
  },
  {
   "cell_type": "code",
   "execution_count": 71,
   "metadata": {},
   "outputs": [],
   "source": [
    "def matProdScal(liste):\n",
    "    '''construire A =\n",
    "    e1|e1 e1|e2 ... e1|ep\n",
    "      *   e2|e2 ... e2|ep\n",
    "    ...\n",
    "      *     *   ... ep|ep\n",
    "    '''\n",
    "    return matrix([[en.dot_product(ep) for ep in liste] for en in liste])"
   ]
  },
  {
   "cell_type": "code",
   "execution_count": 72,
   "metadata": {},
   "outputs": [
    {
     "data": {
      "text/html": [
       "<html><script type=\"math/tex; mode=display\">\\newcommand{\\Bold}[1]{\\mathbf{#1}}\\left(\\begin{array}{rrr}\n",
       "2 & 2 & -1 \\\\\n",
       "2 & 3 & -2 \\\\\n",
       "-1 & -2 & 2\n",
       "\\end{array}\\right)</script></html>"
      ],
      "text/plain": [
       "[ 2  2 -1]\n",
       "[ 2  3 -2]\n",
       "[-1 -2  2]"
      ]
     },
     "metadata": {},
     "output_type": "display_data"
    },
    {
     "data": {
      "text/html": [
       "<html><script type=\"math/tex; mode=display\">\\newcommand{\\Bold}[1]{\\mathbf{#1}}\\left(\\begin{array}{rrr}\n",
       "2 & 0 & 0 \\\\\n",
       "0 & 1 & 0 \\\\\n",
       "0 & 0 & 72\n",
       "\\end{array}\\right)</script></html>"
      ],
      "text/plain": [
       "[ 2  0  0]\n",
       "[ 0  1  0]\n",
       "[ 0  0 72]"
      ]
     },
     "metadata": {},
     "output_type": "display_data"
    }
   ],
   "source": [
    "show(matProdScal(base))\n",
    "show(matProdScal(baseOrtho))"
   ]
  },
  {
   "cell_type": "markdown",
   "metadata": {},
   "source": [
    "Fonction qui calcule si une base est ortogonale"
   ]
  },
  {
   "cell_type": "code",
   "execution_count": 73,
   "metadata": {},
   "outputs": [],
   "source": [
    "def BOG(base):\n",
    "    for i in range(len(base)):\n",
    "        for j in range(i):\n",
    "            if base[i].dot_product(base[j]):\n",
    "                \n",
    "                return False\n",
    "    return True"
   ]
  },
  {
   "cell_type": "code",
   "execution_count": 74,
   "metadata": {},
   "outputs": [
    {
     "name": "stdout",
     "output_type": "stream",
     "text": [
      "False\n",
      "True\n"
     ]
    }
   ],
   "source": [
    "print(BOG(base))\n",
    "print(BOG(baseOrtho))"
   ]
  },
  {
   "cell_type": "markdown",
   "metadata": {},
   "source": [
    "Fonction de Gram-Schimdt si la famille n'est pas libre"
   ]
  },
  {
   "cell_type": "code",
   "execution_count": 81,
   "metadata": {},
   "outputs": [],
   "source": [
    "def Gram_Schimdt(B):\n",
    "\n",
    "    BOG = [B[0]]\n",
    "    \n",
    "    for ei in B[1:]:\n",
    "        E = ei - projetOrthoBOG(ei,BOG)\n",
    "        #si la famille est lié, ce vecteur peut être nul\n",
    "        if E!=0:\n",
    "            BOG.append(E)\n",
    "    return BOG"
   ]
  },
  {
   "cell_type": "code",
   "execution_count": 76,
   "metadata": {},
   "outputs": [
    {
     "data": {
      "text/html": [
       "<html><script type=\"math/tex; mode=display\">\\newcommand{\\Bold}[1]{\\mathbf{#1}}\\mathrm{True}</script></html>"
      ],
      "text/plain": [
       "True"
      ]
     },
     "metadata": {},
     "output_type": "display_data"
    }
   ],
   "source": [
    "# verifiaction de la nullité d'un vecteur\n",
    "show(vector([0,0,0,0,0,0,0,0,0,0])==0)"
   ]
  },
  {
   "cell_type": "code",
   "execution_count": 82,
   "metadata": {},
   "outputs": [
    {
     "data": {
      "text/plain": [
       "[(1, 0, 1), (0, 1, 0), (6, 0, -6)]"
      ]
     },
     "execution_count": 82,
     "metadata": {},
     "output_type": "execute_result"
    }
   ],
   "source": [
    "show(Gram_Schimdt(base))\n",
    "show(Gram_Schimdt(baseOrtho))"
   ]
  },
  {
   "cell_type": "code",
   "execution_count": null,
   "metadata": {},
   "outputs": [],
   "source": []
  }
 ],
 "metadata": {
  "kernelspec": {
   "display_name": "SageMath 9.0",
   "language": "sage",
   "name": "sagemath"
  },
  "language_info": {
   "codemirror_mode": {
    "name": "ipython",
    "version": 3
   },
   "file_extension": ".py",
   "mimetype": "text/x-python",
   "name": "python",
   "nbconvert_exporter": "python",
   "pygments_lexer": "ipython3",
   "version": "3.8.10"
  }
 },
 "nbformat": 4,
 "nbformat_minor": 4
}
