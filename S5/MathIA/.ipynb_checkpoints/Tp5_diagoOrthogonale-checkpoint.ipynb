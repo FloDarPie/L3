{
 "cells": [
  {
   "cell_type": "code",
   "execution_count": 1,
   "metadata": {},
   "outputs": [],
   "source": [
    "def projetOrthoBOG(X,B):\n",
    "    #base ortogonale, alors la matrice est diagonale\n",
    "    Y=vector([0]*len(X))\n",
    "    for ei in (B):\n",
    "        Y+=((X.dot_product(ei)) / (ei.dot_product(ei))*ei)\n",
    "    return Y"
   ]
  },
  {
   "cell_type": "code",
   "execution_count": 2,
   "metadata": {},
   "outputs": [],
   "source": [
    "def Gram_Schimdt(B):\n",
    "\n",
    "    BOG = [B[0]]\n",
    "    \n",
    "    for ei in B[1:]:\n",
    "        E = ei - projetOrthoBOG(ei,BOG)\n",
    "        #si la famille est lié, ce vecteur peut être nul\n",
    "        if E!=0:\n",
    "            BOG.append(E)\n",
    "    return BOG"
   ]
  },
  {
   "cell_type": "code",
   "execution_count": 7,
   "metadata": {},
   "outputs": [],
   "source": [
    "def diagonalisation(A):\n",
    "    D = A.eigenmatrix_right()[0]\n",
    "    print(type(A.eigenmatrix_right()[1]))\n",
    "    P = matrix(Gram_Schimdt(A.eigenmatrix_right()[1]))\n",
    "    return P,D,transpose(P)"
   ]
  },
  {
   "cell_type": "code",
   "execution_count": 8,
   "metadata": {},
   "outputs": [
    {
     "data": {
      "text/html": [
       "<html><script type=\"math/tex; mode=display\">\\newcommand{\\Bold}[1]{\\mathbf{#1}}\\left(\\left(\\begin{array}{rrr}\n",
       "1 & 1 & 0 \\\\\n",
       "\\frac{1}{2} & -\\frac{1}{2} & 1 \\\\\n",
       "1 & -1 & -1\n",
       "\\end{array}\\right), \\left(\\begin{array}{rrr}\n",
       "2 & 0 & 0 \\\\\n",
       "0 & -1 & 0 \\\\\n",
       "0 & 0 & -1\n",
       "\\end{array}\\right), \\left(\\begin{array}{rrr}\n",
       "1 & \\frac{1}{2} & 1 \\\\\n",
       "1 & -\\frac{1}{2} & -1 \\\\\n",
       "0 & 1 & -1\n",
       "\\end{array}\\right)\\right)</script></html>"
      ],
      "text/plain": [
       "(\n",
       "[   1    1    0]  [ 2  0  0]  [   1  1/2    1]\n",
       "[ 1/2 -1/2    1]  [ 0 -1  0]  [   1 -1/2   -1]\n",
       "[   1   -1   -1], [ 0  0 -1], [   0    1   -1]\n",
       ")"
      ]
     },
     "metadata": {},
     "output_type": "display_data"
    }
   ],
   "source": [
    "A = matrix([\n",
    "    [0,1,1],\n",
    "    [1,0,1],\n",
    "    [1,1,0]\n",
    "])\n",
    "\n",
    "B = diagonalisation(A)\n",
    "show(B)"
   ]
  },
  {
   "cell_type": "code",
   "execution_count": null,
   "metadata": {},
   "outputs": [],
   "source": []
  },
  {
   "cell_type": "code",
   "execution_count": null,
   "metadata": {},
   "outputs": [],
   "source": []
  }
 ],
 "metadata": {
  "kernelspec": {
   "display_name": "SageMath 9.0",
   "language": "sage",
   "name": "sagemath"
  },
  "language_info": {
   "codemirror_mode": {
    "name": "ipython",
    "version": 3
   },
   "file_extension": ".py",
   "mimetype": "text/x-python",
   "name": "python",
   "nbconvert_exporter": "python",
   "pygments_lexer": "ipython3",
   "version": "3.8.10"
  }
 },
 "nbformat": 4,
 "nbformat_minor": 4
}
