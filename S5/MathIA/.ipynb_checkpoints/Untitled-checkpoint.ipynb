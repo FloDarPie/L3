{
 "cells": [
  {
   "cell_type": "code",
   "execution_count": 8,
   "metadata": {},
   "outputs": [
    {
     "data": {
      "text/html": [
       "<html><script type=\"math/tex; mode=display\">\\newcommand{\\Bold}[1]{\\mathbf{#1}}\\left(\\left[\\left(-1,\\,0,\\,-1\\right), \\left(-\\frac{1}{2},\\,-2,\\,\\frac{1}{2}\\right), \\left(6,\\,-3,\\,-6\\right)\\right], \\left(\\begin{array}{rrr}\n",
       "0 & 0 & 0 \\\\\n",
       "-\\frac{3}{2} & 0 & 0 \\\\\n",
       "1 & 0 & 0\n",
       "\\end{array}\\right)\\right)</script></html>"
      ],
      "text/plain": [
       "(\n",
       "                                             [   0    0    0]\n",
       "                                             [-3/2    0    0]\n",
       "[(-1, 0, -1), (-1/2, -2, 1/2), (6, -3, -6)], [   1    0    0]\n",
       ")"
      ]
     },
     "metadata": {},
     "output_type": "display_data"
    }
   ],
   "source": [
    "from sage.modules.misc import gram_schmidt\n",
    "\n",
    "\n",
    "base = [\n",
    "    vector([-1,0,-1]),\n",
    "    vector([1,-2,2]),\n",
    "    vector([5,-3,-7])\n",
    "]\n",
    "\n",
    "pretty_print(gram_schmidt(base) )"
   ]
  },
  {
   "cell_type": "code",
   "execution_count": 9,
   "metadata": {},
   "outputs": [
    {
     "name": "stdout",
     "output_type": "stream",
     "text": [
      "[-1  0 -1]\n",
      "[ 1 -2  2]\n",
      "[ 5 -3 -7]\n"
     ]
    }
   ],
   "source": [
    "M = matrix(base)\n",
    "print(M)"
   ]
  },
  {
   "cell_type": "code",
   "execution_count": 11,
   "metadata": {},
   "outputs": [
    {
     "name": "stdout",
     "output_type": "stream",
     "text": [
      "x^3 + 10*x^2 + 34*x + 27\n",
      "x^3 + 10*x^2 + 34*x + 27\n"
     ]
    }
   ],
   "source": [
    "poly = M.charpoly()\n",
    "print(poly)\n",
    "print(poly.factor())"
   ]
  },
  {
   "cell_type": "code",
   "execution_count": 13,
   "metadata": {},
   "outputs": [
    {
     "data": {
      "text/html": [
       "<html><script type=\"math/tex; mode=display\">\\newcommand{\\Bold}[1]{\\mathbf{#1}}\\left(\\left(\\begin{array}{rrr}\n",
       "-1.123851439666892? & 0 & 0 \\\\\n",
       "0 & -4.438074280166555? - 2.080390431024079? \\sqrt{-1} & 0 \\\\\n",
       "0 & 0 & -4.438074280166555? + 2.080390431024079? \\sqrt{-1}\n",
       "\\end{array}\\right), \\left(\\begin{array}{rrr}\n",
       "1 & 1 & 1 \\\\\n",
       "1.424076847035405? & -2.712038423517702? + 0.6075770270241740? \\sqrt{-1} & -2.712038423517702? - 0.6075770270241740? \\sqrt{-1} \\\\\n",
       "0.1238514396668913? & 3.438074280166555? + 2.080390431024079? \\sqrt{-1} & 3.438074280166555? - 2.080390431024079? \\sqrt{-1}\n",
       "\\end{array}\\right)\\right)</script></html>"
      ],
      "text/plain": [
       "(\n",
       "[                       -1.123851439666892?                                          0                                          0]  [                                          1                                           1                                           1]\n",
       "[                                         0 -4.438074280166555? - 2.080390431024079?*I                                          0]  [                         1.424076847035405? -2.712038423517702? + 0.6075770270241740?*I -2.712038423517702? - 0.6075770270241740?*I]\n",
       "[                                         0                                          0 -4.438074280166555? + 2.080390431024079?*I], [                        0.1238514396668913?   3.438074280166555? + 2.080390431024079?*I   3.438074280166555? - 2.080390431024079?*I]\n",
       ")"
      ]
     },
     "metadata": {},
     "output_type": "display_data"
    }
   ],
   "source": [
    "D,P = M.eigenmatrix_right()\n",
    "\n",
    "pretty_print()"
   ]
  }
 ],
 "metadata": {
  "kernelspec": {
   "display_name": "SageMath 9.0",
   "language": "sage",
   "name": "sagemath"
  },
  "language_info": {
   "codemirror_mode": {
    "name": "ipython",
    "version": 3
   },
   "file_extension": ".py",
   "mimetype": "text/x-python",
   "name": "python",
   "nbconvert_exporter": "python",
   "pygments_lexer": "ipython3",
   "version": "3.8.10"
  }
 },
 "nbformat": 4,
 "nbformat_minor": 4
}
