{
 "cells": [
  {
   "cell_type": "markdown",
   "metadata": {},
   "source": [
    "On pose la matrice.\n",
    "\n",
    "On recherche les vecteurs propres."
   ]
  },
  {
   "cell_type": "code",
   "execution_count": 26,
   "metadata": {},
   "outputs": [
    {
     "data": {
      "text/html": [
       "<html><script type=\"math/tex; mode=display\">\\newcommand{\\Bold}[1]{\\mathbf{#1}}\\left(\\begin{array}{rrrr}\n",
       "-1 & -1 & -1 & -1 \\\\\n",
       "-1 & -1 & 1 & 1 \\\\\n",
       "-1 & 1 & -1 & 1 \\\\\n",
       "-1 & 1 & 1 & -1\n",
       "\\end{array}\\right)</script></html>"
      ],
      "text/plain": [
       "[-1 -1 -1 -1]\n",
       "[-1 -1  1  1]\n",
       "[-1  1 -1  1]\n",
       "[-1  1  1 -1]"
      ]
     },
     "metadata": {},
     "output_type": "display_data"
    },
    {
     "data": {
      "text/html": [
       "<html><script type=\"math/tex; mode=display\">\\newcommand{\\Bold}[1]{\\mathbf{#1}}(x - 2) \\cdot (x + 2)^{3}</script></html>"
      ],
      "text/plain": [
       "(x - 2) * (x + 2)^3"
      ]
     },
     "metadata": {},
     "output_type": "display_data"
    }
   ],
   "source": [
    "A = matrix(QQ,\n",
    "    [\n",
    "    [-1,-1,-1,-1],\n",
    "    [-1,-1,1,1],\n",
    "    [-1,1,-1,1],\n",
    "    [-1,1,1,-1]\n",
    "    ]\n",
    ")\n",
    "pretty_print(A)\n",
    "pretty_print(A.charpoly().factor())"
   ]
  },
  {
   "cell_type": "markdown",
   "metadata": {},
   "source": [
    "On calcule la matrice diagonale et la matrice de passage"
   ]
  },
  {
   "cell_type": "code",
   "execution_count": 27,
   "metadata": {},
   "outputs": [
    {
     "data": {
      "text/html": [
       "<html><script type=\"math/tex; mode=display\">\\newcommand{\\Bold}[1]{\\mathbf{#1}}\\left(\\begin{array}{rrrr}\n",
       "1 & 1 & 0 & 0 \\\\\n",
       "-1 & 0 & 1 & 0 \\\\\n",
       "-1 & 0 & 0 & 1 \\\\\n",
       "-1 & 1 & -1 & -1\n",
       "\\end{array}\\right) \\left(\\begin{array}{rrrr}\n",
       "2 & 0 & 0 & 0 \\\\\n",
       "0 & -2 & 0 & 0 \\\\\n",
       "0 & 0 & -2 & 0 \\\\\n",
       "0 & 0 & 0 & -2\n",
       "\\end{array}\\right)</script></html>"
      ],
      "text/plain": [
       "[ 1  1  0  0]\n",
       "[-1  0  1  0]\n",
       "[-1  0  0  1]\n",
       "[-1  1 -1 -1] [ 2  0  0  0]\n",
       "[ 0 -2  0  0]\n",
       "[ 0  0 -2  0]\n",
       "[ 0  0  0 -2]"
      ]
     },
     "metadata": {},
     "output_type": "display_data"
    }
   ],
   "source": [
    "D, P = A.eigenmatrix_right()\n",
    "pretty_print(P, D)"
   ]
  },
  {
   "cell_type": "markdown",
   "metadata": {},
   "source": [
    "Calcule de la base orthogonale avec Gram-Schmidt.\n",
    "\n",
    "Transformation en base orthonormale."
   ]
  },
  {
   "cell_type": "code",
   "execution_count": 28,
   "metadata": {},
   "outputs": [],
   "source": [
    "def projetOrthoBOG(X,B):\n",
    "    #base ortogonale, alors la matrice est diagonale\n",
    "    Y=vector([0]*len(X))\n",
    "    for ei in (B):\n",
    "        Y+=((X.dot_product(ei)) / (ei.dot_product(ei))*ei)\n",
    "    return Y"
   ]
  },
  {
   "cell_type": "code",
   "execution_count": 13,
   "metadata": {},
   "outputs": [],
   "source": [
    "def Gram_Schimdt(B):\n",
    "\n",
    "    BOG = [B[0]]\n",
    "    \n",
    "    for ei in B[1:]:\n",
    "        E = ei - projetOrthoBOG(ei,BOG)\n",
    "        #si la famille est lié, ce vecteur peut être nul\n",
    "        if E!=0:\n",
    "            BOG.append(E)\n",
    "    return BOG\n"
   ]
  },
  {
   "cell_type": "code",
   "execution_count": 22,
   "metadata": {},
   "outputs": [],
   "source": [
    "def diagonalisationOrthonorme(A):\n",
    "    D,oldP = A.eigenmatrix_right() #diago simple\n",
    "    taille=range(len(oldP[0]))\n",
    "   \n",
    "    preP = [vector([oldP[i][j] for i in taille]) for j in taille] #recuperation des vecteurs de P\n",
    "    \n",
    "    #pretty_print(preP)\n",
    "    \n",
    "    P = matrix(Gram_Schimdt(preP)) #ortoghonalisation\n",
    "    \n",
    "    #normé chaque vecteur de P\n",
    "    \n",
    "    postP = [vector([P[i][j] for i in taille]) for j in taille]\n",
    "    \n",
    "    #pretty_print(postP)\n",
    "    \n",
    "    for l in range(len(postP)):\n",
    "        n = 0 #norme\n",
    "        for u in postP[l]:\n",
    "            n+=u*u\n",
    "            \n",
    "        postP[l] /= n #appliqer la norme aux vecteurs de la base orthogonale\n",
    "    \n",
    "    #pretty_print(postP)\n",
    "    postP = matrix(postP)\n",
    "    return postP,D,transpose(postP)"
   ]
  },
  {
   "cell_type": "code",
   "execution_count": 29,
   "metadata": {},
   "outputs": [
    {
     "data": {
      "text/html": [
       "<html><script type=\"math/tex; mode=display\">\\newcommand{\\Bold}[1]{\\mathbf{#1}}\\left(\\left(\\begin{array}{rrrr}\n",
       "\\frac{36}{85} & \\frac{36}{85} & \\frac{18}{85} & \\frac{12}{85} \\\\\n",
       "-\\frac{9}{19} & 0 & \\frac{9}{19} & -\\frac{3}{19} \\\\\n",
       "-\\frac{1}{2} & 0 & 0 & \\frac{1}{2} \\\\\n",
       "-\\frac{36}{85} & \\frac{36}{85} & -\\frac{18}{85} & -\\frac{12}{85}\n",
       "\\end{array}\\right), \\left(\\begin{array}{rrrr}\n",
       "2 & 0 & 0 & 0 \\\\\n",
       "0 & -2 & 0 & 0 \\\\\n",
       "0 & 0 & -2 & 0 \\\\\n",
       "0 & 0 & 0 & -2\n",
       "\\end{array}\\right), \\left(\\begin{array}{rrrr}\n",
       "\\frac{36}{85} & -\\frac{9}{19} & -\\frac{1}{2} & -\\frac{36}{85} \\\\\n",
       "\\frac{36}{85} & 0 & 0 & \\frac{36}{85} \\\\\n",
       "\\frac{18}{85} & \\frac{9}{19} & 0 & -\\frac{18}{85} \\\\\n",
       "\\frac{12}{85} & -\\frac{3}{19} & \\frac{1}{2} & -\\frac{12}{85}\n",
       "\\end{array}\\right)\\right)</script></html>"
      ],
      "text/plain": [
       "(\n",
       "[ 36/85  36/85  18/85  12/85]  [ 2  0  0  0]\n",
       "[ -9/19      0   9/19  -3/19]  [ 0 -2  0  0]\n",
       "[  -1/2      0      0    1/2]  [ 0  0 -2  0]\n",
       "[-36/85  36/85 -18/85 -12/85], [ 0  0  0 -2],\n",
       "\n",
       "[ 36/85  -9/19   -1/2 -36/85]\n",
       "[ 36/85      0      0  36/85]\n",
       "[ 18/85   9/19      0 -18/85]\n",
       "[ 12/85  -3/19    1/2 -12/85]\n",
       ")"
      ]
     },
     "metadata": {},
     "output_type": "display_data"
    }
   ],
   "source": [
    "Aprime = diagonalisationOrthonorme(A)\n",
    "\n",
    "pretty_print(Aprime)"
   ]
  },
  {
   "cell_type": "code",
   "execution_count": null,
   "metadata": {},
   "outputs": [],
   "source": []
  },
  {
   "cell_type": "code",
   "execution_count": null,
   "metadata": {},
   "outputs": [],
   "source": []
  },
  {
   "cell_type": "code",
   "execution_count": null,
   "metadata": {},
   "outputs": [],
   "source": []
  },
  {
   "cell_type": "code",
   "execution_count": null,
   "metadata": {},
   "outputs": [],
   "source": []
  }
 ],
 "metadata": {
  "kernelspec": {
   "display_name": "SageMath 9.0",
   "language": "sage",
   "name": "sagemath"
  },
  "language_info": {
   "codemirror_mode": {
    "name": "ipython",
    "version": 3
   },
   "file_extension": ".py",
   "mimetype": "text/x-python",
   "name": "python",
   "nbconvert_exporter": "python",
   "pygments_lexer": "ipython3",
   "version": "3.8.10"
  }
 },
 "nbformat": 4,
 "nbformat_minor": 4
}
