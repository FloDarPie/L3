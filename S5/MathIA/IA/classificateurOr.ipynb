{
 "cells": [
  {
   "cell_type": "code",
   "execution_count": 35,
   "metadata": {},
   "outputs": [],
   "source": [
    "import sklearn\n",
    "import pandas as pd\n",
    "import matplotlib\n",
    "import matplotlib.pyplot as plt\n",
    "import numpy as np\n",
    "\n",
    "data = [[[0,0],-1],[[1.0,0],1],[[0,1],1],[[1,1],1]]"
   ]
  },
  {
   "cell_type": "code",
   "execution_count": 38,
   "metadata": {},
   "outputs": [
    {
     "data": {
      "image/png": "[encoded data removed]",
      "text/plain": [
       "<Figure size 432x288 with 1 Axes>"
      ]
     },
     "metadata": {
      "needs_background": "light"
     },
     "output_type": "display_data"
    }
   ],
   "source": [
    "#on va construire un classificateur glouton\n",
    "# determiner y\n",
    "# y = aX + b\n",
    "\n",
    "a = 0\n",
    "b = 0.5\n",
    "\n",
    "x = np.linspace(0,1,2)\n",
    "\n",
    "def affichage():\n",
    "    plt.plot(a*x+b)\n",
    "    for d in range(len(data)):\n",
    "        plt.scatter(data[d][0][0],data[d][0][1], s = 50)\n",
    "    plt.show()\n",
    "    plt.close()\n",
    "    pass\n",
    "affichage()\n",
    "\n"
   ]
  },
  {
   "cell_type": "code",
   "execution_count": 45,
   "metadata": {},
   "outputs": [
    {
     "name": "stdout",
     "output_type": "stream",
     "text": [
      "-1 False True\n",
      "1 False False\n",
      "1 False False\n",
      "1 False False\n"
     ]
    }
   ],
   "source": [
    "def calculSigne(a, b, data):\n",
    "    for k in data:\n",
    "        if a*k[1] + b < 0 and k[1] < 0:\n",
    "            pass\n",
    "        print(k[1], a*k[1] + b < 0, k[1] < 0)\n",
    "calculSigne(a,b,data)"
   ]
  }
 ],
 "metadata": {
  "kernelspec": {
   "display_name": "Python 3",
   "language": "python",
   "name": "python3"
  },
  "language_info": {
   "codemirror_mode": {
    "name": "ipython",
    "version": 3
   },
   "file_extension": ".py",
   "mimetype": "text/x-python",
   "name": "python",
   "nbconvert_exporter": "python",
   "pygments_lexer": "ipython3",
   "version": "3.8.10"
  }
 },
 "nbformat": 4,
 "nbformat_minor": 4
}
