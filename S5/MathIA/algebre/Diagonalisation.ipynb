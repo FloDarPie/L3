{
 "cells": [
  {
   "cell_type": "markdown",
   "metadata": {},
   "source": [
    " - Definir une matrice"
   ]
  },
  {
   "cell_type": "code",
   "execution_count": 1,
   "metadata": {},
   "outputs": [
    {
     "data": {
      "text/html": [
       "<html><script type=\"math/tex; mode=display\">\\newcommand{\\Bold}[1]{\\mathbf{#1}}\\left(\\begin{array}{rrr}\n",
       "11 & -5 & 5 \\\\\n",
       "-5 & 3 & -3 \\\\\n",
       "5 & -3 & 3\n",
       "\\end{array}\\right)</script></html>"
      ],
      "text/latex": [
       "\\begin{math}\n",
       "\\newcommand{\\Bold}[1]{\\mathbf{#1}}\\left(\\begin{array}{rrr}\n",
       "11 & -5 & 5 \\\\\n",
       "-5 & 3 & -3 \\\\\n",
       "5 & -3 & 3\n",
       "\\end{array}\\right)\n",
       "\\end{math}"
      ],
      "text/plain": [
       "[11 -5  5]\n",
       "[-5  3 -3]\n",
       "[ 5 -3  3]"
      ]
     },
     "metadata": {},
     "output_type": "display_data"
    }
   ],
   "source": [
    "C = matrix([\n",
    "    [11,-5,5],\n",
    "    [-5,3,-3],\n",
    "    [5,-3,3]\n",
    "])\n",
    "show(C)"
   ]
  },
  {
   "cell_type": "markdown",
   "metadata": {},
   "source": [
    "- Calcul du determinant"
   ]
  },
  {
   "cell_type": "code",
   "execution_count": 2,
   "metadata": {},
   "outputs": [
    {
     "name": "stdout",
     "output_type": "stream",
     "text": [
      "0\n"
     ]
    }
   ],
   "source": [
    "a = det(C)\n",
    "print(\"Determinant =\",a)\n",
    "if a==0:\n",
    "    print(\"Donc pas de diagonalisation.\")"
   ]
  },
  {
   "cell_type": "markdown",
   "metadata": {},
   "source": [
    "- Calcul du polynôme caractéristique"
   ]
  },
  {
   "cell_type": "code",
   "execution_count": 19,
   "metadata": {},
   "outputs": [
    {
     "data": {
      "text/html": [
       "<html><script type=\"math/tex; mode=display\">\\newcommand{\\Bold}[1]{\\mathbf{#1}}\\left(\\begin{array}{rrr}\n",
       "x & 0 & 0 \\\\\n",
       "0 & x & 0 \\\\\n",
       "0 & 0 & x\n",
       "\\end{array}\\right)</script></html>"
      ],
      "text/latex": [
       "\\begin{math}\n",
       "\\newcommand{\\Bold}[1]{\\mathbf{#1}}\\left(\\begin{array}{rrr}\n",
       "x & 0 & 0 \\\\\n",
       "0 & x & 0 \\\\\n",
       "0 & 0 & x\n",
       "\\end{array}\\right)\n",
       "\\end{math}"
      ],
      "text/plain": [
       "[x 0 0]\n",
       "[0 x 0]\n",
       "[0 0 x]"
      ]
     },
     "metadata": {},
     "output_type": "display_data"
    },
    {
     "name": "stdout",
     "output_type": "stream",
     "text": [
      "[16, 1, 0]\n",
      "-((x - 3)^2 - 9)*(x - 11) + 50*x\n",
      "-(x - 1)*(x - 16)*x\n"
     ]
    }
   ],
   "source": [
    "i = identity_matrix(C.rank())\n",
    "i = identity_matrix(3)\n",
    "X = i*x\n",
    "show(X)\n",
    "print(C.eigenvalues())\n",
    "car_poly = (C-X).det()\n",
    "print((C-X).det()) \n",
    "print(car_poly.factor())"
   ]
  },
  {
   "cell_type": "code",
   "execution_count": null,
   "metadata": {},
   "outputs": [],
   "source": []
  },
  {
   "cell_type": "markdown",
   "metadata": {},
   "source": [
    ".charpoly()  \n",
    ".factor()  \n",
    ".roots()  \n",
    ".eigenvalues()  \n",
    "\n",
    "calcul des sous-espace propre  \n",
    ".right_kernel  \n",
    ".basis()[0] #avoir le vecteur propre  \n",
    "\n",
    ".eigenspaces_right()  \n",
    "\n",
    "matrice D  \n",
    ".eigenmatrix_right()[0]  \n",
    "matrice P  \n",
    ".eigenmatrix_right()[1]  \n",
    "ou a la main,  \n",
    "matrix([e1,...,en]).transpose()"
   ]
  },
  {
   "cell_type": "markdown",
   "metadata": {},
   "source": [
    "- methode de diagonalisation\n",
    "- calcul du determinant\n",
    "- factoriser un polynome\n",
    "- calcul du noyau / resolution de systeme\n",
    "- inverser une matrice\n"
   ]
  },
  {
   "cell_type": "code",
   "execution_count": null,
   "metadata": {},
   "outputs": [],
   "source": []
  },
  {
   "cell_type": "code",
   "execution_count": null,
   "metadata": {},
   "outputs": [],
   "source": []
  },
  {
   "cell_type": "code",
   "execution_count": 1,
   "metadata": {},
   "outputs": [
    {
     "data": {
      "text/html": [
       "<html><script type=\"math/tex; mode=display\">\\newcommand{\\Bold}[1]{\\mathbf{#1}}4</script></html>"
      ],
      "text/plain": [
       "4"
      ]
     },
     "metadata": {},
     "output_type": "display_data"
    }
   ],
   "source": [
    "A = matrix([\n",
    "    [3,0,4]\n",
    "    ,[3,-4,12]\n",
    "    ,[1,-2,5]])\n",
    "show(A.det())"
   ]
  },
  {
   "cell_type": "code",
   "execution_count": 6,
   "metadata": {},
   "outputs": [
    {
     "data": {
      "text/plain": [
       "x^3 - 4*x^2 + 3*x - 4"
      ]
     },
     "execution_count": 6,
     "metadata": {},
     "output_type": "execute_result"
    }
   ],
   "source": [
    "A.charpoly()"
   ]
  },
  {
   "cell_type": "code",
   "execution_count": 8,
   "metadata": {},
   "outputs": [
    {
     "data": {
      "text/html": [
       "<html><script type=\"math/tex; mode=display\">\\newcommand{\\Bold}[1]{\\mathbf{#1}}\\left(\\begin{array}{rr}\n",
       "1 & 2 \\\\\n",
       "3 & 2\n",
       "\\end{array}\\right)</script></html>"
      ],
      "text/plain": [
       "[1 2]\n",
       "[3 2]"
      ]
     },
     "metadata": {},
     "output_type": "display_data"
    },
    {
     "data": {
      "text/html": [
       "<html><script type=\"math/tex; mode=display\">\\newcommand{\\Bold}[1]{\\mathbf{#1}}\\left(\\begin{array}{rr}\n",
       "4 & 0 \\\\\n",
       "0 & -1\n",
       "\\end{array}\\right)</script></html>"
      ],
      "text/plain": [
       "[ 4  0]\n",
       "[ 0 -1]"
      ]
     },
     "metadata": {},
     "output_type": "display_data"
    },
    {
     "data": {
      "text/html": [
       "<html><script type=\"math/tex; mode=display\">\\newcommand{\\Bold}[1]{\\mathbf{#1}}\\left(\\begin{array}{rr}\n",
       "1 & 1 \\\\\n",
       "\\frac{3}{2} & -1\n",
       "\\end{array}\\right)</script></html>"
      ],
      "text/plain": [
       "[  1   1]\n",
       "[3/2  -1]"
      ]
     },
     "metadata": {},
     "output_type": "display_data"
    }
   ],
   "source": [
    "a = matrix([[1,2],[3,2]])\n",
    "show(a)\n",
    "show(a.eigenmatrix_right()[0])\n",
    "show(a.eigenmatrix_right()[1])"
   ]
  },
  {
   "cell_type": "code",
   "execution_count": 9,
   "metadata": {},
   "outputs": [
    {
     "data": {
      "text/html": [
       "<html><script type=\"math/tex; mode=display\">\\newcommand{\\Bold}[1]{\\mathbf{#1}}\\verb|A| \\left(\\begin{array}{rr}\n",
       "\\frac{3}{10} & \\frac{7}{10} \\\\\n",
       "\\frac{3}{5} & \\frac{2}{5}\n",
       "\\end{array}\\right)</script></html>"
      ],
      "text/plain": [
       "'A' [3/10 7/10]\n",
       "[ 3/5  2/5]"
      ]
     },
     "metadata": {},
     "output_type": "display_data"
    },
    {
     "data": {
      "text/html": [
       "<html><script type=\"math/tex; mode=display\">\\newcommand{\\Bold}[1]{\\mathbf{#1}}\\verb|PDP^-1|\\phantom{\\verb!x!}\\verb|=| \\left(\\begin{array}{rr}\n",
       "1 & 1 \\\\\n",
       "1 & -\\frac{6}{7}\n",
       "\\end{array}\\right) \\left(\\begin{array}{rr}\n",
       "1 & 0 \\\\\n",
       "0 & -\\frac{3}{10}\n",
       "\\end{array}\\right) \\left(\\begin{array}{rr}\n",
       "\\frac{6}{13} & \\frac{7}{13} \\\\\n",
       "\\frac{7}{13} & -\\frac{7}{13}\n",
       "\\end{array}\\right)</script></html>"
      ],
      "text/plain": [
       "'PDP^-1 = ' [   1    1]\n",
       "[   1 -6/7] [    1     0]\n",
       "[    0 -3/10] [ 6/13  7/13]\n",
       "[ 7/13 -7/13]"
      ]
     },
     "metadata": {},
     "output_type": "display_data"
    },
    {
     "data": {
      "text/html": [
       "<html><script type=\"math/tex; mode=display\">\\newcommand{\\Bold}[1]{\\mathbf{#1}}\\verb|à|\\phantom{\\verb!x!}\\verb|la|\\phantom{\\verb!x!}\\verb|puissance|\\phantom{\\verb!x!}\\verb|n|\\phantom{\\verb!x!}\\verb|:|</script></html>"
      ],
      "text/plain": [
       "'à la puissance n :'"
      ]
     },
     "metadata": {},
     "output_type": "display_data"
    },
    {
     "data": {
      "text/html": [
       "<html><script type=\"math/tex; mode=display\">\\newcommand{\\Bold}[1]{\\mathbf{#1}}\\left(\\begin{array}{rr}\n",
       "\\frac{7 \\, \\left(-3\\right)^{n}}{13 \\cdot 10^{n}} + \\frac{6}{13} & -\\frac{7 \\, \\left(-3\\right)^{n}}{13 \\cdot 10^{n}} + \\frac{7}{13} \\\\\n",
       "-\\frac{6 \\, \\left(-3\\right)^{n}}{13 \\cdot 10^{n}} + \\frac{6}{13} & \\frac{6 \\, \\left(-3\\right)^{n}}{13 \\cdot 10^{n}} + \\frac{7}{13}\n",
       "\\end{array}\\right)</script></html>"
      ],
      "text/plain": [
       "[ 7/13*(-3)^n/10^n + 6/13 -7/13*(-3)^n/10^n + 7/13]\n",
       "[-6/13*(-3)^n/10^n + 6/13  6/13*(-3)^n/10^n + 7/13]"
      ]
     },
     "metadata": {},
     "output_type": "display_data"
    }
   ],
   "source": [
    "#la matrice initial\n",
    "A = matrix(QQ,[\n",
    "    [0.3,0.7],\n",
    "    [0.6,0.4]\n",
    "])\n",
    "show(\"A\",A)\n",
    "D = A.eigenmatrix_right()[0]\n",
    "P = A.eigenmatrix_right()[1]\n",
    "P1 = P^-1\n",
    "#la matrice semblable à A\n",
    "show(\"PDP^-1 = \",P,D,P1)\n",
    "\n",
    "var('n')\n",
    "#definir la valeur de la puissance de n\n",
    "k = n\n",
    "show(\"à la puissance \"+str(k)+\" :\")\n",
    "pretty_print(P*D^k*P1)"
   ]
  },
  {
   "cell_type": "code",
   "execution_count": 10,
   "metadata": {},
   "outputs": [
    {
     "data": {
      "text/html": [
       "<html><script type=\"math/tex; mode=display\">\\newcommand{\\Bold}[1]{\\mathbf{#1}}\\left(\\begin{array}{rr}\n",
       "\\frac{6}{13} & \\frac{7}{13} \\\\\n",
       "\\frac{7}{13} & -\\frac{7}{13}\n",
       "\\end{array}\\right)</script></html>"
      ],
      "text/plain": [
       "[ 6/13  7/13]\n",
       "[ 7/13 -7/13]"
      ]
     },
     "metadata": {},
     "output_type": "display_data"
    },
    {
     "data": {
      "text/html": [
       "<html><script type=\"math/tex; mode=display\">\\newcommand{\\Bold}[1]{\\mathbf{#1}}\\left(\\frac{3}{5} \\, d + \\frac{3}{10} \\, r,\\,\\frac{2}{5} \\, d + \\frac{7}{10} \\, r\\right)</script></html>"
      ],
      "text/plain": [
       "(3/5*d + 3/10*r, 2/5*d + 7/10*r)"
      ]
     },
     "metadata": {},
     "output_type": "display_data"
    }
   ],
   "source": [
    "M = matrix(QQ,[\n",
    "    [0.3,0.7],\n",
    "    [0.6,0.4]\n",
    "])\n",
    "var('r')\n",
    "var('d')\n",
    "X= vector([r,d])\n",
    "\n",
    "X2 = X*M\n",
    "\n",
    "show(M.eigenmatrix_right()[1].inverse())\n",
    "\n",
    "\n",
    "show(X2)"
   ]
  },
  {
   "cell_type": "code",
   "execution_count": null,
   "metadata": {},
   "outputs": [],
   "source": []
  }
 ],
 "metadata": {
  "kernelspec": {
   "display_name": "SageMath 9.0",
   "language": "sage",
   "name": "sagemath"
  },
  "language_info": {
   "codemirror_mode": {
    "name": "ipython",
    "version": 3
   },
   "file_extension": ".py",
   "mimetype": "text/x-python",
   "name": "python",
   "nbconvert_exporter": "python",
   "pygments_lexer": "ipython3",
   "version": "3.8.10"
  }
 },
 "nbformat": 4,
 "nbformat_minor": 4
}
