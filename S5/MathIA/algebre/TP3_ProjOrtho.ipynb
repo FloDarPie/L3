{
 "cells": [
  {
   "cell_type": "markdown",
   "metadata": {},
   "source": [
    "# TP n°2"
   ]
  },
  {
   "cell_type": "markdown",
   "metadata": {},
   "source": [
    "v = vector([...])  \n",
    "v.norm()  \n",
    "v.dot_product(u)         *produit scalaire*"
   ]
  },
  {
   "cell_type": "markdown",
   "metadata": {},
   "source": [
    "premier essai\n"
   ]
  },
  {
   "cell_type": "code",
   "execution_count": 1,
   "metadata": {},
   "outputs": [
    {
     "data": {
      "text/plain": [
       "14"
      ]
     },
     "execution_count": 1,
     "metadata": {},
     "output_type": "execute_result"
    }
   ],
   "source": [
    "u = vector([1,2,3])\n",
    "u.dot_product(u)"
   ]
  },
  {
   "cell_type": "code",
   "execution_count": 2,
   "metadata": {},
   "outputs": [
    {
     "name": "stdout",
     "output_type": "stream",
     "text": [
      "3*sqrt(3)\n",
      "sqrt(15)\n",
      "7\n",
      "7\n"
     ]
    }
   ],
   "source": [
    "u = vector([-1,0,1,5])\n",
    "v = vector([1,2,3,1])\n",
    "print(u.norm())\n",
    "print(v.norm())\n",
    "print(u*v)\n",
    "print(u.dot_product(v))\n"
   ]
  },
  {
   "cell_type": "markdown",
   "metadata": {},
   "source": [
    "Calcul du projeté orthogonal Y de X sur F=vect{...}\n",
    "\n",
    "C'est l'unique vecteur de F, tq X-Y _|_ F\n",
    "\n",
    "- Y €F donc Y = (produit avec une base de F)\n",
    "- X-Y _|_ F ssi X-Y _|_ ei\n",
    "-- (X-Y|ei)\n",
    "-- (Y _|_ ei) = (X _|_ ei)\n",
    "-- (y1e1 ... ypep | ei) = (X _|_ ei)\n",
    "\n",
    "systeme des equations normales  \n",
    "--- y1(e1|e1) +...+ yp(ep|e1) = (X|e1)  \n",
    "--- y1(e1|e2) +...+ yp(ep|e2) = (X|e2)  \n",
    "--- .  \n",
    "--- .  \n",
    "--- .  \n",
    "--- y1(e1|ep) +...+ yp(ep|ep) = (X|ep)"
   ]
  },
  {
   "cell_type": "markdown",
   "metadata": {},
   "source": [
    "Donc, étant donné X et B, base de F\n",
    "- construire Z\n",
    "- construire A\n",
    "- resoudre A*vector([y1, y2, ..., yp]) = Z\n",
    "- construire Y = y1e1+...+ypep\n",
    "-- return Y\n"
   ]
  },
  {
   "cell_type": "code",
   "execution_count": 3,
   "metadata": {},
   "outputs": [
    {
     "name": "stdout",
     "output_type": "stream",
     "text": [
      "(-1, 1)\n"
     ]
    }
   ],
   "source": [
    "X = vector([1,2,1])\n",
    "B = [vector([1,-1,0]),\n",
    "    vector([0,1,-1])]\n",
    "\n",
    "Z = []\n",
    "\n",
    "#construction de Z\n",
    "for e in B:\n",
    "    Z.append(X.dot_product(e))\n",
    "Z=vector(Z)\n",
    "print(Z)"
   ]
  },
  {
   "cell_type": "code",
   "execution_count": 4,
   "metadata": {},
   "outputs": [
    {
     "name": "stdout",
     "output_type": "stream",
     "text": [
      "[ 2 -1]\n",
      "[-1  2]\n"
     ]
    }
   ],
   "source": [
    "#construction de la matrice\n",
    "A = []\n",
    "\n",
    "for ei in B:\n",
    "    A.append([ei.dot_product(ej) for ej in B])\n",
    "\n",
    "# matrix([[e.dot_product(f) for e in B] for f in B])\n",
    "\n",
    "A = matrix(A)\n",
    "print(A)"
   ]
  },
  {
   "cell_type": "code",
   "execution_count": 5,
   "metadata": {},
   "outputs": [
    {
     "name": "stdout",
     "output_type": "stream",
     "text": [
      "(-1/3, 1/3)\n",
      "(-1/3, 1/3)\n"
     ]
    }
   ],
   "source": [
    "#resoudre A*vector(y1...yp)=Z\n",
    "\n",
    "Yprime = A^-1*Z\n",
    "\n",
    "Ytempo=A.solve_right(Z)\n",
    "print(Yprime)\n",
    "print(Ytempo)"
   ]
  },
  {
   "cell_type": "code",
   "execution_count": 6,
   "metadata": {},
   "outputs": [
    {
     "data": {
      "text/html": [
       "<html><script type=\"math/tex; mode=display\">\\newcommand{\\Bold}[1]{\\mathbf{#1}}\\left(-\\frac{1}{3},\\,\\frac{2}{3},\\,-\\frac{1}{3}\\right)</script></html>"
      ],
      "text/plain": [
       "(-1/3, 2/3, -1/3)"
      ]
     },
     "metadata": {},
     "output_type": "display_data"
    }
   ],
   "source": [
    "#return Y = y1e1 +...+ ypep\n",
    "Y=vector([0]*len(X)) #Y = 0*X\n",
    "for e in range(len(B)):\n",
    "    Y+=vector(Yprime[e]*B[e])\n",
    "show(Y)\n"
   ]
  },
  {
   "cell_type": "code",
   "execution_count": 7,
   "metadata": {},
   "outputs": [
    {
     "data": {
      "text/plain": [
       "(-1/3, 2/3, -1/3)"
      ]
     },
     "execution_count": 7,
     "metadata": {},
     "output_type": "execute_result"
    }
   ],
   "source": [
    "#algo global\n",
    "#avec le vecteur et la base de l'espace fourni\n",
    "X = vector([1,2,1])\n",
    "B = [vector([1,-1,0]),\n",
    "    vector([0,1,-1])]\n",
    "\n",
    "\n",
    "def projetOrthogonal(X,B):\n",
    "    #construction de Z\n",
    "    Z = []\n",
    "    for e in B:\n",
    "        Z.append(X.dot_product(e))\n",
    "    Z=vector(Z)\n",
    "    # show(\"Z\",Z)\n",
    "\n",
    "    #construction de la matrice\n",
    "    A = []\n",
    "    A = matrix([[e.dot_product(f) for e in B] for f in B])\n",
    "    # show(\"A\",A)\n",
    "\n",
    "    #resoudre A*vector(y1...yp)=Z\n",
    "    Yprime=A.solve_right(Z)\n",
    "    #show(Yprime)\n",
    "\n",
    "    #return Y = y1e1 +...+ ypep\n",
    "    Y=vector([0]*len(X))\n",
    "    for e in range(len(B)):\n",
    "        Y+=vector(Yprime[e]*B[e])\n",
    "    \n",
    "    # show(\"Z\",Z)\n",
    "    # show(\"A\",A)\n",
    "    # show(\"(y1,.., yp)\",Yprime)\n",
    "    # show(Y)\n",
    "    return Y\n",
    "projetOrthogonal(X,B)"
   ]
  },
  {
   "cell_type": "markdown",
   "metadata": {},
   "source": [
    "# Et voici la fonction"
   ]
  },
  {
   "cell_type": "code",
   "execution_count": 8,
   "metadata": {},
   "outputs": [],
   "source": [
    "def projetOrthogonal(X,B):\n",
    "    Z = []\n",
    "    for e in B:\n",
    "        Z.append(X.dot_product(e))\n",
    "    Z=vector(Z)\n",
    "    A = []\n",
    "    A = matrix([[e.dot_product(f) for e in B] for f in B])\n",
    "    Yprime=A.solve_right(Z)\n",
    "    Y=vector([0]*len(X))\n",
    "    for e in range(len(B)):\n",
    "        Y+=vector(Yprime[e]*B[e])\n",
    "    return Y"
   ]
  },
  {
   "cell_type": "markdown",
   "metadata": {},
   "source": [
    "#### cas d'une base orthogonale"
   ]
  },
  {
   "cell_type": "code",
   "execution_count": 9,
   "metadata": {},
   "outputs": [
    {
     "data": {
      "text/plain": [
       "(-1/3, 2/3, -1/3)"
      ]
     },
     "execution_count": 9,
     "metadata": {},
     "output_type": "execute_result"
    }
   ],
   "source": [
    "X = vector([1,2,1])\n",
    "B = [vector([1,-1,0]),\n",
    "    vector([1/2,1/2,-1])]\n",
    "def projetOrthoBOG(X,B):\n",
    "    #base ortogonale, alors la matrice est diagonale\n",
    "    Y=vector([0]*len(X))\n",
    "    for ei in (B):\n",
    "        Y+=((X.dot_product(ei)) / (ei.dot_product(ei))*ei)\n",
    "    return Y\n",
    "projetOrthoBOG(X,B)"
   ]
  }
 ],
 "metadata": {
  "kernelspec": {
   "display_name": "SageMath 9.0",
   "language": "sage",
   "name": "sagemath"
  },
  "language_info": {
   "codemirror_mode": {
    "name": "ipython",
    "version": 3
   },
   "file_extension": ".py",
   "mimetype": "text/x-python",
   "name": "python",
   "nbconvert_exporter": "python",
   "pygments_lexer": "ipython3",
   "version": "3.8.10"
  }
 },
 "nbformat": 4,
 "nbformat_minor": 4
}
