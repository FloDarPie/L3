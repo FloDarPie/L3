{
 "cells": [
  {
   "cell_type": "code",
   "execution_count": 2,
   "metadata": {},
   "outputs": [
    {
     "name": "stdout",
     "output_type": "stream",
     "text": [
      "Resolution d'une chaine de Markov\n",
      "\n"
     ]
    },
    {
     "data": {
      "text/html": [
       "<html><script type=\"math/tex; mode=display\">\\newcommand{\\Bold}[1]{\\mathbf{#1}}\\verb|avec|\\phantom{\\verb!x!}\\verb|cette|\\phantom{\\verb!x!}\\verb|matrice|\\phantom{\\verb!x!}\\verb|de|\\phantom{\\verb!x!}\\verb|transition,|\\phantom{\\verb!x!}\\verb|A=| \\left(\\begin{array}{rrr}\n",
       "\\frac{3}{5} & \\frac{1}{10} & \\frac{3}{10} \\\\\n",
       "\\frac{1}{5} & \\frac{3}{5} & \\frac{1}{5} \\\\\n",
       "\\frac{2}{5} & 0 & \\frac{3}{5}\n",
       "\\end{array}\\right)</script></html>"
      ],
      "text/plain": [
       "'avec cette matrice de transition, A=' [ 3/5 1/10 3/10]\n",
       "[ 1/5  3/5  1/5]\n",
       "[ 2/5    0  3/5]"
      ]
     },
     "metadata": {},
     "output_type": "display_data"
    },
    {
     "data": {
      "text/html": [
       "<html><script type=\"math/tex; mode=display\">\\newcommand{\\Bold}[1]{\\mathbf{#1}}\\verb|et|\\phantom{\\verb!x!}\\verb|ce|\\phantom{\\verb!x!}\\verb|vecteur|\\phantom{\\verb!x!}\\verb|initial|\\phantom{\\verb!x!}\\verb|:| \\left(1,\\,0,\\,0\\right)</script></html>"
      ],
      "text/plain": [
       "'et ce vecteur initial :' (1, 0, 0)"
      ]
     },
     "metadata": {},
     "output_type": "display_data"
    },
    {
     "name": "stdout",
     "output_type": "stream",
     "text": [
      "\n",
      "Voici la diagonalisation de A, PDP^-1= \n"
     ]
    },
    {
     "data": {
      "text/html": [
       "<html><script type=\"math/tex; mode=display\">\\newcommand{\\Bold}[1]{\\mathbf{#1}}\\left(\\begin{array}{rrr}\n",
       "1 & 1 & 1 \\\\\n",
       "1 & 0.1005050633883347? & 19.89949493661167? \\\\\n",
       "1 & -1.171572875253810? & -6.828427124746190?\n",
       "\\end{array}\\right) \\left(\\begin{array}{rrr}\n",
       "1 & 0 & 0 \\\\\n",
       "0 & 0.2585786437626905? & 0 \\\\\n",
       "0 & 0 & 0.5414213562373095?\n",
       "\\end{array}\\right) \\left(\\begin{array}{rrr}\n",
       "0.4705882352941177? & 0.11764705882352942? & 0.4117647058823530? \\\\\n",
       "0.5558674981356372? & -0.1628098207627276? & -0.3930576773729096? \\\\\n",
       "-0.02645573342975487? & 0.04516276193919816? & -0.01870702850944331?\n",
       "\\end{array}\\right)</script></html>"
      ],
      "text/plain": [
       "[                  1                   1                   1]\n",
       "[                  1 0.1005050633883347?  19.89949493661167?]\n",
       "[                  1 -1.171572875253810? -6.828427124746190?] [                  1                   0                   0]\n",
       "[                  0 0.2585786437626905?                   0]\n",
       "[                  0                   0 0.5414213562373095?] [  0.4705882352941177?  0.11764705882352942?   0.4117647058823530?]\n",
       "[  0.5558674981356372?  -0.1628098207627276?  -0.3930576773729096?]\n",
       "[-0.02645573342975487?  0.04516276193919816? -0.01870702850944331?]"
      ]
     },
     "metadata": {},
     "output_type": "display_data"
    },
    {
     "data": {
      "text/html": [
       "<html><script type=\"math/tex; mode=display\">\\newcommand{\\Bold}[1]{\\mathbf{#1}}\\left(\\begin{array}{rrr}\n",
       "1 & 0 & 0 \\\\\n",
       "0 & \\left(\\frac{1}{10} \\, \\sqrt{2} {\\left(2 \\, \\sqrt{2} - 1\\right)}\\right)^{k} & 0 \\\\\n",
       "0 & 0 & \\left(\\frac{1}{10} \\, \\sqrt{2} {\\left(2 \\, \\sqrt{2} + 1\\right)}\\right)^{k}\n",
       "\\end{array}\\right)</script></html>"
      ],
      "text/plain": [
       "[                               1                                0                                0]\n",
       "[                               0 (1/10*sqrt(2)*(2*sqrt(2) - 1))^k                                0]\n",
       "[                               0                                0 (1/10*sqrt(2)*(2*sqrt(2) + 1))^k]"
      ]
     },
     "metadata": {},
     "output_type": "display_data"
    },
    {
     "data": {
      "text/html": [
       "<html><script type=\"math/tex; mode=display\">\\newcommand{\\Bold}[1]{\\mathbf{#1}}\\verb|Donc|\\phantom{\\verb!x!}\\verb|Xk| \\left(-0.02645573342975487? \\, \\left(\\frac{1}{10} \\, \\sqrt{2} {\\left(2 \\, \\sqrt{2} + 1\\right)}\\right)^{k} + 0.5558674981356372? \\, \\left(\\frac{1}{10} \\, \\sqrt{2} {\\left(2 \\, \\sqrt{2} - 1\\right)}\\right)^{k} + 0.4705882352941177?,\\,0.04516276193919816? \\, \\left(\\frac{1}{10} \\, \\sqrt{2} {\\left(2 \\, \\sqrt{2} + 1\\right)}\\right)^{k} - 0.1628098207627276? \\, \\left(\\frac{1}{10} \\, \\sqrt{2} {\\left(2 \\, \\sqrt{2} - 1\\right)}\\right)^{k} + 0.11764705882352942?,\\,-0.01870702850944331? \\, \\left(\\frac{1}{10} \\, \\sqrt{2} {\\left(2 \\, \\sqrt{2} + 1\\right)}\\right)^{k} - 0.3930576773729096? \\, \\left(\\frac{1}{10} \\, \\sqrt{2} {\\left(2 \\, \\sqrt{2} - 1\\right)}\\right)^{k} + 0.4117647058823530?\\right)</script></html>"
      ],
      "text/plain": [
       "'Donc Xk' (-0.02645573342975487?*(1/10*sqrt(2)*(2*sqrt(2) + 1))^k + 0.5558674981356372?*(1/10*sqrt(2)*(2*sqrt(2) - 1))^k + 0.4705882352941177?, 0.04516276193919816?*(1/10*sqrt(2)*(2*sqrt(2) + 1))^k - 0.1628098207627276?*(1/10*sqrt(2)*(2*sqrt(2) - 1))^k + 0.11764705882352942?, -0.01870702850944331?*(1/10*sqrt(2)*(2*sqrt(2) + 1))^k - 0.3930576773729096?*(1/10*sqrt(2)*(2*sqrt(2) - 1))^k + 0.4117647058823530?)"
      ]
     },
     "metadata": {},
     "output_type": "display_data"
    },
    {
     "name": "stdout",
     "output_type": "stream",
     "text": [
      "Choisir un nombre k : 10\n",
      "Pour  10\n"
     ]
    },
    {
     "data": {
      "text/html": [
       "<html><script type=\"math/tex; mode=display\">\\newcommand{\\Bold}[1]{\\mathbf{#1}}\\left(0.470531715200000,\\,0.117744595200000,\\,0.411723689600000\\right)</script></html>"
      ],
      "text/plain": [
       "(0.470531715200000, 0.117744595200000, 0.411723689600000)"
      ]
     },
     "metadata": {},
     "output_type": "display_data"
    }
   ],
   "source": [
    "print(\"Resolution d'une chaine de Markov\\n\")\n",
    "\n",
    "M = matrix(QQ,[\n",
    "    [0.6,0.1,0.3],\n",
    "    [0.2,0.6,0.2],\n",
    "    [0.4,0.0,0.6]\n",
    "])\n",
    "XO = vector([1,0,0])\n",
    "\n",
    "show(\"avec cette matrice de transition, A=\", M)\n",
    "show(\"et ce vecteur initial :\", XO)\n",
    "\n",
    "D = M.eigenmatrix_right()[0]\n",
    "P = M.eigenmatrix_right()[1]\n",
    "P1 = (P^-1)\n",
    "print(\"\\nVoici la diagonalisation de A, PDP^-1= \")\n",
    "show(P,D,P1)\n",
    "\n",
    "var('k')\n",
    "#print(\"\\n\\nAinsi, A^k =\")\n",
    "show(D^k)\n",
    "\n",
    "#show(P*D^k*P1)\n",
    "\n",
    "expression = XO*P*D^k*P1\n",
    "show(\"Donc Xk\",expression)\n",
    "\n",
    "k=int(input('Choisir un nombre k : '))\n",
    "\n",
    "\n",
    "resultat = XO*P*D^k*P1\n",
    "print(\"Pour \",k)\n",
    "show(n(resultat))"
   ]
  },
  {
   "cell_type": "code",
   "execution_count": null,
   "metadata": {},
   "outputs": [],
   "source": []
  }
 ],
 "metadata": {
  "kernelspec": {
   "display_name": "SageMath 9.0",
   "language": "sage",
   "name": "sagemath"
  },
  "language_info": {
   "codemirror_mode": {
    "name": "ipython",
    "version": 3
   },
   "file_extension": ".py",
   "mimetype": "text/x-python",
   "name": "python",
   "nbconvert_exporter": "python",
   "pygments_lexer": "ipython3",
   "version": "3.8.10"
  }
 },
 "nbformat": 4,
 "nbformat_minor": 4
}
