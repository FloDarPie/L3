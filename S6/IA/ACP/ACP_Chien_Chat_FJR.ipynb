{
 "cells": [
  {
   "cell_type": "code",
   "execution_count": 4,
   "metadata": {},
   "outputs": [],
   "source": [
    "import numpy as np\n",
    "import pandas as pd\n",
    "import matplotlib\n",
    "import matplotlib.pyplot as plt\n",
    "\n",
    "from utilities import *"
   ]
  },
  {
   "cell_type": "code",
   "execution_count": 5,
   "metadata": {},
   "outputs": [],
   "source": [
    "X, y, Xtest, yt = load_data() "
   ]
  },
  {
   "cell_type": "code",
   "execution_count": 6,
   "metadata": {},
   "outputs": [
    {
     "data": {
      "text/plain": [
       "(1000, 64, 64)"
      ]
     },
     "execution_count": 6,
     "metadata": {},
     "output_type": "execute_result"
    }
   ],
   "source": [
    "X.shape"
   ]
  },
  {
   "cell_type": "code",
   "execution_count": 11,
   "metadata": {},
   "outputs": [
    {
     "data": {
      "text/plain": [
       "(1000, 4096)"
      ]
     },
     "execution_count": 11,
     "metadata": {},
     "output_type": "execute_result"
    }
   ],
   "source": [
    "Xr=X.reshape(X.shape[0],X.shape[1]*X.shape[2])\n",
    "Xr.shape #1000 images et 4096 observations"
   ]
  },
  {
   "cell_type": "code",
   "execution_count": 12,
   "metadata": {},
   "outputs": [
    {
     "data": {
      "text/plain": [
       "(1000, 1)"
      ]
     },
     "execution_count": 12,
     "metadata": {},
     "output_type": "execute_result"
    }
   ],
   "source": [
    "y.shape #à chaque image, si un chien ou chat\n",
    "\n",
    "#   0 _ chat\n",
    "#   1 _ chien"
   ]
  },
  {
   "cell_type": "code",
   "execution_count": 15,
   "metadata": {},
   "outputs": [],
   "source": [
    "# etape 1 : avoir la matrice de correlation\n",
    "Cor=np.corrcoef(Xr)"
   ]
  },
  {
   "cell_type": "code",
   "execution_count": 16,
   "metadata": {},
   "outputs": [],
   "source": [
    "# etape 2 : déterminer ses valeurs propres\n",
    "vals_propres,P = np.linalg.eig(Cor)"
   ]
  },
  {
   "cell_type": "code",
   "execution_count": 17,
   "metadata": {},
   "outputs": [
    {
     "name": "stdout",
     "output_type": "stream",
     "text": [
      "inertie : 1000.000000000001\n",
      "inertie composante principale : 0.1403882304823108\n",
      "inertie plan principal 0.2375208983053297\n"
     ]
    }
   ],
   "source": [
    "# Calculer l'inertie de la composante principale et du plan principal\n",
    "inertie = sum(vals_propres)\n",
    "inertie_cp = vals_propres[0]/inertie\n",
    "inertie_pp = (vals_propres[0]+vals_propres[1])/inertie\n",
    "print(\"inertie :\",inertie)\n",
    "print(\"inertie composante principale :\", inertie_cp)\n",
    "print(\"inertie plan principal\", inertie_pp)"
   ]
  },
  {
   "cell_type": "code",
   "execution_count": 18,
   "metadata": {},
   "outputs": [
    {
     "data": {
      "text/plain": [
       "Text(0.5, 1.0, 'Ebouli des valeurs propres')"
      ]
     },
     "execution_count": 18,
     "metadata": {},
     "output_type": "execute_result"
    },
    {
     "data": {
      "image/png": "[encoded data removed]",
      "text/plain": [
       "<Figure size 432x288 with 1 Axes>"
      ]
     },
     "metadata": {
      "needs_background": "light"
     },
     "output_type": "display_data"
    }
   ],
   "source": [
    "liste = [i for i in range(1000)] \n",
    "\n",
    "plt.scatter(liste,vals_propres)\n",
    "plt.plot(liste,vals_propres)\n",
    "plt.title(\"Ebouli des valeurs propres\")"
   ]
  },
  {
   "cell_type": "code",
   "execution_count": 20,
   "metadata": {},
   "outputs": [],
   "source": [
    "# etape 3 : diagonaliser la matrice de corrélation. Soit P sa matrice de passage\n",
    "D = np.diag(vals_propres)"
   ]
  },
  {
   "cell_type": "code",
   "execution_count": 21,
   "metadata": {},
   "outputs": [],
   "source": [
    "# fonction utile\n",
    "\n",
    "def moy(X):\n",
    "    e=0\n",
    "    n=len(X)\n",
    "    for i in range(n):\n",
    "        e+=X[i]\n",
    "    return e/n\n",
    "\n",
    "def varS(X):\n",
    "    v=0\n",
    "    n=len(X)\n",
    "    m=moy(X)\n",
    "    for i in range(n):\n",
    "        v+=(X[i]-m)**2\n",
    "    return v/n\n",
    "\n",
    "def ecTypeS(X):\n",
    "    return np.sqrt(varS(X))\n"
   ]
  },
  {
   "cell_type": "code",
   "execution_count": 23,
   "metadata": {},
   "outputs": [
    {
     "ename": "KeyboardInterrupt",
     "evalue": "",
     "output_type": "error",
     "traceback": [
      "\u001b[0;31m---------------------------------------------------------------------------\u001b[0m",
      "\u001b[0;31mKeyboardInterrupt\u001b[0m                         Traceback (most recent call last)",
      "\u001b[0;32m<ipython-input-23-919fe1c59b90>\u001b[0m in \u001b[0;36m<module>\u001b[0;34m\u001b[0m\n\u001b[1;32m     10\u001b[0m     \u001b[0mmoyenne\u001b[0m \u001b[0;34m=\u001b[0m \u001b[0mmoy\u001b[0m\u001b[0;34m(\u001b[0m\u001b[0mligne\u001b[0m\u001b[0;34m)\u001b[0m\u001b[0;34m\u001b[0m\u001b[0;34m\u001b[0m\u001b[0m\n\u001b[1;32m     11\u001b[0m     \u001b[0;32mfor\u001b[0m \u001b[0mvaleur\u001b[0m \u001b[0;32min\u001b[0m \u001b[0mligne\u001b[0m \u001b[0;34m:\u001b[0m\u001b[0;34m\u001b[0m\u001b[0;34m\u001b[0m\u001b[0m\n\u001b[0;32m---> 12\u001b[0;31m         \u001b[0mL\u001b[0m\u001b[0;34m.\u001b[0m\u001b[0mappend\u001b[0m\u001b[0;34m(\u001b[0m\u001b[0;34m(\u001b[0m\u001b[0mvaleur\u001b[0m \u001b[0;34m-\u001b[0m \u001b[0mmoyenne\u001b[0m\u001b[0;34m)\u001b[0m \u001b[0;34m/\u001b[0m \u001b[0mecarttype\u001b[0m\u001b[0;34m)\u001b[0m\u001b[0;34m\u001b[0m\u001b[0;34m\u001b[0m\u001b[0m\n\u001b[0m\u001b[1;32m     13\u001b[0m         \u001b[0;32mpass\u001b[0m\u001b[0;34m\u001b[0m\u001b[0;34m\u001b[0m\u001b[0m\n\u001b[1;32m     14\u001b[0m     \u001b[0mX\u001b[0m\u001b[0;34m.\u001b[0m\u001b[0mappend\u001b[0m\u001b[0;34m(\u001b[0m\u001b[0mL\u001b[0m\u001b[0;34m)\u001b[0m\u001b[0;34m\u001b[0m\u001b[0;34m\u001b[0m\u001b[0m\n",
      "\u001b[0;31mKeyboardInterrupt\u001b[0m: "
     ]
    }
   ],
   "source": [
    "# etape 4 : centré-réduire\n",
    "\n",
    "# chaque valeur est retire la moyenne de sa ligne et divise par l ecart type de sa ligne\n",
    "# centre reduit !\n",
    "\n",
    "X = []\n",
    "for ligne in Xr :\n",
    "    L = []\n",
    "    ecarttype = ecTypeS(ligne)\n",
    "    moyenne = moy(ligne)\n",
    "    for valeur in ligne :\n",
    "        L.append((valeur - moyenne) / ecarttype)\n",
    "        pass\n",
    "    X.append(L)\n",
    "    pass\n",
    "X = np.transpose(X)\n"
   ]
  },
  {
   "cell_type": "code",
   "execution_count": null,
   "metadata": {},
   "outputs": [],
   "source": [
    "# etape 5 : construire les deux composantes principales\n",
    "C = np.dot(X,P)\n",
    "\n",
    "Ct = np.transpose(C)\n",
    "\n",
    "C1 = Ct[0]\n",
    "C2 = Ct[1]\n"
   ]
  },
  {
   "cell_type": "code",
   "execution_count": null,
   "metadata": {},
   "outputs": [],
   "source": [
    "# etape 6 : Tracé les différents véhicules suivant les deux composantes principales\n",
    "plt.scatter(C1,C2,marker='o')\n",
    "plt.xlabel('CP 1')\n",
    "plt.ylabel('CP 2')\n",
    "plt.title(\"Tracé suivant les composantes principales\")"
   ]
  },
  {
   "cell_type": "code",
   "execution_count": null,
   "metadata": {},
   "outputs": [],
   "source": []
  }
 ],
 "metadata": {
  "kernelspec": {
   "display_name": "Python 3",
   "language": "python",
   "name": "python3"
  },
  "language_info": {
   "codemirror_mode": {
    "name": "ipython",
    "version": 3
   },
   "file_extension": ".py",
   "mimetype": "text/x-python",
   "name": "python",
   "nbconvert_exporter": "python",
   "pygments_lexer": "ipython3",
   "version": "3.8.10"
  }
 },
 "nbformat": 4,
 "nbformat_minor": 4
}
